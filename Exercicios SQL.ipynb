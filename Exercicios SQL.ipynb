{
 "cells": [
  {
   "cell_type": "code",
   "execution_count": 57,
   "metadata": {
    "ExecuteTime": {
     "end_time": "2022-01-06T17:26:09.537699Z",
     "start_time": "2022-01-06T17:26:05.641461Z"
    }
   },
   "outputs": [
    {
     "name": "stdout",
     "output_type": "stream",
     "text": [
      "The sql extension is already loaded. To reload it, use:\n",
      "  %reload_ext sql\n"
     ]
    }
   ],
   "source": [
    "import pandas as pd\n",
    "import random\n",
    "\n",
    "from faker import Faker\n",
    "\n",
    "import sqlite3\n",
    "\n",
    "%load_ext sql"
   ]
  },
  {
   "cell_type": "code",
   "execution_count": 58,
   "metadata": {
    "ExecuteTime": {
     "end_time": "2022-01-06T17:26:09.569021Z",
     "start_time": "2022-01-06T17:26:09.566016Z"
    }
   },
   "outputs": [],
   "source": [
    "N_PRODUTOS = 100\n",
    "N_CLIENTES = 20\n",
    "N_COMPRAS = 500"
   ]
  },
  {
   "cell_type": "code",
   "execution_count": 59,
   "metadata": {
    "ExecuteTime": {
     "end_time": "2022-01-06T17:26:09.879248Z",
     "start_time": "2022-01-06T17:26:09.601517Z"
    }
   },
   "outputs": [
    {
     "data": {
      "text/plain": [
       "'Sofia Teixeira'"
      ]
     },
     "execution_count": 59,
     "metadata": {},
     "output_type": "execute_result"
    }
   ],
   "source": [
    "faker = Faker('pt_BR')\n",
    "faker.name()"
   ]
  },
  {
   "cell_type": "code",
   "execution_count": 60,
   "metadata": {
    "ExecuteTime": {
     "end_time": "2022-01-06T17:26:09.920696Z",
     "start_time": "2022-01-06T17:26:09.901211Z"
    }
   },
   "outputs": [
    {
     "data": {
      "text/plain": [
       "<sqlite3.Connection at 0x137d96f5300>"
      ]
     },
     "execution_count": 60,
     "metadata": {},
     "output_type": "execute_result"
    }
   ],
   "source": [
    "db = sqlite3.connect('TesteSQL.db')\n",
    "db"
   ]
  },
  {
   "cell_type": "code",
   "execution_count": 61,
   "metadata": {
    "ExecuteTime": {
     "end_time": "2022-01-06T17:26:10.013760Z",
     "start_time": "2022-01-06T17:26:09.949200Z"
    }
   },
   "outputs": [],
   "source": [
    "%sql sqlite:///TesteSQL.db"
   ]
  },
  {
   "cell_type": "code",
   "execution_count": 62,
   "metadata": {
    "ExecuteTime": {
     "end_time": "2022-01-06T17:26:10.071698Z",
     "start_time": "2022-01-06T17:26:10.040696Z"
    }
   },
   "outputs": [
    {
     "data": {
      "text/html": [
       "<div>\n",
       "<style scoped>\n",
       "    .dataframe tbody tr th:only-of-type {\n",
       "        vertical-align: middle;\n",
       "    }\n",
       "\n",
       "    .dataframe tbody tr th {\n",
       "        vertical-align: top;\n",
       "    }\n",
       "\n",
       "    .dataframe thead th {\n",
       "        text-align: right;\n",
       "    }\n",
       "</style>\n",
       "<table border=\"1\" class=\"dataframe\">\n",
       "  <thead>\n",
       "    <tr style=\"text-align: right;\">\n",
       "      <th></th>\n",
       "      <th>produto</th>\n",
       "      <th>preço</th>\n",
       "    </tr>\n",
       "  </thead>\n",
       "  <tbody>\n",
       "    <tr>\n",
       "      <th>0</th>\n",
       "      <td>prod 00</td>\n",
       "      <td>1.00</td>\n",
       "    </tr>\n",
       "    <tr>\n",
       "      <th>1</th>\n",
       "      <td>prod 01</td>\n",
       "      <td>7.85</td>\n",
       "    </tr>\n",
       "    <tr>\n",
       "      <th>2</th>\n",
       "      <td>prod 02</td>\n",
       "      <td>7.56</td>\n",
       "    </tr>\n",
       "    <tr>\n",
       "      <th>3</th>\n",
       "      <td>prod 03</td>\n",
       "      <td>6.07</td>\n",
       "    </tr>\n",
       "    <tr>\n",
       "      <th>4</th>\n",
       "      <td>prod 04</td>\n",
       "      <td>6.55</td>\n",
       "    </tr>\n",
       "  </tbody>\n",
       "</table>\n",
       "</div>"
      ],
      "text/plain": [
       "   produto  preço\n",
       "0  prod 00   1.00\n",
       "1  prod 01   7.85\n",
       "2  prod 02   7.56\n",
       "3  prod 03   6.07\n",
       "4  prod 04   6.55"
      ]
     },
     "execution_count": 62,
     "metadata": {},
     "output_type": "execute_result"
    }
   ],
   "source": [
    "produtos = pd.DataFrame([[f'prod {i:02}', round(random.random() * 10, 2)] \n",
    "                         for i in range(N_PRODUTOS)], \n",
    "                        columns=['produto', 'preço'])\n",
    "produtos.head()"
   ]
  },
  {
   "cell_type": "code",
   "execution_count": 63,
   "metadata": {
    "ExecuteTime": {
     "end_time": "2022-01-06T17:26:10.161233Z",
     "start_time": "2022-01-06T17:26:10.123198Z"
    }
   },
   "outputs": [],
   "source": [
    "produtos.to_sql('produtos', db, index_label='id', if_exists='replace')"
   ]
  },
  {
   "cell_type": "code",
   "execution_count": 64,
   "metadata": {
    "ExecuteTime": {
     "end_time": "2022-01-06T17:26:12.231141Z",
     "start_time": "2022-01-06T17:26:12.218140Z"
    }
   },
   "outputs": [
    {
     "data": {
      "text/html": [
       "<div>\n",
       "<style scoped>\n",
       "    .dataframe tbody tr th:only-of-type {\n",
       "        vertical-align: middle;\n",
       "    }\n",
       "\n",
       "    .dataframe tbody tr th {\n",
       "        vertical-align: top;\n",
       "    }\n",
       "\n",
       "    .dataframe thead th {\n",
       "        text-align: right;\n",
       "    }\n",
       "</style>\n",
       "<table border=\"1\" class=\"dataframe\">\n",
       "  <thead>\n",
       "    <tr style=\"text-align: right;\">\n",
       "      <th></th>\n",
       "      <th>produto</th>\n",
       "      <th>preço</th>\n",
       "    </tr>\n",
       "    <tr>\n",
       "      <th>id</th>\n",
       "      <th></th>\n",
       "      <th></th>\n",
       "    </tr>\n",
       "  </thead>\n",
       "  <tbody>\n",
       "    <tr>\n",
       "      <th>0</th>\n",
       "      <td>prod 00</td>\n",
       "      <td>1.00</td>\n",
       "    </tr>\n",
       "    <tr>\n",
       "      <th>1</th>\n",
       "      <td>prod 01</td>\n",
       "      <td>7.85</td>\n",
       "    </tr>\n",
       "    <tr>\n",
       "      <th>2</th>\n",
       "      <td>prod 02</td>\n",
       "      <td>7.56</td>\n",
       "    </tr>\n",
       "    <tr>\n",
       "      <th>3</th>\n",
       "      <td>prod 03</td>\n",
       "      <td>6.07</td>\n",
       "    </tr>\n",
       "    <tr>\n",
       "      <th>4</th>\n",
       "      <td>prod 04</td>\n",
       "      <td>6.55</td>\n",
       "    </tr>\n",
       "  </tbody>\n",
       "</table>\n",
       "</div>"
      ],
      "text/plain": [
       "    produto  preço\n",
       "id                \n",
       "0   prod 00   1.00\n",
       "1   prod 01   7.85\n",
       "2   prod 02   7.56\n",
       "3   prod 03   6.07\n",
       "4   prod 04   6.55"
      ]
     },
     "execution_count": 64,
     "metadata": {},
     "output_type": "execute_result"
    }
   ],
   "source": [
    "pd.read_sql(\"SELECT * FROM produtos;\", db, 'id').head()"
   ]
  },
  {
   "cell_type": "code",
   "execution_count": 65,
   "metadata": {
    "ExecuteTime": {
     "end_time": "2022-01-06T17:26:12.728044Z",
     "start_time": "2022-01-06T17:26:12.709050Z"
    }
   },
   "outputs": [
    {
     "data": {
      "text/html": [
       "<div>\n",
       "<style scoped>\n",
       "    .dataframe tbody tr th:only-of-type {\n",
       "        vertical-align: middle;\n",
       "    }\n",
       "\n",
       "    .dataframe tbody tr th {\n",
       "        vertical-align: top;\n",
       "    }\n",
       "\n",
       "    .dataframe thead th {\n",
       "        text-align: right;\n",
       "    }\n",
       "</style>\n",
       "<table border=\"1\" class=\"dataframe\">\n",
       "  <thead>\n",
       "    <tr style=\"text-align: right;\">\n",
       "      <th></th>\n",
       "      <th>nome</th>\n",
       "      <th>email</th>\n",
       "      <th>idade</th>\n",
       "    </tr>\n",
       "  </thead>\n",
       "  <tbody>\n",
       "    <tr>\n",
       "      <th>0</th>\n",
       "      <td>Dra. Bruna das Neves</td>\n",
       "      <td>ealmeida@gmail.com</td>\n",
       "      <td>54</td>\n",
       "    </tr>\n",
       "    <tr>\n",
       "      <th>1</th>\n",
       "      <td>Vitor Gabriel Cavalcanti</td>\n",
       "      <td>catarinamoreira@hotmail.com</td>\n",
       "      <td>22</td>\n",
       "    </tr>\n",
       "    <tr>\n",
       "      <th>2</th>\n",
       "      <td>Luiz Otávio Campos</td>\n",
       "      <td>bcunha@uol.com.br</td>\n",
       "      <td>25</td>\n",
       "    </tr>\n",
       "    <tr>\n",
       "      <th>3</th>\n",
       "      <td>Alexandre Santos</td>\n",
       "      <td>fpereira@yahoo.com.br</td>\n",
       "      <td>29</td>\n",
       "    </tr>\n",
       "    <tr>\n",
       "      <th>4</th>\n",
       "      <td>Dr. Thomas Almeida</td>\n",
       "      <td>fariaslucas-gabriel@hotmail.com</td>\n",
       "      <td>37</td>\n",
       "    </tr>\n",
       "  </tbody>\n",
       "</table>\n",
       "</div>"
      ],
      "text/plain": [
       "                       nome                            email  idade\n",
       "0      Dra. Bruna das Neves               ealmeida@gmail.com     54\n",
       "1  Vitor Gabriel Cavalcanti      catarinamoreira@hotmail.com     22\n",
       "2        Luiz Otávio Campos                bcunha@uol.com.br     25\n",
       "3          Alexandre Santos            fpereira@yahoo.com.br     29\n",
       "4        Dr. Thomas Almeida  fariaslucas-gabriel@hotmail.com     37"
      ]
     },
     "execution_count": 65,
     "metadata": {},
     "output_type": "execute_result"
    }
   ],
   "source": [
    "clientes = pd.DataFrame([\n",
    "    [faker.name(), faker.free_email(), random.randint(18, 60)]\n",
    "for _ in range(N_CLIENTES)], columns=['nome', 'email', 'idade'])\n",
    "\n",
    "clientes.head()"
   ]
  },
  {
   "cell_type": "code",
   "execution_count": 66,
   "metadata": {
    "ExecuteTime": {
     "end_time": "2022-01-06T17:26:13.435236Z",
     "start_time": "2022-01-06T17:26:13.387559Z"
    }
   },
   "outputs": [
    {
     "data": {
      "text/html": [
       "<div>\n",
       "<style scoped>\n",
       "    .dataframe tbody tr th:only-of-type {\n",
       "        vertical-align: middle;\n",
       "    }\n",
       "\n",
       "    .dataframe tbody tr th {\n",
       "        vertical-align: top;\n",
       "    }\n",
       "\n",
       "    .dataframe thead th {\n",
       "        text-align: right;\n",
       "    }\n",
       "</style>\n",
       "<table border=\"1\" class=\"dataframe\">\n",
       "  <thead>\n",
       "    <tr style=\"text-align: right;\">\n",
       "      <th></th>\n",
       "      <th>nome</th>\n",
       "      <th>email</th>\n",
       "      <th>idade</th>\n",
       "    </tr>\n",
       "    <tr>\n",
       "      <th>id</th>\n",
       "      <th></th>\n",
       "      <th></th>\n",
       "      <th></th>\n",
       "    </tr>\n",
       "  </thead>\n",
       "  <tbody>\n",
       "    <tr>\n",
       "      <th>0</th>\n",
       "      <td>Dra. Bruna das Neves</td>\n",
       "      <td>ealmeida@gmail.com</td>\n",
       "      <td>54</td>\n",
       "    </tr>\n",
       "    <tr>\n",
       "      <th>1</th>\n",
       "      <td>Vitor Gabriel Cavalcanti</td>\n",
       "      <td>catarinamoreira@hotmail.com</td>\n",
       "      <td>22</td>\n",
       "    </tr>\n",
       "    <tr>\n",
       "      <th>2</th>\n",
       "      <td>Luiz Otávio Campos</td>\n",
       "      <td>bcunha@uol.com.br</td>\n",
       "      <td>25</td>\n",
       "    </tr>\n",
       "    <tr>\n",
       "      <th>3</th>\n",
       "      <td>Alexandre Santos</td>\n",
       "      <td>fpereira@yahoo.com.br</td>\n",
       "      <td>29</td>\n",
       "    </tr>\n",
       "    <tr>\n",
       "      <th>4</th>\n",
       "      <td>Dr. Thomas Almeida</td>\n",
       "      <td>fariaslucas-gabriel@hotmail.com</td>\n",
       "      <td>37</td>\n",
       "    </tr>\n",
       "  </tbody>\n",
       "</table>\n",
       "</div>"
      ],
      "text/plain": [
       "                        nome                            email  idade\n",
       "id                                                                  \n",
       "0       Dra. Bruna das Neves               ealmeida@gmail.com     54\n",
       "1   Vitor Gabriel Cavalcanti      catarinamoreira@hotmail.com     22\n",
       "2         Luiz Otávio Campos                bcunha@uol.com.br     25\n",
       "3           Alexandre Santos            fpereira@yahoo.com.br     29\n",
       "4         Dr. Thomas Almeida  fariaslucas-gabriel@hotmail.com     37"
      ]
     },
     "execution_count": 66,
     "metadata": {},
     "output_type": "execute_result"
    }
   ],
   "source": [
    "clientes.to_sql('clientes', db, index_label='id', if_exists='replace')\n",
    "pd.read_sql(\"SELECT * FROM clientes;\", db, 'id').head()"
   ]
  },
  {
   "cell_type": "code",
   "execution_count": 67,
   "metadata": {
    "ExecuteTime": {
     "end_time": "2022-01-06T17:26:15.510576Z",
     "start_time": "2022-01-06T17:26:15.499574Z"
    }
   },
   "outputs": [
    {
     "data": {
      "text/html": [
       "<div>\n",
       "<style scoped>\n",
       "    .dataframe tbody tr th:only-of-type {\n",
       "        vertical-align: middle;\n",
       "    }\n",
       "\n",
       "    .dataframe tbody tr th {\n",
       "        vertical-align: top;\n",
       "    }\n",
       "\n",
       "    .dataframe thead th {\n",
       "        text-align: right;\n",
       "    }\n",
       "</style>\n",
       "<table border=\"1\" class=\"dataframe\">\n",
       "  <thead>\n",
       "    <tr style=\"text-align: right;\">\n",
       "      <th></th>\n",
       "      <th>id_cliente</th>\n",
       "      <th>id_produto</th>\n",
       "    </tr>\n",
       "  </thead>\n",
       "  <tbody>\n",
       "    <tr>\n",
       "      <th>0</th>\n",
       "      <td>6</td>\n",
       "      <td>62</td>\n",
       "    </tr>\n",
       "    <tr>\n",
       "      <th>1</th>\n",
       "      <td>14</td>\n",
       "      <td>16</td>\n",
       "    </tr>\n",
       "    <tr>\n",
       "      <th>2</th>\n",
       "      <td>3</td>\n",
       "      <td>11</td>\n",
       "    </tr>\n",
       "    <tr>\n",
       "      <th>3</th>\n",
       "      <td>14</td>\n",
       "      <td>12</td>\n",
       "    </tr>\n",
       "    <tr>\n",
       "      <th>4</th>\n",
       "      <td>9</td>\n",
       "      <td>8</td>\n",
       "    </tr>\n",
       "  </tbody>\n",
       "</table>\n",
       "</div>"
      ],
      "text/plain": [
       "   id_cliente  id_produto\n",
       "0           6          62\n",
       "1          14          16\n",
       "2           3          11\n",
       "3          14          12\n",
       "4           9           8"
      ]
     },
     "execution_count": 67,
     "metadata": {},
     "output_type": "execute_result"
    }
   ],
   "source": [
    "compras = pd.DataFrame([[\n",
    "    random.randint(0, N_CLIENTES - 1),\n",
    "    random.randint(0, N_PRODUTOS - 1)\n",
    "] for _ in range(N_COMPRAS)], columns=['id_cliente', 'id_produto'])\n",
    "compras.head()"
   ]
  },
  {
   "cell_type": "code",
   "execution_count": 68,
   "metadata": {
    "ExecuteTime": {
     "end_time": "2022-01-06T17:26:16.133564Z",
     "start_time": "2022-01-06T17:26:16.078546Z"
    }
   },
   "outputs": [
    {
     "data": {
      "text/html": [
       "<div>\n",
       "<style scoped>\n",
       "    .dataframe tbody tr th:only-of-type {\n",
       "        vertical-align: middle;\n",
       "    }\n",
       "\n",
       "    .dataframe tbody tr th {\n",
       "        vertical-align: top;\n",
       "    }\n",
       "\n",
       "    .dataframe thead th {\n",
       "        text-align: right;\n",
       "    }\n",
       "</style>\n",
       "<table border=\"1\" class=\"dataframe\">\n",
       "  <thead>\n",
       "    <tr style=\"text-align: right;\">\n",
       "      <th></th>\n",
       "      <th>id_cliente</th>\n",
       "      <th>id_produto</th>\n",
       "    </tr>\n",
       "    <tr>\n",
       "      <th>id</th>\n",
       "      <th></th>\n",
       "      <th></th>\n",
       "    </tr>\n",
       "  </thead>\n",
       "  <tbody>\n",
       "    <tr>\n",
       "      <th>0</th>\n",
       "      <td>6</td>\n",
       "      <td>62</td>\n",
       "    </tr>\n",
       "    <tr>\n",
       "      <th>1</th>\n",
       "      <td>14</td>\n",
       "      <td>16</td>\n",
       "    </tr>\n",
       "    <tr>\n",
       "      <th>2</th>\n",
       "      <td>3</td>\n",
       "      <td>11</td>\n",
       "    </tr>\n",
       "    <tr>\n",
       "      <th>3</th>\n",
       "      <td>14</td>\n",
       "      <td>12</td>\n",
       "    </tr>\n",
       "    <tr>\n",
       "      <th>4</th>\n",
       "      <td>9</td>\n",
       "      <td>8</td>\n",
       "    </tr>\n",
       "  </tbody>\n",
       "</table>\n",
       "</div>"
      ],
      "text/plain": [
       "    id_cliente  id_produto\n",
       "id                        \n",
       "0            6          62\n",
       "1           14          16\n",
       "2            3          11\n",
       "3           14          12\n",
       "4            9           8"
      ]
     },
     "execution_count": 68,
     "metadata": {},
     "output_type": "execute_result"
    }
   ],
   "source": [
    "compras.to_sql('compras', db, index_label='id', if_exists='replace')\n",
    "pd.read_sql(\"SELECT * FROM compras;\", db, 'id').head()"
   ]
  },
  {
   "cell_type": "code",
   "execution_count": 69,
   "metadata": {
    "ExecuteTime": {
     "end_time": "2022-01-06T17:26:18.107481Z",
     "start_time": "2022-01-06T17:26:18.103805Z"
    }
   },
   "outputs": [],
   "source": [
    "del compras, clientes, produtos"
   ]
  },
  {
   "cell_type": "markdown",
   "metadata": {},
   "source": [
    "# Select\n",
    "\n",
    "Ao fazer uma extração num banco de dados SQL, independentemente do \n",
    "DBMS (se é Oracle, SQLite, MySQL/MariaDB e etc.), você sempre vai utilizar a \n",
    "palava `SELECT` seguida pelo que você quer trazer, e por fim a palavra FROM\n",
    "informando de onde você irá coletar esses dados, por exemplo:"
   ]
  },
  {
   "cell_type": "code",
   "execution_count": 70,
   "metadata": {
    "ExecuteTime": {
     "end_time": "2022-01-06T17:26:20.141194Z",
     "start_time": "2022-01-06T17:26:20.132701Z"
    }
   },
   "outputs": [
    {
     "name": "stdout",
     "output_type": "stream",
     "text": [
      " * sqlite:///TesteSQL.db\n",
      "Done.\n"
     ]
    },
    {
     "data": {
      "text/html": [
       "<table>\n",
       "    <tr>\n",
       "        <th>nome</th>\n",
       "        <th>idade</th>\n",
       "    </tr>\n",
       "    <tr>\n",
       "        <td>Dra. Bruna das Neves</td>\n",
       "        <td>54</td>\n",
       "    </tr>\n",
       "    <tr>\n",
       "        <td>Vitor Gabriel Cavalcanti</td>\n",
       "        <td>22</td>\n",
       "    </tr>\n",
       "    <tr>\n",
       "        <td>Luiz Otávio Campos</td>\n",
       "        <td>25</td>\n",
       "    </tr>\n",
       "    <tr>\n",
       "        <td>Alexandre Santos</td>\n",
       "        <td>29</td>\n",
       "    </tr>\n",
       "    <tr>\n",
       "        <td>Dr. Thomas Almeida</td>\n",
       "        <td>37</td>\n",
       "    </tr>\n",
       "    <tr>\n",
       "        <td>Manuela Lima</td>\n",
       "        <td>57</td>\n",
       "    </tr>\n",
       "    <tr>\n",
       "        <td>Ana Júlia Vieira</td>\n",
       "        <td>18</td>\n",
       "    </tr>\n",
       "    <tr>\n",
       "        <td>Igor Dias</td>\n",
       "        <td>28</td>\n",
       "    </tr>\n",
       "    <tr>\n",
       "        <td>Breno Ribeiro</td>\n",
       "        <td>40</td>\n",
       "    </tr>\n",
       "    <tr>\n",
       "        <td>Beatriz Pinto</td>\n",
       "        <td>54</td>\n",
       "    </tr>\n",
       "    <tr>\n",
       "        <td>Kamilly Silva</td>\n",
       "        <td>43</td>\n",
       "    </tr>\n",
       "    <tr>\n",
       "        <td>Srta. Mariane da Mata</td>\n",
       "        <td>48</td>\n",
       "    </tr>\n",
       "    <tr>\n",
       "        <td>Rafaela Rezende</td>\n",
       "        <td>28</td>\n",
       "    </tr>\n",
       "    <tr>\n",
       "        <td>Sr. Nathan Novaes</td>\n",
       "        <td>21</td>\n",
       "    </tr>\n",
       "    <tr>\n",
       "        <td>Davi Lucas Aragão</td>\n",
       "        <td>44</td>\n",
       "    </tr>\n",
       "    <tr>\n",
       "        <td>Lavínia Vieira</td>\n",
       "        <td>47</td>\n",
       "    </tr>\n",
       "    <tr>\n",
       "        <td>Sra. Maria Alice Araújo</td>\n",
       "        <td>53</td>\n",
       "    </tr>\n",
       "    <tr>\n",
       "        <td>Nathan da Mota</td>\n",
       "        <td>53</td>\n",
       "    </tr>\n",
       "    <tr>\n",
       "        <td>Theo Campos</td>\n",
       "        <td>43</td>\n",
       "    </tr>\n",
       "    <tr>\n",
       "        <td>João Vitor Fernandes</td>\n",
       "        <td>37</td>\n",
       "    </tr>\n",
       "</table>"
      ],
      "text/plain": [
       "[('Dra. Bruna das Neves', 54),\n",
       " ('Vitor Gabriel Cavalcanti', 22),\n",
       " ('Luiz Otávio Campos', 25),\n",
       " ('Alexandre Santos', 29),\n",
       " ('Dr. Thomas Almeida', 37),\n",
       " ('Manuela Lima', 57),\n",
       " ('Ana Júlia Vieira', 18),\n",
       " ('Igor Dias', 28),\n",
       " ('Breno Ribeiro', 40),\n",
       " ('Beatriz Pinto', 54),\n",
       " ('Kamilly Silva', 43),\n",
       " ('Srta. Mariane da Mata', 48),\n",
       " ('Rafaela Rezende', 28),\n",
       " ('Sr. Nathan Novaes', 21),\n",
       " ('Davi Lucas Aragão', 44),\n",
       " ('Lavínia Vieira', 47),\n",
       " ('Sra. Maria Alice Araújo', 53),\n",
       " ('Nathan da Mota', 53),\n",
       " ('Theo Campos', 43),\n",
       " ('João Vitor Fernandes', 37)]"
      ]
     },
     "execution_count": 70,
     "metadata": {},
     "output_type": "execute_result"
    }
   ],
   "source": [
    "%%sql\n",
    "\n",
    "SELECT nome, idade FROM clientes"
   ]
  },
  {
   "cell_type": "markdown",
   "metadata": {},
   "source": [
    "Nesse caso, eu estou trazendo o nome e idade de todos os clientes da base."
   ]
  },
  {
   "cell_type": "markdown",
   "metadata": {},
   "source": [
    "# Limit\n",
    "\n",
    "Geralmente não queremos trazer todos os dados de uma vez, muitas vezes os dados\n",
    "que guardamos nas tabelas do banco de dados iriam facilmente estourar a  memória\n",
    "dos nossos servidores, para limitar a pesquisa, existem vários métodos, o mais \n",
    "simples que tem é o `LIMIT n`, onde você informa quantos registros você quer ver\n",
    "no máximo."
   ]
  },
  {
   "cell_type": "code",
   "execution_count": 71,
   "metadata": {
    "ExecuteTime": {
     "end_time": "2022-01-06T17:26:25.453811Z",
     "start_time": "2022-01-06T17:26:25.444311Z"
    }
   },
   "outputs": [
    {
     "name": "stdout",
     "output_type": "stream",
     "text": [
      " * sqlite:///TesteSQL.db\n",
      "Done.\n"
     ]
    },
    {
     "data": {
      "text/html": [
       "<table>\n",
       "    <tr>\n",
       "        <th>id</th>\n",
       "        <th>nome</th>\n",
       "        <th>email</th>\n",
       "        <th>idade</th>\n",
       "    </tr>\n",
       "    <tr>\n",
       "        <td>0</td>\n",
       "        <td>Dra. Bruna das Neves</td>\n",
       "        <td>ealmeida@gmail.com</td>\n",
       "        <td>54</td>\n",
       "    </tr>\n",
       "    <tr>\n",
       "        <td>1</td>\n",
       "        <td>Vitor Gabriel Cavalcanti</td>\n",
       "        <td>catarinamoreira@hotmail.com</td>\n",
       "        <td>22</td>\n",
       "    </tr>\n",
       "    <tr>\n",
       "        <td>2</td>\n",
       "        <td>Luiz Otávio Campos</td>\n",
       "        <td>bcunha@uol.com.br</td>\n",
       "        <td>25</td>\n",
       "    </tr>\n",
       "    <tr>\n",
       "        <td>3</td>\n",
       "        <td>Alexandre Santos</td>\n",
       "        <td>fpereira@yahoo.com.br</td>\n",
       "        <td>29</td>\n",
       "    </tr>\n",
       "    <tr>\n",
       "        <td>4</td>\n",
       "        <td>Dr. Thomas Almeida</td>\n",
       "        <td>fariaslucas-gabriel@hotmail.com</td>\n",
       "        <td>37</td>\n",
       "    </tr>\n",
       "</table>"
      ],
      "text/plain": [
       "[(0, 'Dra. Bruna das Neves', 'ealmeida@gmail.com', 54),\n",
       " (1, 'Vitor Gabriel Cavalcanti', 'catarinamoreira@hotmail.com', 22),\n",
       " (2, 'Luiz Otávio Campos', 'bcunha@uol.com.br', 25),\n",
       " (3, 'Alexandre Santos', 'fpereira@yahoo.com.br', 29),\n",
       " (4, 'Dr. Thomas Almeida', 'fariaslucas-gabriel@hotmail.com', 37)]"
      ]
     },
     "execution_count": 71,
     "metadata": {},
     "output_type": "execute_result"
    }
   ],
   "source": [
    "%%sql\n",
    "\n",
    "SELECT * FROM clientes LIMIT 5"
   ]
  },
  {
   "cell_type": "markdown",
   "metadata": {},
   "source": [
    "Nesse caso, eu trouxe 5 registros da tabela cliente.\n",
    "\n",
    "<span style=\"color:red\"><b>Em uma aplicação, sempre use o</span></b> `LIMIT` \n",
    "<span style=\"color:red\"><b>com um</span></b> `ORDER BY` \n",
    "<span style=\"color:red\"><b>quer será explicado mais a frente"
   ]
  },
  {
   "cell_type": "markdown",
   "metadata": {},
   "source": [
    "## Exercício 01\n",
    "\n",
    "Traga 10 produtos e seu respectivo preço"
   ]
  },
  {
   "cell_type": "code",
   "execution_count": 72,
   "metadata": {},
   "outputs": [
    {
     "name": "stdout",
     "output_type": "stream",
     "text": [
      " * sqlite:///TesteSQL.db\n",
      "Done.\n"
     ]
    },
    {
     "data": {
      "text/html": [
       "<table>\n",
       "    <tr>\n",
       "        <th>id</th>\n",
       "        <th>produto</th>\n",
       "        <th>preço</th>\n",
       "    </tr>\n",
       "    <tr>\n",
       "        <td>0</td>\n",
       "        <td>prod 00</td>\n",
       "        <td>1.0</td>\n",
       "    </tr>\n",
       "    <tr>\n",
       "        <td>1</td>\n",
       "        <td>prod 01</td>\n",
       "        <td>7.85</td>\n",
       "    </tr>\n",
       "    <tr>\n",
       "        <td>2</td>\n",
       "        <td>prod 02</td>\n",
       "        <td>7.56</td>\n",
       "    </tr>\n",
       "    <tr>\n",
       "        <td>3</td>\n",
       "        <td>prod 03</td>\n",
       "        <td>6.07</td>\n",
       "    </tr>\n",
       "    <tr>\n",
       "        <td>4</td>\n",
       "        <td>prod 04</td>\n",
       "        <td>6.55</td>\n",
       "    </tr>\n",
       "    <tr>\n",
       "        <td>5</td>\n",
       "        <td>prod 05</td>\n",
       "        <td>6.87</td>\n",
       "    </tr>\n",
       "    <tr>\n",
       "        <td>6</td>\n",
       "        <td>prod 06</td>\n",
       "        <td>5.37</td>\n",
       "    </tr>\n",
       "    <tr>\n",
       "        <td>7</td>\n",
       "        <td>prod 07</td>\n",
       "        <td>0.75</td>\n",
       "    </tr>\n",
       "    <tr>\n",
       "        <td>8</td>\n",
       "        <td>prod 08</td>\n",
       "        <td>4.23</td>\n",
       "    </tr>\n",
       "    <tr>\n",
       "        <td>9</td>\n",
       "        <td>prod 09</td>\n",
       "        <td>7.78</td>\n",
       "    </tr>\n",
       "</table>"
      ],
      "text/plain": [
       "[(0, 'prod 00', 1.0),\n",
       " (1, 'prod 01', 7.85),\n",
       " (2, 'prod 02', 7.56),\n",
       " (3, 'prod 03', 6.07),\n",
       " (4, 'prod 04', 6.55),\n",
       " (5, 'prod 05', 6.87),\n",
       " (6, 'prod 06', 5.37),\n",
       " (7, 'prod 07', 0.75),\n",
       " (8, 'prod 08', 4.23),\n",
       " (9, 'prod 09', 7.78)]"
      ]
     },
     "execution_count": 72,
     "metadata": {},
     "output_type": "execute_result"
    }
   ],
   "source": [
    "%%sql\n",
    "\n",
    "SELECT * FROM produtos LIMIT 10"
   ]
  },
  {
   "cell_type": "markdown",
   "metadata": {},
   "source": [
    "# Projeção\n",
    "\n",
    "Também posso operar sobre os valores retornados, por exemplo, se ao invés da idade\n",
    "da pessoa, eu quiser saber somente a faixa etária dela, posso fazer algum cálculo\n",
    "no select e assim trazer esse dado já trabalhado do próprio banco de dados. "
   ]
  },
  {
   "cell_type": "code",
   "execution_count": 73,
   "metadata": {
    "ExecuteTime": {
     "end_time": "2022-01-06T17:26:39.933827Z",
     "start_time": "2022-01-06T17:26:39.922826Z"
    }
   },
   "outputs": [
    {
     "name": "stdout",
     "output_type": "stream",
     "text": [
      " * sqlite:///TesteSQL.db\n",
      "Done.\n"
     ]
    },
    {
     "data": {
      "text/html": [
       "<table>\n",
       "    <tr>\n",
       "        <th>nome</th>\n",
       "        <th>FAIXA_ETARIA</th>\n",
       "    </tr>\n",
       "    <tr>\n",
       "        <td>Dra. Bruna das Neves</td>\n",
       "        <td>50.0</td>\n",
       "    </tr>\n",
       "    <tr>\n",
       "        <td>Vitor Gabriel Cavalcanti</td>\n",
       "        <td>20.0</td>\n",
       "    </tr>\n",
       "    <tr>\n",
       "        <td>Luiz Otávio Campos</td>\n",
       "        <td>20.0</td>\n",
       "    </tr>\n",
       "    <tr>\n",
       "        <td>Alexandre Santos</td>\n",
       "        <td>20.0</td>\n",
       "    </tr>\n",
       "    <tr>\n",
       "        <td>Dr. Thomas Almeida</td>\n",
       "        <td>30.0</td>\n",
       "    </tr>\n",
       "    <tr>\n",
       "        <td>Manuela Lima</td>\n",
       "        <td>50.0</td>\n",
       "    </tr>\n",
       "    <tr>\n",
       "        <td>Ana Júlia Vieira</td>\n",
       "        <td>10.0</td>\n",
       "    </tr>\n",
       "    <tr>\n",
       "        <td>Igor Dias</td>\n",
       "        <td>20.0</td>\n",
       "    </tr>\n",
       "    <tr>\n",
       "        <td>Breno Ribeiro</td>\n",
       "        <td>40.0</td>\n",
       "    </tr>\n",
       "    <tr>\n",
       "        <td>Beatriz Pinto</td>\n",
       "        <td>50.0</td>\n",
       "    </tr>\n",
       "    <tr>\n",
       "        <td>Kamilly Silva</td>\n",
       "        <td>40.0</td>\n",
       "    </tr>\n",
       "    <tr>\n",
       "        <td>Srta. Mariane da Mata</td>\n",
       "        <td>40.0</td>\n",
       "    </tr>\n",
       "    <tr>\n",
       "        <td>Rafaela Rezende</td>\n",
       "        <td>20.0</td>\n",
       "    </tr>\n",
       "    <tr>\n",
       "        <td>Sr. Nathan Novaes</td>\n",
       "        <td>20.0</td>\n",
       "    </tr>\n",
       "    <tr>\n",
       "        <td>Davi Lucas Aragão</td>\n",
       "        <td>40.0</td>\n",
       "    </tr>\n",
       "    <tr>\n",
       "        <td>Lavínia Vieira</td>\n",
       "        <td>40.0</td>\n",
       "    </tr>\n",
       "    <tr>\n",
       "        <td>Sra. Maria Alice Araújo</td>\n",
       "        <td>50.0</td>\n",
       "    </tr>\n",
       "    <tr>\n",
       "        <td>Nathan da Mota</td>\n",
       "        <td>50.0</td>\n",
       "    </tr>\n",
       "    <tr>\n",
       "        <td>Theo Campos</td>\n",
       "        <td>40.0</td>\n",
       "    </tr>\n",
       "    <tr>\n",
       "        <td>João Vitor Fernandes</td>\n",
       "        <td>30.0</td>\n",
       "    </tr>\n",
       "</table>"
      ],
      "text/plain": [
       "[('Dra. Bruna das Neves', 50.0),\n",
       " ('Vitor Gabriel Cavalcanti', 20.0),\n",
       " ('Luiz Otávio Campos', 20.0),\n",
       " ('Alexandre Santos', 20.0),\n",
       " ('Dr. Thomas Almeida', 30.0),\n",
       " ('Manuela Lima', 50.0),\n",
       " ('Ana Júlia Vieira', 10.0),\n",
       " ('Igor Dias', 20.0),\n",
       " ('Breno Ribeiro', 40.0),\n",
       " ('Beatriz Pinto', 50.0),\n",
       " ('Kamilly Silva', 40.0),\n",
       " ('Srta. Mariane da Mata', 40.0),\n",
       " ('Rafaela Rezende', 20.0),\n",
       " ('Sr. Nathan Novaes', 20.0),\n",
       " ('Davi Lucas Aragão', 40.0),\n",
       " ('Lavínia Vieira', 40.0),\n",
       " ('Sra. Maria Alice Araújo', 50.0),\n",
       " ('Nathan da Mota', 50.0),\n",
       " ('Theo Campos', 40.0),\n",
       " ('João Vitor Fernandes', 30.0)]"
      ]
     },
     "execution_count": 73,
     "metadata": {},
     "output_type": "execute_result"
    }
   ],
   "source": [
    "%%sql\n",
    "\n",
    "SELECT NOME, ROUND(idade / 10) * 10 AS FAIXA_ETARIA\n",
    "FROM clientes"
   ]
  },
  {
   "cell_type": "markdown",
   "metadata": {},
   "source": [
    "Essa ação de selecionar um dado trabalhado, recebe vários nomes, como mapeamento\n",
    "ou projeção.\n",
    "\n",
    "## Exercício 2\n",
    "\n",
    "Traga 10 produtos e seu preço convertido para dólar, considere a cotação do dólar\n",
    "com sendo US\\\\$1,00=R\\\\$5,20"
   ]
  },
  {
   "cell_type": "code",
   "execution_count": 74,
   "metadata": {},
   "outputs": [
    {
     "name": "stdout",
     "output_type": "stream",
     "text": [
      " * sqlite:///TesteSQL.db\n",
      "Done.\n"
     ]
    },
    {
     "data": {
      "text/html": [
       "<table>\n",
       "    <tr>\n",
       "        <th>produto</th>\n",
       "        <th>preço_convertido</th>\n",
       "    </tr>\n",
       "    <tr>\n",
       "        <td>prod 00</td>\n",
       "        <td>0.1923076923076923</td>\n",
       "    </tr>\n",
       "    <tr>\n",
       "        <td>prod 01</td>\n",
       "        <td>1.5096153846153846</td>\n",
       "    </tr>\n",
       "    <tr>\n",
       "        <td>prod 02</td>\n",
       "        <td>1.4538461538461538</td>\n",
       "    </tr>\n",
       "    <tr>\n",
       "        <td>prod 03</td>\n",
       "        <td>1.1673076923076924</td>\n",
       "    </tr>\n",
       "    <tr>\n",
       "        <td>prod 04</td>\n",
       "        <td>1.2596153846153846</td>\n",
       "    </tr>\n",
       "    <tr>\n",
       "        <td>prod 05</td>\n",
       "        <td>1.3211538461538461</td>\n",
       "    </tr>\n",
       "    <tr>\n",
       "        <td>prod 06</td>\n",
       "        <td>1.0326923076923076</td>\n",
       "    </tr>\n",
       "    <tr>\n",
       "        <td>prod 07</td>\n",
       "        <td>0.14423076923076922</td>\n",
       "    </tr>\n",
       "    <tr>\n",
       "        <td>prod 08</td>\n",
       "        <td>0.8134615384615386</td>\n",
       "    </tr>\n",
       "    <tr>\n",
       "        <td>prod 09</td>\n",
       "        <td>1.4961538461538462</td>\n",
       "    </tr>\n",
       "</table>"
      ],
      "text/plain": [
       "[('prod 00', 0.1923076923076923),\n",
       " ('prod 01', 1.5096153846153846),\n",
       " ('prod 02', 1.4538461538461538),\n",
       " ('prod 03', 1.1673076923076924),\n",
       " ('prod 04', 1.2596153846153846),\n",
       " ('prod 05', 1.3211538461538461),\n",
       " ('prod 06', 1.0326923076923076),\n",
       " ('prod 07', 0.14423076923076922),\n",
       " ('prod 08', 0.8134615384615386),\n",
       " ('prod 09', 1.4961538461538462)]"
      ]
     },
     "execution_count": 74,
     "metadata": {},
     "output_type": "execute_result"
    }
   ],
   "source": [
    "%%sql\n",
    "\n",
    "SELECT produto, (preço/5.20)  AS preço_convertido\n",
    "FROM produtos LIMIT 10"
   ]
  },
  {
   "cell_type": "markdown",
   "metadata": {},
   "source": [
    "# Where\n",
    "\n",
    "O `LIMIT` como dito anteriormente é a forma mais simples de reduzir a quantidade\n",
    "de dados trazidos em uma pesquisa, mas a forma mais comum de se usar é o `WHERE`.\n",
    "\n",
    "Geralmente quando fazemos uma consulta no banco de dados, não precisamos de todos\n",
    "os dados da tabela, somente dados que respeitem algum requisito, como por exemplo,\n",
    "no nosso caso, se a gente quiser saber quais clientes temos com menos de 30 anos:"
   ]
  },
  {
   "cell_type": "code",
   "execution_count": 75,
   "metadata": {
    "ExecuteTime": {
     "end_time": "2022-01-06T17:26:47.084933Z",
     "start_time": "2022-01-06T17:26:47.076438Z"
    }
   },
   "outputs": [
    {
     "name": "stdout",
     "output_type": "stream",
     "text": [
      " * sqlite:///TesteSQL.db\n",
      "Done.\n"
     ]
    },
    {
     "data": {
      "text/html": [
       "<table>\n",
       "    <tr>\n",
       "        <th>nome</th>\n",
       "        <th>idade</th>\n",
       "    </tr>\n",
       "    <tr>\n",
       "        <td>Vitor Gabriel Cavalcanti</td>\n",
       "        <td>22</td>\n",
       "    </tr>\n",
       "    <tr>\n",
       "        <td>Luiz Otávio Campos</td>\n",
       "        <td>25</td>\n",
       "    </tr>\n",
       "    <tr>\n",
       "        <td>Alexandre Santos</td>\n",
       "        <td>29</td>\n",
       "    </tr>\n",
       "    <tr>\n",
       "        <td>Ana Júlia Vieira</td>\n",
       "        <td>18</td>\n",
       "    </tr>\n",
       "    <tr>\n",
       "        <td>Igor Dias</td>\n",
       "        <td>28</td>\n",
       "    </tr>\n",
       "    <tr>\n",
       "        <td>Rafaela Rezende</td>\n",
       "        <td>28</td>\n",
       "    </tr>\n",
       "    <tr>\n",
       "        <td>Sr. Nathan Novaes</td>\n",
       "        <td>21</td>\n",
       "    </tr>\n",
       "</table>"
      ],
      "text/plain": [
       "[('Vitor Gabriel Cavalcanti', 22),\n",
       " ('Luiz Otávio Campos', 25),\n",
       " ('Alexandre Santos', 29),\n",
       " ('Ana Júlia Vieira', 18),\n",
       " ('Igor Dias', 28),\n",
       " ('Rafaela Rezende', 28),\n",
       " ('Sr. Nathan Novaes', 21)]"
      ]
     },
     "execution_count": 75,
     "metadata": {},
     "output_type": "execute_result"
    }
   ],
   "source": [
    "%%sql\n",
    "\n",
    "SELECT nome, idade FROM clientes WHERE idade < 30"
   ]
  },
  {
   "cell_type": "markdown",
   "metadata": {},
   "source": [
    "## Exercício 3\n",
    "\n",
    "Traga todos os produtos que custem menos do que 1 real"
   ]
  },
  {
   "cell_type": "code",
   "execution_count": 76,
   "metadata": {},
   "outputs": [
    {
     "name": "stdout",
     "output_type": "stream",
     "text": [
      " * sqlite:///TesteSQL.db\n",
      "Done.\n"
     ]
    },
    {
     "data": {
      "text/html": [
       "<table>\n",
       "    <tr>\n",
       "        <th>produto</th>\n",
       "        <th>preço</th>\n",
       "    </tr>\n",
       "    <tr>\n",
       "        <td>prod 07</td>\n",
       "        <td>0.75</td>\n",
       "    </tr>\n",
       "    <tr>\n",
       "        <td>prod 20</td>\n",
       "        <td>0.32</td>\n",
       "    </tr>\n",
       "    <tr>\n",
       "        <td>prod 23</td>\n",
       "        <td>0.91</td>\n",
       "    </tr>\n",
       "    <tr>\n",
       "        <td>prod 29</td>\n",
       "        <td>0.61</td>\n",
       "    </tr>\n",
       "    <tr>\n",
       "        <td>prod 31</td>\n",
       "        <td>0.56</td>\n",
       "    </tr>\n",
       "    <tr>\n",
       "        <td>prod 61</td>\n",
       "        <td>0.43</td>\n",
       "    </tr>\n",
       "    <tr>\n",
       "        <td>prod 63</td>\n",
       "        <td>0.01</td>\n",
       "    </tr>\n",
       "    <tr>\n",
       "        <td>prod 73</td>\n",
       "        <td>0.54</td>\n",
       "    </tr>\n",
       "    <tr>\n",
       "        <td>prod 85</td>\n",
       "        <td>0.07</td>\n",
       "    </tr>\n",
       "    <tr>\n",
       "        <td>prod 87</td>\n",
       "        <td>0.24</td>\n",
       "    </tr>\n",
       "</table>"
      ],
      "text/plain": [
       "[('prod 07', 0.75),\n",
       " ('prod 20', 0.32),\n",
       " ('prod 23', 0.91),\n",
       " ('prod 29', 0.61),\n",
       " ('prod 31', 0.56),\n",
       " ('prod 61', 0.43),\n",
       " ('prod 63', 0.01),\n",
       " ('prod 73', 0.54),\n",
       " ('prod 85', 0.07),\n",
       " ('prod 87', 0.24)]"
      ]
     },
     "execution_count": 76,
     "metadata": {},
     "output_type": "execute_result"
    }
   ],
   "source": [
    "%%sql\n",
    "\n",
    "SELECT produto, preço FROM produtos WHERE preço<1"
   ]
  },
  {
   "cell_type": "markdown",
   "metadata": {},
   "source": [
    "# Join\n",
    "\n",
    "Uma das principais características dos bancos relacionais é justamente a sua capacidade\n",
    "de ter relacionamento entre os dados.\n",
    "\n",
    "Geralmente esse relacionamento é feito utilizando chaves primárias (PK). Geralmente\n",
    "as PKs são representadas por um número inteiro chamado ID, mas não necessariamente,\n",
    "por exemplo, um cadastro de pessoas pode ter como PK o CPF da pessoa, o que importa\n",
    "é que não haja repetição de valores.\n",
    "\n",
    "As PKs também podem ter mais de uma coluna, por exemplo, um supermercado pode ter\n",
    "como PK um produto e a marca dele.\n",
    "\n",
    "Mas por hora iremos abstrair essas PKs menos ortodoxas e focar nas padrões que é só\n",
    "uma coluna ID.\n",
    "\n",
    "As PKs geralmente são utilizadas para formar relacionamento entre as tabelas, ou seja,\n",
    "a partir do momento que eu cadastrei um cliente no meu sistema, e gerei um ID para ele\n",
    "toda as interações dele serão registradas utilizando o seu ID e não mais dados\n",
    "pessoais.\n",
    "\n",
    "No nosso caso, registramos as compras utilizando o ID do cliente e do produto, como\n",
    "podemos ver abaixo"
   ]
  },
  {
   "cell_type": "code",
   "execution_count": 77,
   "metadata": {
    "ExecuteTime": {
     "end_time": "2022-01-06T17:26:50.625464Z",
     "start_time": "2022-01-06T17:26:50.615984Z"
    }
   },
   "outputs": [
    {
     "name": "stdout",
     "output_type": "stream",
     "text": [
      " * sqlite:///TesteSQL.db\n",
      "Done.\n"
     ]
    },
    {
     "data": {
      "text/html": [
       "<table>\n",
       "    <tr>\n",
       "        <th>id</th>\n",
       "        <th>nome</th>\n",
       "        <th>email</th>\n",
       "        <th>idade</th>\n",
       "        <th>id_1</th>\n",
       "        <th>produto</th>\n",
       "        <th>preço</th>\n",
       "    </tr>\n",
       "    <tr>\n",
       "        <td>6</td>\n",
       "        <td>Ana Júlia Vieira</td>\n",
       "        <td>aragaokamilly@bol.com.br</td>\n",
       "        <td>18</td>\n",
       "        <td>62</td>\n",
       "        <td>prod 62</td>\n",
       "        <td>9.92</td>\n",
       "    </tr>\n",
       "    <tr>\n",
       "        <td>14</td>\n",
       "        <td>Davi Lucas Aragão</td>\n",
       "        <td>ecunha@uol.com.br</td>\n",
       "        <td>44</td>\n",
       "        <td>16</td>\n",
       "        <td>prod 16</td>\n",
       "        <td>2.86</td>\n",
       "    </tr>\n",
       "    <tr>\n",
       "        <td>3</td>\n",
       "        <td>Alexandre Santos</td>\n",
       "        <td>fpereira@yahoo.com.br</td>\n",
       "        <td>29</td>\n",
       "        <td>11</td>\n",
       "        <td>prod 11</td>\n",
       "        <td>7.78</td>\n",
       "    </tr>\n",
       "    <tr>\n",
       "        <td>14</td>\n",
       "        <td>Davi Lucas Aragão</td>\n",
       "        <td>ecunha@uol.com.br</td>\n",
       "        <td>44</td>\n",
       "        <td>12</td>\n",
       "        <td>prod 12</td>\n",
       "        <td>6.65</td>\n",
       "    </tr>\n",
       "    <tr>\n",
       "        <td>9</td>\n",
       "        <td>Beatriz Pinto</td>\n",
       "        <td>ana-sophia02@ig.com.br</td>\n",
       "        <td>54</td>\n",
       "        <td>8</td>\n",
       "        <td>prod 08</td>\n",
       "        <td>4.23</td>\n",
       "    </tr>\n",
       "</table>"
      ],
      "text/plain": [
       "[(6, 'Ana Júlia Vieira', 'aragaokamilly@bol.com.br', 18, 62, 'prod 62', 9.92),\n",
       " (14, 'Davi Lucas Aragão', 'ecunha@uol.com.br', 44, 16, 'prod 16', 2.86),\n",
       " (3, 'Alexandre Santos', 'fpereira@yahoo.com.br', 29, 11, 'prod 11', 7.78),\n",
       " (14, 'Davi Lucas Aragão', 'ecunha@uol.com.br', 44, 12, 'prod 12', 6.65),\n",
       " (9, 'Beatriz Pinto', 'ana-sophia02@ig.com.br', 54, 8, 'prod 08', 4.23)]"
      ]
     },
     "execution_count": 77,
     "metadata": {},
     "output_type": "execute_result"
    }
   ],
   "source": [
    "%%sql\n",
    "\n",
    "SELECT cl.*, po.*\n",
    "FROM clientes cl\n",
    "JOIN compras AS co\n",
    "ON co.ID_CLIENTE = cl.ID\n",
    "JOIN produtos as po\n",
    "ON co.ID_PRODUTO = po.ID\n",
    "LIMIT 5"
   ]
  },
  {
   "cell_type": "markdown",
   "metadata": {},
   "source": [
    "A tabela de compras traz consigo o ID do cliente que fez a compra e o ID do produto\n",
    "comprado, ocupando assim muito menos espaço do que se eu tivesse uma tabela com\n",
    "todos os dados.\n",
    "\n",
    "> NOTA: Quando nas colunas selecionadas faço algo do tipo alias.* eu estou trazendo todas as colunas daquela tabel\n",
    "\n",
    "> NOTA: Em 99% dos casos, independetemente do intuito do SELECT, o relacionamento entre as tabelas vai utilizar as mesmas colunas que usou em SELECTs anteriores\n",
    "\n",
    "## Exercício 4\n",
    "\n",
    "Traga 10 compras do produto `prod 02`"
   ]
  },
  {
   "cell_type": "code",
   "execution_count": 78,
   "metadata": {},
   "outputs": [
    {
     "name": "stdout",
     "output_type": "stream",
     "text": [
      " * sqlite:///TesteSQL.db\n",
      "Done.\n"
     ]
    },
    {
     "data": {
      "text/html": [
       "<table>\n",
       "    <tr>\n",
       "        <th>id</th>\n",
       "        <th>nome</th>\n",
       "        <th>email</th>\n",
       "        <th>idade</th>\n",
       "        <th>id_1</th>\n",
       "        <th>produto</th>\n",
       "        <th>preço</th>\n",
       "    </tr>\n",
       "    <tr>\n",
       "        <td>18</td>\n",
       "        <td>Theo Campos</td>\n",
       "        <td>azevedorodrigo@uol.com.br</td>\n",
       "        <td>43</td>\n",
       "        <td>2</td>\n",
       "        <td>prod 02</td>\n",
       "        <td>7.56</td>\n",
       "    </tr>\n",
       "    <tr>\n",
       "        <td>7</td>\n",
       "        <td>Igor Dias</td>\n",
       "        <td>caua15@uol.com.br</td>\n",
       "        <td>28</td>\n",
       "        <td>2</td>\n",
       "        <td>prod 02</td>\n",
       "        <td>7.56</td>\n",
       "    </tr>\n",
       "</table>"
      ],
      "text/plain": [
       "[(18, 'Theo Campos', 'azevedorodrigo@uol.com.br', 43, 2, 'prod 02', 7.56),\n",
       " (7, 'Igor Dias', 'caua15@uol.com.br', 28, 2, 'prod 02', 7.56)]"
      ]
     },
     "execution_count": 78,
     "metadata": {},
     "output_type": "execute_result"
    }
   ],
   "source": [
    "%%sql\n",
    "\n",
    "SELECT cl.*, po.*\n",
    "FROM clientes cl \n",
    "JOIN compras AS co\n",
    "ON co.ID_CLIENTE = cl.ID\n",
    "JOIN produtos as po\n",
    "ON co.ID_PRODUTO = po.ID\n",
    "WHERE produto = 'prod 02'\n",
    "LIMIT 10"
   ]
  },
  {
   "cell_type": "markdown",
   "metadata": {},
   "source": [
    "# Distinct\n",
    "\n",
    "Muitas vezes as nossas consultas nos trazem resultados repetidos, quando a repetição\n",
    "não nos importa, por exemplo, mesmo na nossa base tendo 20 clientes, não necessariamente\n",
    "todos efetuaram compras, se eu quiser saber todos que o fizeram posso fazer:"
   ]
  },
  {
   "cell_type": "code",
   "execution_count": 79,
   "metadata": {
    "ExecuteTime": {
     "end_time": "2022-01-06T17:26:53.410205Z",
     "start_time": "2022-01-06T17:26:53.398714Z"
    }
   },
   "outputs": [
    {
     "name": "stdout",
     "output_type": "stream",
     "text": [
      " * sqlite:///TesteSQL.db\n",
      "Done.\n"
     ]
    },
    {
     "data": {
      "text/html": [
       "<table>\n",
       "    <tr>\n",
       "        <th>nome</th>\n",
       "    </tr>\n",
       "    <tr>\n",
       "        <td>Ana Júlia Vieira</td>\n",
       "    </tr>\n",
       "    <tr>\n",
       "        <td>Davi Lucas Aragão</td>\n",
       "    </tr>\n",
       "    <tr>\n",
       "        <td>Alexandre Santos</td>\n",
       "    </tr>\n",
       "    <tr>\n",
       "        <td>Beatriz Pinto</td>\n",
       "    </tr>\n",
       "    <tr>\n",
       "        <td>Rafaela Rezende</td>\n",
       "    </tr>\n",
       "    <tr>\n",
       "        <td>Manuela Lima</td>\n",
       "    </tr>\n",
       "    <tr>\n",
       "        <td>Sr. Nathan Novaes</td>\n",
       "    </tr>\n",
       "    <tr>\n",
       "        <td>Vitor Gabriel Cavalcanti</td>\n",
       "    </tr>\n",
       "    <tr>\n",
       "        <td>Breno Ribeiro</td>\n",
       "    </tr>\n",
       "    <tr>\n",
       "        <td>Luiz Otávio Campos</td>\n",
       "    </tr>\n",
       "    <tr>\n",
       "        <td>Srta. Mariane da Mata</td>\n",
       "    </tr>\n",
       "    <tr>\n",
       "        <td>Kamilly Silva</td>\n",
       "    </tr>\n",
       "    <tr>\n",
       "        <td>João Vitor Fernandes</td>\n",
       "    </tr>\n",
       "    <tr>\n",
       "        <td>Nathan da Mota</td>\n",
       "    </tr>\n",
       "    <tr>\n",
       "        <td>Theo Campos</td>\n",
       "    </tr>\n",
       "    <tr>\n",
       "        <td>Lavínia Vieira</td>\n",
       "    </tr>\n",
       "    <tr>\n",
       "        <td>Igor Dias</td>\n",
       "    </tr>\n",
       "    <tr>\n",
       "        <td>Dr. Thomas Almeida</td>\n",
       "    </tr>\n",
       "    <tr>\n",
       "        <td>Sra. Maria Alice Araújo</td>\n",
       "    </tr>\n",
       "    <tr>\n",
       "        <td>Dra. Bruna das Neves</td>\n",
       "    </tr>\n",
       "</table>"
      ],
      "text/plain": [
       "[('Ana Júlia Vieira',),\n",
       " ('Davi Lucas Aragão',),\n",
       " ('Alexandre Santos',),\n",
       " ('Beatriz Pinto',),\n",
       " ('Rafaela Rezende',),\n",
       " ('Manuela Lima',),\n",
       " ('Sr. Nathan Novaes',),\n",
       " ('Vitor Gabriel Cavalcanti',),\n",
       " ('Breno Ribeiro',),\n",
       " ('Luiz Otávio Campos',),\n",
       " ('Srta. Mariane da Mata',),\n",
       " ('Kamilly Silva',),\n",
       " ('João Vitor Fernandes',),\n",
       " ('Nathan da Mota',),\n",
       " ('Theo Campos',),\n",
       " ('Lavínia Vieira',),\n",
       " ('Igor Dias',),\n",
       " ('Dr. Thomas Almeida',),\n",
       " ('Sra. Maria Alice Araújo',),\n",
       " ('Dra. Bruna das Neves',)]"
      ]
     },
     "execution_count": 79,
     "metadata": {},
     "output_type": "execute_result"
    }
   ],
   "source": [
    "%%sql\n",
    "\n",
    "SELECT DISTINCT cl.nome\n",
    "FROM clientes cl\n",
    "JOIN compras AS co\n",
    "ON co.ID_CLIENTE = cl.ID"
   ]
  },
  {
   "cell_type": "markdown",
   "metadata": {},
   "source": [
    "Como podemos ver, apesar de eu ter feito {{N_COMPRAS}} compras, o meu resultado\n",
    "não traz essa quantidade de linhas, traz exatamente a quantidade de clientes \n",
    "que fizeram compras.\n",
    "\n",
    "## Exercício 5\n",
    "\n",
    "Liste todos clientes que compraram o produto `prod 02`"
   ]
  },
  {
   "cell_type": "code",
   "execution_count": 80,
   "metadata": {},
   "outputs": [
    {
     "name": "stdout",
     "output_type": "stream",
     "text": [
      " * sqlite:///TesteSQL.db\n",
      "Done.\n"
     ]
    },
    {
     "data": {
      "text/html": [
       "<table>\n",
       "    <tr>\n",
       "        <th>nome</th>\n",
       "    </tr>\n",
       "    <tr>\n",
       "        <td>Igor Dias</td>\n",
       "    </tr>\n",
       "    <tr>\n",
       "        <td>Theo Campos</td>\n",
       "    </tr>\n",
       "</table>"
      ],
      "text/plain": [
       "[('Igor Dias',), ('Theo Campos',)]"
      ]
     },
     "execution_count": 80,
     "metadata": {},
     "output_type": "execute_result"
    }
   ],
   "source": [
    "%%sql\n",
    "\n",
    "SELECT DISTINCT cl.nome\n",
    "FROM clientes cl \n",
    "JOIN compras AS co\n",
    "ON co.ID_CLIENTE = cl.ID\n",
    "JOIN produtos as po\n",
    "ON co.ID_PRODUTO = po.ID\n",
    "WHERE produto = 'prod 02'\n"
   ]
  },
  {
   "cell_type": "markdown",
   "metadata": {},
   "source": [
    "# Redução\n",
    "\n",
    "No SQL também são comuns funções de redução, elas percorrem todas as linhas de uma\n",
    "determinada coluna aplicando uma função de redução (somatório, contagem e etc.)\n",
    "e retornam somente uma linha ao invés de todas as linhas lidas por ela, por exemplo\n",
    "se eu quiser saber quantas compras do `prod 02` foram feitas, posso fazer:"
   ]
  },
  {
   "cell_type": "code",
   "execution_count": 81,
   "metadata": {
    "ExecuteTime": {
     "end_time": "2022-01-06T17:26:56.761090Z",
     "start_time": "2022-01-06T17:26:56.753089Z"
    }
   },
   "outputs": [
    {
     "name": "stdout",
     "output_type": "stream",
     "text": [
      " * sqlite:///TesteSQL.db\n",
      "Done.\n"
     ]
    },
    {
     "data": {
      "text/html": [
       "<table>\n",
       "    <tr>\n",
       "        <th>count(*)</th>\n",
       "    </tr>\n",
       "    <tr>\n",
       "        <td>2</td>\n",
       "    </tr>\n",
       "</table>"
      ],
      "text/plain": [
       "[(2,)]"
      ]
     },
     "execution_count": 81,
     "metadata": {},
     "output_type": "execute_result"
    }
   ],
   "source": [
    "%%sql\n",
    "\n",
    "SELECT count(*)\n",
    "FROM compras AS co\n",
    "JOIN produtos as po\n",
    "ON co.ID_PRODUTO = po.ID\n",
    "WHERE po.produto = 'prod 02'"
   ]
  },
  {
   "cell_type": "markdown",
   "metadata": {},
   "source": [
    "Existem outras funções como SUM, AVG e etc., você pode sempre consultar a \n",
    "[documentação oficial](https://www.sqlite.org/lang_aggfunc.html) para ver \n",
    "todas elas\n",
    "\n",
    "## Exercício 6\n",
    "\n",
    "Qual foi a receita total?"
   ]
  },
  {
   "cell_type": "code",
   "execution_count": 82,
   "metadata": {},
   "outputs": [
    {
     "name": "stdout",
     "output_type": "stream",
     "text": [
      " * sqlite:///TesteSQL.db\n",
      "Done.\n"
     ]
    },
    {
     "data": {
      "text/html": [
       "<table>\n",
       "    <tr>\n",
       "        <th>receita_total</th>\n",
       "    </tr>\n",
       "    <tr>\n",
       "        <td>2602.0</td>\n",
       "    </tr>\n",
       "</table>"
      ],
      "text/plain": [
       "[(2602.0,)]"
      ]
     },
     "execution_count": 82,
     "metadata": {},
     "output_type": "execute_result"
    }
   ],
   "source": [
    "%%sql\n",
    "\n",
    "SELECT round(sum(po.preço)) AS receita_total\n",
    "FROM compras AS co\n",
    "JOIN produtos as po\n",
    "ON co.ID_PRODUTO = po.ID"
   ]
  },
  {
   "cell_type": "markdown",
   "metadata": {},
   "source": [
    "# Group by\n",
    "\n",
    "As funções de agregação ficam ainda mais fortes quando agrupamos valores.\n",
    "Isto é, elas mostram todo o seu potencial quando criamos pequenos grupos de dados,\n",
    "ao invés de contarmos por exemplo todas as vendas do dia, podemos aplicar contagem\n",
    "produto a produto com somente uma query, como mostrado abaixo:"
   ]
  },
  {
   "cell_type": "code",
   "execution_count": 83,
   "metadata": {
    "ExecuteTime": {
     "end_time": "2022-01-06T17:27:01.076622Z",
     "start_time": "2022-01-06T17:27:01.068127Z"
    }
   },
   "outputs": [
    {
     "name": "stdout",
     "output_type": "stream",
     "text": [
      " * sqlite:///TesteSQL.db\n",
      "Done.\n"
     ]
    },
    {
     "data": {
      "text/html": [
       "<table>\n",
       "    <tr>\n",
       "        <th>produto</th>\n",
       "        <th>count(*)</th>\n",
       "    </tr>\n",
       "    <tr>\n",
       "        <td>prod 00</td>\n",
       "        <td>4</td>\n",
       "    </tr>\n",
       "    <tr>\n",
       "        <td>prod 01</td>\n",
       "        <td>3</td>\n",
       "    </tr>\n",
       "    <tr>\n",
       "        <td>prod 02</td>\n",
       "        <td>2</td>\n",
       "    </tr>\n",
       "    <tr>\n",
       "        <td>prod 03</td>\n",
       "        <td>7</td>\n",
       "    </tr>\n",
       "    <tr>\n",
       "        <td>prod 04</td>\n",
       "        <td>2</td>\n",
       "    </tr>\n",
       "    <tr>\n",
       "        <td>prod 05</td>\n",
       "        <td>8</td>\n",
       "    </tr>\n",
       "    <tr>\n",
       "        <td>prod 06</td>\n",
       "        <td>5</td>\n",
       "    </tr>\n",
       "    <tr>\n",
       "        <td>prod 07</td>\n",
       "        <td>3</td>\n",
       "    </tr>\n",
       "    <tr>\n",
       "        <td>prod 08</td>\n",
       "        <td>3</td>\n",
       "    </tr>\n",
       "    <tr>\n",
       "        <td>prod 09</td>\n",
       "        <td>8</td>\n",
       "    </tr>\n",
       "</table>"
      ],
      "text/plain": [
       "[('prod 00', 4),\n",
       " ('prod 01', 3),\n",
       " ('prod 02', 2),\n",
       " ('prod 03', 7),\n",
       " ('prod 04', 2),\n",
       " ('prod 05', 8),\n",
       " ('prod 06', 5),\n",
       " ('prod 07', 3),\n",
       " ('prod 08', 3),\n",
       " ('prod 09', 8)]"
      ]
     },
     "execution_count": 83,
     "metadata": {},
     "output_type": "execute_result"
    }
   ],
   "source": [
    "%%sql\n",
    "\n",
    "SELECT po.produto, count(*)\n",
    "FROM compras AS co\n",
    "JOIN produtos as po\n",
    "ON co.ID_PRODUTO = po.ID\n",
    "group by po.produto\n",
    "limit 10"
   ]
  },
  {
   "cell_type": "markdown",
   "metadata": {},
   "source": [
    "Dessa forma, consigo fazer uma contagem diferente para cada produto, sem precisar\n",
    "fazer diversas querys, algo muito útil.\n",
    "\n",
    "## Exercício 7\n",
    "\n",
    "Quanto cada cliente gastou?"
   ]
  },
  {
   "cell_type": "code",
   "execution_count": 84,
   "metadata": {},
   "outputs": [
    {
     "name": "stdout",
     "output_type": "stream",
     "text": [
      " * sqlite:///TesteSQL.db\n",
      "Done.\n"
     ]
    },
    {
     "data": {
      "text/html": [
       "<table>\n",
       "    <tr>\n",
       "        <th>nome</th>\n",
       "        <th>gasto</th>\n",
       "    </tr>\n",
       "    <tr>\n",
       "        <td>Alexandre Santos</td>\n",
       "        <td>116.0</td>\n",
       "    </tr>\n",
       "    <tr>\n",
       "        <td>Ana Júlia Vieira</td>\n",
       "        <td>82.0</td>\n",
       "    </tr>\n",
       "    <tr>\n",
       "        <td>Beatriz Pinto</td>\n",
       "        <td>142.0</td>\n",
       "    </tr>\n",
       "    <tr>\n",
       "        <td>Breno Ribeiro</td>\n",
       "        <td>137.0</td>\n",
       "    </tr>\n",
       "    <tr>\n",
       "        <td>Davi Lucas Aragão</td>\n",
       "        <td>120.0</td>\n",
       "    </tr>\n",
       "    <tr>\n",
       "        <td>Dr. Thomas Almeida</td>\n",
       "        <td>144.0</td>\n",
       "    </tr>\n",
       "    <tr>\n",
       "        <td>Dra. Bruna das Neves</td>\n",
       "        <td>125.0</td>\n",
       "    </tr>\n",
       "    <tr>\n",
       "        <td>Igor Dias</td>\n",
       "        <td>155.0</td>\n",
       "    </tr>\n",
       "    <tr>\n",
       "        <td>João Vitor Fernandes</td>\n",
       "        <td>135.0</td>\n",
       "    </tr>\n",
       "    <tr>\n",
       "        <td>Kamilly Silva</td>\n",
       "        <td>169.0</td>\n",
       "    </tr>\n",
       "    <tr>\n",
       "        <td>Lavínia Vieira</td>\n",
       "        <td>98.0</td>\n",
       "    </tr>\n",
       "    <tr>\n",
       "        <td>Luiz Otávio Campos</td>\n",
       "        <td>189.0</td>\n",
       "    </tr>\n",
       "    <tr>\n",
       "        <td>Manuela Lima</td>\n",
       "        <td>119.0</td>\n",
       "    </tr>\n",
       "    <tr>\n",
       "        <td>Nathan da Mota</td>\n",
       "        <td>127.0</td>\n",
       "    </tr>\n",
       "    <tr>\n",
       "        <td>Rafaela Rezende</td>\n",
       "        <td>178.0</td>\n",
       "    </tr>\n",
       "    <tr>\n",
       "        <td>Sr. Nathan Novaes</td>\n",
       "        <td>130.0</td>\n",
       "    </tr>\n",
       "    <tr>\n",
       "        <td>Sra. Maria Alice Araújo</td>\n",
       "        <td>79.0</td>\n",
       "    </tr>\n",
       "    <tr>\n",
       "        <td>Srta. Mariane da Mata</td>\n",
       "        <td>125.0</td>\n",
       "    </tr>\n",
       "    <tr>\n",
       "        <td>Theo Campos</td>\n",
       "        <td>110.0</td>\n",
       "    </tr>\n",
       "    <tr>\n",
       "        <td>Vitor Gabriel Cavalcanti</td>\n",
       "        <td>122.0</td>\n",
       "    </tr>\n",
       "</table>"
      ],
      "text/plain": [
       "[('Alexandre Santos', 116.0),\n",
       " ('Ana Júlia Vieira', 82.0),\n",
       " ('Beatriz Pinto', 142.0),\n",
       " ('Breno Ribeiro', 137.0),\n",
       " ('Davi Lucas Aragão', 120.0),\n",
       " ('Dr. Thomas Almeida', 144.0),\n",
       " ('Dra. Bruna das Neves', 125.0),\n",
       " ('Igor Dias', 155.0),\n",
       " ('João Vitor Fernandes', 135.0),\n",
       " ('Kamilly Silva', 169.0),\n",
       " ('Lavínia Vieira', 98.0),\n",
       " ('Luiz Otávio Campos', 189.0),\n",
       " ('Manuela Lima', 119.0),\n",
       " ('Nathan da Mota', 127.0),\n",
       " ('Rafaela Rezende', 178.0),\n",
       " ('Sr. Nathan Novaes', 130.0),\n",
       " ('Sra. Maria Alice Araújo', 79.0),\n",
       " ('Srta. Mariane da Mata', 125.0),\n",
       " ('Theo Campos', 110.0),\n",
       " ('Vitor Gabriel Cavalcanti', 122.0)]"
      ]
     },
     "execution_count": 84,
     "metadata": {},
     "output_type": "execute_result"
    }
   ],
   "source": [
    "%%sql\n",
    "\n",
    "SELECT cl.nome, round(sum(po.preço)) as gasto\n",
    "FROM clientes cl \n",
    "JOIN compras AS co\n",
    "ON co.ID_CLIENTE = cl.ID\n",
    "JOIN produtos as po\n",
    "ON co.ID_PRODUTO = po.ID\n",
    "group by cl.nome\n"
   ]
  },
  {
   "cell_type": "markdown",
   "metadata": {},
   "source": [
    "# Order by\n",
    "\n",
    "Muitas vezes queremos os dados em ordem específicas, por exemplo, ao visitar uma\n",
    "loja online, você não espera ver produtos caros e desinteressantes sendo exibidos\n",
    "para você aleatoriamente, você espera ver em uma ordem lógica, sejam os mais\n",
    "baratos primeiros, os mais relevantes para o seu perfil, ou até alfabéticamente.\n",
    "\n",
    "\n",
    "Tudo isso pode ser feito utilizando o comando `ORDER BY`, mas misturado com\n",
    "outras operações como o `LIMIT` ele pode fazer coisas ainda melhores, como\n",
    "por exemplo, trazer os 10 produtos mais caros:"
   ]
  },
  {
   "cell_type": "code",
   "execution_count": 85,
   "metadata": {
    "ExecuteTime": {
     "end_time": "2022-01-06T17:27:08.840515Z",
     "start_time": "2022-01-06T17:27:08.833015Z"
    }
   },
   "outputs": [
    {
     "name": "stdout",
     "output_type": "stream",
     "text": [
      " * sqlite:///TesteSQL.db\n",
      "Done.\n"
     ]
    },
    {
     "data": {
      "text/html": [
       "<table>\n",
       "    <tr>\n",
       "        <th>produto</th>\n",
       "        <th>preço</th>\n",
       "    </tr>\n",
       "    <tr>\n",
       "        <td>prod 95</td>\n",
       "        <td>9.94</td>\n",
       "    </tr>\n",
       "    <tr>\n",
       "        <td>prod 62</td>\n",
       "        <td>9.92</td>\n",
       "    </tr>\n",
       "    <tr>\n",
       "        <td>prod 26</td>\n",
       "        <td>9.89</td>\n",
       "    </tr>\n",
       "    <tr>\n",
       "        <td>prod 34</td>\n",
       "        <td>9.73</td>\n",
       "    </tr>\n",
       "    <tr>\n",
       "        <td>prod 77</td>\n",
       "        <td>9.72</td>\n",
       "    </tr>\n",
       "    <tr>\n",
       "        <td>prod 49</td>\n",
       "        <td>9.68</td>\n",
       "    </tr>\n",
       "    <tr>\n",
       "        <td>prod 96</td>\n",
       "        <td>9.49</td>\n",
       "    </tr>\n",
       "    <tr>\n",
       "        <td>prod 25</td>\n",
       "        <td>9.44</td>\n",
       "    </tr>\n",
       "    <tr>\n",
       "        <td>prod 92</td>\n",
       "        <td>9.39</td>\n",
       "    </tr>\n",
       "    <tr>\n",
       "        <td>prod 48</td>\n",
       "        <td>9.33</td>\n",
       "    </tr>\n",
       "</table>"
      ],
      "text/plain": [
       "[('prod 95', 9.94),\n",
       " ('prod 62', 9.92),\n",
       " ('prod 26', 9.89),\n",
       " ('prod 34', 9.73),\n",
       " ('prod 77', 9.72),\n",
       " ('prod 49', 9.68),\n",
       " ('prod 96', 9.49),\n",
       " ('prod 25', 9.44),\n",
       " ('prod 92', 9.39),\n",
       " ('prod 48', 9.33)]"
      ]
     },
     "execution_count": 85,
     "metadata": {},
     "output_type": "execute_result"
    }
   ],
   "source": [
    "%%sql\n",
    "\n",
    "SELECT produto, preço\n",
    "FROM produtos\n",
    "ORDER BY preço DESC\n",
    "LIMIT 10"
   ]
  },
  {
   "cell_type": "markdown",
   "metadata": {},
   "source": [
    "Com isso podemos ver o poder do `ORDER BY` + `LIMIT` para trazer os N primeiros\n",
    "registros de uma determinada métrica\n",
    "\n",
    "## Exercício 8\n",
    "\n",
    "Traga os 10 clientes que mais gastaram"
   ]
  },
  {
   "cell_type": "code",
   "execution_count": 86,
   "metadata": {},
   "outputs": [
    {
     "name": "stdout",
     "output_type": "stream",
     "text": [
      " * sqlite:///TesteSQL.db\n",
      "Done.\n"
     ]
    },
    {
     "data": {
      "text/html": [
       "<table>\n",
       "    <tr>\n",
       "        <th>nome</th>\n",
       "    </tr>\n",
       "    <tr>\n",
       "        <td>Sra. Maria Alice Araújo</td>\n",
       "    </tr>\n",
       "    <tr>\n",
       "        <td>Ana Júlia Vieira</td>\n",
       "    </tr>\n",
       "    <tr>\n",
       "        <td>Lavínia Vieira</td>\n",
       "    </tr>\n",
       "    <tr>\n",
       "        <td>Theo Campos</td>\n",
       "    </tr>\n",
       "    <tr>\n",
       "        <td>Alexandre Santos</td>\n",
       "    </tr>\n",
       "    <tr>\n",
       "        <td>Manuela Lima</td>\n",
       "    </tr>\n",
       "    <tr>\n",
       "        <td>Davi Lucas Aragão</td>\n",
       "    </tr>\n",
       "    <tr>\n",
       "        <td>Vitor Gabriel Cavalcanti</td>\n",
       "    </tr>\n",
       "    <tr>\n",
       "        <td>Srta. Mariane da Mata</td>\n",
       "    </tr>\n",
       "    <tr>\n",
       "        <td>Dra. Bruna das Neves</td>\n",
       "    </tr>\n",
       "</table>"
      ],
      "text/plain": [
       "[('Sra. Maria Alice Araújo',),\n",
       " ('Ana Júlia Vieira',),\n",
       " ('Lavínia Vieira',),\n",
       " ('Theo Campos',),\n",
       " ('Alexandre Santos',),\n",
       " ('Manuela Lima',),\n",
       " ('Davi Lucas Aragão',),\n",
       " ('Vitor Gabriel Cavalcanti',),\n",
       " ('Srta. Mariane da Mata',),\n",
       " ('Dra. Bruna das Neves',)]"
      ]
     },
     "execution_count": 86,
     "metadata": {},
     "output_type": "execute_result"
    }
   ],
   "source": [
    "%%sql\n",
    "\n",
    "SELECT cl.nome\n",
    "FROM clientes cl \n",
    "JOIN compras AS co\n",
    "ON co.ID_CLIENTE = cl.ID\n",
    "JOIN produtos as po\n",
    "ON co.ID_PRODUTO = po.ID\n",
    "group by cl.nome\n",
    "order by sum(po.preço)\n",
    "LIMIT 10"
   ]
  },
  {
   "cell_type": "markdown",
   "metadata": {},
   "source": [
    "O order by junto do limit é extremamente importante para fazer paginação de dados,\n",
    "por exemplo, novamente ao acessar o site de compras, os produtos não são todos\n",
    "exibidos de uma vez para você, do contrário, a memória do seu computador iria\n",
    "para o espaço, para evitar isso, tem aqueles botões na parte de baixo para ver\n",
    "a próxima página, e com isso, você pode avançar e recuar.\n",
    "\n",
    "Digamos que um cliente viu os 10 produtos mais caros e não se interessou por\n",
    "nenhum e quer ver a próxima página, ele pode fazer:"
   ]
  },
  {
   "cell_type": "code",
   "execution_count": 87,
   "metadata": {
    "ExecuteTime": {
     "end_time": "2022-01-06T17:27:11.930768Z",
     "start_time": "2022-01-06T17:27:11.922766Z"
    }
   },
   "outputs": [
    {
     "name": "stdout",
     "output_type": "stream",
     "text": [
      " * sqlite:///TesteSQL.db\n",
      "Done.\n"
     ]
    },
    {
     "data": {
      "text/html": [
       "<table>\n",
       "    <tr>\n",
       "        <th>produto</th>\n",
       "        <th>preço</th>\n",
       "    </tr>\n",
       "    <tr>\n",
       "        <td>prod 65</td>\n",
       "        <td>9.19</td>\n",
       "    </tr>\n",
       "    <tr>\n",
       "        <td>prod 15</td>\n",
       "        <td>9.0</td>\n",
       "    </tr>\n",
       "    <tr>\n",
       "        <td>prod 27</td>\n",
       "        <td>8.97</td>\n",
       "    </tr>\n",
       "    <tr>\n",
       "        <td>prod 30</td>\n",
       "        <td>8.93</td>\n",
       "    </tr>\n",
       "    <tr>\n",
       "        <td>prod 60</td>\n",
       "        <td>8.93</td>\n",
       "    </tr>\n",
       "    <tr>\n",
       "        <td>prod 19</td>\n",
       "        <td>8.73</td>\n",
       "    </tr>\n",
       "    <tr>\n",
       "        <td>prod 68</td>\n",
       "        <td>8.72</td>\n",
       "    </tr>\n",
       "    <tr>\n",
       "        <td>prod 83</td>\n",
       "        <td>8.59</td>\n",
       "    </tr>\n",
       "    <tr>\n",
       "        <td>prod 28</td>\n",
       "        <td>8.53</td>\n",
       "    </tr>\n",
       "    <tr>\n",
       "        <td>prod 55</td>\n",
       "        <td>8.35</td>\n",
       "    </tr>\n",
       "</table>"
      ],
      "text/plain": [
       "[('prod 65', 9.19),\n",
       " ('prod 15', 9.0),\n",
       " ('prod 27', 8.97),\n",
       " ('prod 30', 8.93),\n",
       " ('prod 60', 8.93),\n",
       " ('prod 19', 8.73),\n",
       " ('prod 68', 8.72),\n",
       " ('prod 83', 8.59),\n",
       " ('prod 28', 8.53),\n",
       " ('prod 55', 8.35)]"
      ]
     },
     "execution_count": 87,
     "metadata": {},
     "output_type": "execute_result"
    }
   ],
   "source": [
    "%%sql\n",
    "\n",
    "SELECT produto, preço\n",
    "FROM produtos\n",
    "ORDER BY preço DESC\n",
    "LIMIT 10,10"
   ]
  },
  {
   "cell_type": "markdown",
   "metadata": {},
   "source": [
    "O primeiro 10, representa de onde começa e o segundo quantos registros vai trazer.\n",
    "Você pode mexer nos valores acima e testar a vontade para ver como muda.\n",
    "\n",
    "## Exercício 9\n",
    "\n",
    "Traga o 11º cliente que mais gastou"
   ]
  },
  {
   "cell_type": "code",
   "execution_count": 88,
   "metadata": {},
   "outputs": [
    {
     "name": "stdout",
     "output_type": "stream",
     "text": [
      " * sqlite:///TesteSQL.db\n",
      "Done.\n"
     ]
    },
    {
     "data": {
      "text/html": [
       "<table>\n",
       "    <tr>\n",
       "        <th>nome</th>\n",
       "    </tr>\n",
       "    <tr>\n",
       "        <td>Nathan da Mota</td>\n",
       "    </tr>\n",
       "</table>"
      ],
      "text/plain": [
       "[('Nathan da Mota',)]"
      ]
     },
     "execution_count": 88,
     "metadata": {},
     "output_type": "execute_result"
    }
   ],
   "source": [
    "%%sql\n",
    "\n",
    "SELECT cl.nome\n",
    "FROM clientes cl \n",
    "JOIN compras AS co\n",
    "ON co.ID_CLIENTE = cl.ID\n",
    "JOIN produtos as po\n",
    "ON co.ID_PRODUTO = po.ID\n",
    "group by cl.nome\n",
    "order by sum(po.preço)\n",
    "LIMIT 10,01"
   ]
  },
  {
   "cell_type": "markdown",
   "metadata": {},
   "source": [
    "# Funções janeladas\n",
    "\n",
    "As funções janeladas ou funções analíticas como também são conhecidas, são funções\n",
    "que se aplicam a todas a coluna trazendo métricas como qual posição essa pessoa está\n",
    "entre as que mais gastaram, ou quantas pessoas no mínimo foram necessárias para \n",
    "alcançar até 25% da receita total."
   ]
  },
  {
   "cell_type": "code",
   "execution_count": 89,
   "metadata": {
    "ExecuteTime": {
     "end_time": "2022-01-06T17:27:19.555015Z",
     "start_time": "2022-01-06T17:27:19.545026Z"
    }
   },
   "outputs": [
    {
     "name": "stdout",
     "output_type": "stream",
     "text": [
      " * sqlite:///TesteSQL.db\n",
      "Done.\n"
     ]
    },
    {
     "data": {
      "text/html": [
       "<table>\n",
       "    <tr>\n",
       "        <th>produto</th>\n",
       "        <th>preço</th>\n",
       "        <th>posição</th>\n",
       "    </tr>\n",
       "    <tr>\n",
       "        <td>prod 95</td>\n",
       "        <td>9.94</td>\n",
       "        <td>1</td>\n",
       "    </tr>\n",
       "    <tr>\n",
       "        <td>prod 62</td>\n",
       "        <td>9.92</td>\n",
       "        <td>2</td>\n",
       "    </tr>\n",
       "    <tr>\n",
       "        <td>prod 26</td>\n",
       "        <td>9.89</td>\n",
       "        <td>3</td>\n",
       "    </tr>\n",
       "    <tr>\n",
       "        <td>prod 34</td>\n",
       "        <td>9.73</td>\n",
       "        <td>4</td>\n",
       "    </tr>\n",
       "    <tr>\n",
       "        <td>prod 77</td>\n",
       "        <td>9.72</td>\n",
       "        <td>5</td>\n",
       "    </tr>\n",
       "    <tr>\n",
       "        <td>prod 49</td>\n",
       "        <td>9.68</td>\n",
       "        <td>6</td>\n",
       "    </tr>\n",
       "    <tr>\n",
       "        <td>prod 96</td>\n",
       "        <td>9.49</td>\n",
       "        <td>7</td>\n",
       "    </tr>\n",
       "    <tr>\n",
       "        <td>prod 25</td>\n",
       "        <td>9.44</td>\n",
       "        <td>8</td>\n",
       "    </tr>\n",
       "    <tr>\n",
       "        <td>prod 92</td>\n",
       "        <td>9.39</td>\n",
       "        <td>9</td>\n",
       "    </tr>\n",
       "    <tr>\n",
       "        <td>prod 48</td>\n",
       "        <td>9.33</td>\n",
       "        <td>10</td>\n",
       "    </tr>\n",
       "</table>"
      ],
      "text/plain": [
       "[('prod 95', 9.94, 1),\n",
       " ('prod 62', 9.92, 2),\n",
       " ('prod 26', 9.89, 3),\n",
       " ('prod 34', 9.73, 4),\n",
       " ('prod 77', 9.72, 5),\n",
       " ('prod 49', 9.68, 6),\n",
       " ('prod 96', 9.49, 7),\n",
       " ('prod 25', 9.44, 8),\n",
       " ('prod 92', 9.39, 9),\n",
       " ('prod 48', 9.33, 10)]"
      ]
     },
     "execution_count": 89,
     "metadata": {},
     "output_type": "execute_result"
    }
   ],
   "source": [
    "%%sql\n",
    "\n",
    "SELECT produto, preço, rank() over (order by preço desc) as posição\n",
    "FROM produtos\n",
    "order by posição\n",
    "limit 10"
   ]
  },
  {
   "cell_type": "markdown",
   "metadata": {},
   "source": [
    "Você pode usar as funções janeladas quando lhe for conveniente, mas não serão\n",
    "obrigatórias em nenhum exercício"
   ]
  },
  {
   "cell_type": "markdown",
   "metadata": {},
   "source": [
    "## Exercício 10\n",
    "\n",
    "Qual foi o produto que menos vendeu?"
   ]
  },
  {
   "cell_type": "code",
   "execution_count": 90,
   "metadata": {},
   "outputs": [
    {
     "name": "stdout",
     "output_type": "stream",
     "text": [
      " * sqlite:///TesteSQL.db\n",
      "Done.\n"
     ]
    },
    {
     "data": {
      "text/html": [
       "<table>\n",
       "    <tr>\n",
       "        <th>produto</th>\n",
       "        <th>menos_vendido</th>\n",
       "    </tr>\n",
       "    <tr>\n",
       "        <td>prod 62</td>\n",
       "        <td>1</td>\n",
       "    </tr>\n",
       "</table>"
      ],
      "text/plain": [
       "[('prod 62', 1)]"
      ]
     },
     "execution_count": 90,
     "metadata": {},
     "output_type": "execute_result"
    }
   ],
   "source": [
    "%%sql\n",
    "SELECT produto, rank() over (order by sum(po.preço) desc ) as menos_vendido\n",
    "FROM clientes cl \n",
    "JOIN compras AS co\n",
    "ON co.ID_CLIENTE = cl.ID\n",
    "JOIN produtos as po\n",
    "ON co.ID_PRODUTO = po.ID"
   ]
  },
  {
   "cell_type": "markdown",
   "metadata": {},
   "source": [
    "# Operadores lógicos comuns\n",
    "\n",
    "Alguns operadores lógicos bem famosos são o `=`, `>`, `<`, `>=`, `<=`, `!=`,\n",
    "mas existem outros menos comuns, como o `LIKE` e `IN`.\n",
    "\n",
    "O primeiro, serve para fazer pesquisas simples dentro de texto, ele irá verificar\n",
    "caracter a caracter se a string informada bate com o padrão, de forma mais prática\n",
    "\n",
    "```SQL\n",
    "'abc' LIKE 'abc' -- Verdadeiro\n",
    "\n",
    "'abcd' LIKE 'abc' -- Falso\n",
    "\n",
    "'cbc' LIKE 'abc' -- Falso\n",
    "\n",
    "'dabc' LIKE 'abc' -- Falso\n",
    "```\n",
    "\n",
    "Até aí é exatamente igual ao operador `=`, mas quando adicionamos os wildcards\n",
    "`%` e `_` que o `LIKE` mostra o seu valor.\n",
    "\n",
    "O wildcard `_` pode ser usado para representar qualquer caracter, por exemplo:\n",
    "\n",
    "```SQL\n",
    "'abc' LIKE 'ab_' -- Verdadeiro\n",
    "'abd' LIKE 'ab_' -- Verdadeiro\n",
    "'ab0' LIKE 'ab_' -- Verdadeiro\n",
    "'ab ' LIKE 'ab_' -- Verdadeiro\n",
    "'abcd' LIKE 'ab_' -- Falso\n",
    "'cbc' LIKE 'ab_' -- Falso\n",
    "'ab' LIKE 'ab_' -- Falso\n",
    "'dabc' LIKE 'ab_' -- Falso\n",
    "```\n",
    "\n",
    "Já o wildcard `%` pode ser usado para representar qualquer sequência de caracteres,\n",
    "por exemplo:\n",
    "\n",
    "```SQL\n",
    "'abc' LIKE 'ab%' -- Verdadeiro\n",
    "'abd' LIKE 'ab%' -- Verdadeiro\n",
    "'ab0' LIKE 'ab%' -- Verdadeiro\n",
    "'ab ' LIKE 'ab%' -- Verdadeiro\n",
    "'abcd' LIKE 'ab%' -- Verdadeiro\n",
    "'cbc' LIKE 'ab%' -- Falso\n",
    "'ab' LIKE 'ab%' -- Verdadeiro\n",
    "'dabc' LIKE 'ab%' -- Falso\n",
    "```\n",
    "\n",
    "Usando o nosso exemplo, vamos pegar todos os clientes que tenham e-mail uol:"
   ]
  },
  {
   "cell_type": "code",
   "execution_count": 91,
   "metadata": {
    "ExecuteTime": {
     "end_time": "2022-01-06T17:27:23.557231Z",
     "start_time": "2022-01-06T17:27:23.545734Z"
    }
   },
   "outputs": [
    {
     "name": "stdout",
     "output_type": "stream",
     "text": [
      " * sqlite:///TesteSQL.db\n",
      "Done.\n"
     ]
    },
    {
     "data": {
      "text/html": [
       "<table>\n",
       "    <tr>\n",
       "        <th>id</th>\n",
       "        <th>nome</th>\n",
       "        <th>email</th>\n",
       "        <th>idade</th>\n",
       "    </tr>\n",
       "    <tr>\n",
       "        <td>2</td>\n",
       "        <td>Luiz Otávio Campos</td>\n",
       "        <td>bcunha@uol.com.br</td>\n",
       "        <td>25</td>\n",
       "    </tr>\n",
       "    <tr>\n",
       "        <td>5</td>\n",
       "        <td>Manuela Lima</td>\n",
       "        <td>hferreira@uol.com.br</td>\n",
       "        <td>57</td>\n",
       "    </tr>\n",
       "    <tr>\n",
       "        <td>7</td>\n",
       "        <td>Igor Dias</td>\n",
       "        <td>caua15@uol.com.br</td>\n",
       "        <td>28</td>\n",
       "    </tr>\n",
       "    <tr>\n",
       "        <td>12</td>\n",
       "        <td>Rafaela Rezende</td>\n",
       "        <td>nogueiraemanuel@uol.com.br</td>\n",
       "        <td>28</td>\n",
       "    </tr>\n",
       "    <tr>\n",
       "        <td>14</td>\n",
       "        <td>Davi Lucas Aragão</td>\n",
       "        <td>ecunha@uol.com.br</td>\n",
       "        <td>44</td>\n",
       "    </tr>\n",
       "    <tr>\n",
       "        <td>16</td>\n",
       "        <td>Sra. Maria Alice Araújo</td>\n",
       "        <td>franciscocardoso@uol.com.br</td>\n",
       "        <td>53</td>\n",
       "    </tr>\n",
       "    <tr>\n",
       "        <td>18</td>\n",
       "        <td>Theo Campos</td>\n",
       "        <td>azevedorodrigo@uol.com.br</td>\n",
       "        <td>43</td>\n",
       "    </tr>\n",
       "</table>"
      ],
      "text/plain": [
       "[(2, 'Luiz Otávio Campos', 'bcunha@uol.com.br', 25),\n",
       " (5, 'Manuela Lima', 'hferreira@uol.com.br', 57),\n",
       " (7, 'Igor Dias', 'caua15@uol.com.br', 28),\n",
       " (12, 'Rafaela Rezende', 'nogueiraemanuel@uol.com.br', 28),\n",
       " (14, 'Davi Lucas Aragão', 'ecunha@uol.com.br', 44),\n",
       " (16, 'Sra. Maria Alice Araújo', 'franciscocardoso@uol.com.br', 53),\n",
       " (18, 'Theo Campos', 'azevedorodrigo@uol.com.br', 43)]"
      ]
     },
     "execution_count": 91,
     "metadata": {},
     "output_type": "execute_result"
    }
   ],
   "source": [
    "%%sql\n",
    "\n",
    "SELECT *\n",
    "FROM CLIENTES\n",
    "WHERE EMAIL LIKE '%@uol.com.br'"
   ]
  },
  {
   "cell_type": "markdown",
   "metadata": {},
   "source": [
    "Já o operador `IN` serve para verificar se o valor está dentro de um cojunto, por exemplo\n",
    "\n",
    "```SQL\n",
    "1 in (1, 2, 3) -- Verdadeiro\n",
    "2 in (1, 2, 3) -- Verdadeiro\n",
    "3 in (1, 2, 3) -- Verdadeiro\n",
    "4 in (1, 2, 3) -- Falso\n",
    "(1, 2) in ((1, 2), (3, 4)) -- Verdadeiro\n",
    "(1, 3) in ((1, 2), (3, 4)) -- Falso\n",
    "```"
   ]
  },
  {
   "cell_type": "code",
   "execution_count": 92,
   "metadata": {
    "ExecuteTime": {
     "end_time": "2022-01-06T17:27:28.991337Z",
     "start_time": "2022-01-06T17:27:28.983825Z"
    }
   },
   "outputs": [
    {
     "name": "stdout",
     "output_type": "stream",
     "text": [
      " * sqlite:///TesteSQL.db\n",
      "Done.\n"
     ]
    },
    {
     "data": {
      "text/html": [
       "<table>\n",
       "    <tr>\n",
       "        <th>id</th>\n",
       "        <th>produto</th>\n",
       "        <th>preço</th>\n",
       "    </tr>\n",
       "    <tr>\n",
       "        <td>1</td>\n",
       "        <td>prod 01</td>\n",
       "        <td>7.85</td>\n",
       "    </tr>\n",
       "    <tr>\n",
       "        <td>20</td>\n",
       "        <td>prod 20</td>\n",
       "        <td>0.32</td>\n",
       "    </tr>\n",
       "</table>"
      ],
      "text/plain": [
       "[(1, 'prod 01', 7.85), (20, 'prod 20', 0.32)]"
      ]
     },
     "execution_count": 92,
     "metadata": {},
     "output_type": "execute_result"
    }
   ],
   "source": [
    "%%sql\n",
    "\n",
    "SELECT *\n",
    "FROM PRODUTOS\n",
    "WHERE PRODUTO IN ('prod 01', 'prod 20', 'batata')"
   ]
  },
  {
   "cell_type": "markdown",
   "metadata": {},
   "source": [
    "# Subquerys\n",
    "\n",
    "Subquerys são utilizadas para fazer extrações mais complexas, quando para \n",
    "alcançar um resultado, é necessário outro resultado, digamos, listar todos os\n",
    "produtos comprados pelo cliente que mais gastou, primeiro precisamos encotrar o \n",
    "cliente que mais gastou e depois os produtos que ele comprou.\n",
    "\n",
    "Podemos separar isso em duas querys:\n",
    "\n",
    "1. Selecionar o cliente que mais gastou\n",
    "2. Selecionar todos os produtos que um cliente comprou\n",
    "\n",
    "E elas ficariam como:"
   ]
  },
  {
   "cell_type": "code",
   "execution_count": 93,
   "metadata": {
    "ExecuteTime": {
     "end_time": "2022-01-06T17:27:31.906521Z",
     "start_time": "2022-01-06T17:27:31.897987Z"
    }
   },
   "outputs": [
    {
     "name": "stdout",
     "output_type": "stream",
     "text": [
      " * sqlite:///TesteSQL.db\n",
      "Done.\n"
     ]
    },
    {
     "data": {
      "text/html": [
       "<table>\n",
       "    <tr>\n",
       "        <th>id</th>\n",
       "        <th>nome</th>\n",
       "        <th>GASTO</th>\n",
       "    </tr>\n",
       "    <tr>\n",
       "        <td>2</td>\n",
       "        <td>Luiz Otávio Campos</td>\n",
       "        <td>188.81</td>\n",
       "    </tr>\n",
       "</table>"
      ],
      "text/plain": [
       "[(2, 'Luiz Otávio Campos', 188.81)]"
      ]
     },
     "execution_count": 93,
     "metadata": {},
     "output_type": "execute_result"
    }
   ],
   "source": [
    "%%sql\n",
    "\n",
    "-- Selecionando o cliente que mais gastou\n",
    "\n",
    "SELECT cl2.ID, cl2.nome, sum(po2.preço) AS GASTO\n",
    "FROM clientes cl2\n",
    "JOIN compras AS co2\n",
    "ON co2.ID_CLIENTE = cl2.ID\n",
    "JOIN produtos as po2\n",
    "ON co2.ID_PRODUTO = po2.ID\n",
    "group by cl2.nome, cl2.id\n",
    "ORDER BY gasto DESC\n",
    "LIMIT 1"
   ]
  },
  {
   "cell_type": "code",
   "execution_count": 94,
   "metadata": {
    "ExecuteTime": {
     "end_time": "2022-01-06T17:27:34.648732Z",
     "start_time": "2022-01-06T17:27:34.639732Z"
    }
   },
   "outputs": [
    {
     "name": "stdout",
     "output_type": "stream",
     "text": [
      " * sqlite:///TesteSQL.db\n",
      "Done.\n"
     ]
    },
    {
     "data": {
      "text/html": [
       "<table>\n",
       "    <tr>\n",
       "        <th>produto</th>\n",
       "    </tr>\n",
       "    <tr>\n",
       "        <td>prod 13</td>\n",
       "    </tr>\n",
       "    <tr>\n",
       "        <td>prod 64</td>\n",
       "    </tr>\n",
       "    <tr>\n",
       "        <td>prod 72</td>\n",
       "    </tr>\n",
       "    <tr>\n",
       "        <td>prod 17</td>\n",
       "    </tr>\n",
       "    <tr>\n",
       "        <td>prod 70</td>\n",
       "    </tr>\n",
       "    <tr>\n",
       "        <td>prod 22</td>\n",
       "    </tr>\n",
       "    <tr>\n",
       "        <td>prod 39</td>\n",
       "    </tr>\n",
       "    <tr>\n",
       "        <td>prod 93</td>\n",
       "    </tr>\n",
       "    <tr>\n",
       "        <td>prod 11</td>\n",
       "    </tr>\n",
       "    <tr>\n",
       "        <td>prod 37</td>\n",
       "    </tr>\n",
       "    <tr>\n",
       "        <td>prod 81</td>\n",
       "    </tr>\n",
       "    <tr>\n",
       "        <td>prod 38</td>\n",
       "    </tr>\n",
       "    <tr>\n",
       "        <td>prod 35</td>\n",
       "    </tr>\n",
       "    <tr>\n",
       "        <td>prod 03</td>\n",
       "    </tr>\n",
       "    <tr>\n",
       "        <td>prod 50</td>\n",
       "    </tr>\n",
       "    <tr>\n",
       "        <td>prod 14</td>\n",
       "    </tr>\n",
       "    <tr>\n",
       "        <td>prod 06</td>\n",
       "    </tr>\n",
       "    <tr>\n",
       "        <td>prod 94</td>\n",
       "    </tr>\n",
       "    <tr>\n",
       "        <td>prod 47</td>\n",
       "    </tr>\n",
       "    <tr>\n",
       "        <td>prod 58</td>\n",
       "    </tr>\n",
       "    <tr>\n",
       "        <td>prod 10</td>\n",
       "    </tr>\n",
       "    <tr>\n",
       "        <td>prod 69</td>\n",
       "    </tr>\n",
       "    <tr>\n",
       "        <td>prod 29</td>\n",
       "    </tr>\n",
       "    <tr>\n",
       "        <td>prod 25</td>\n",
       "    </tr>\n",
       "    <tr>\n",
       "        <td>prod 62</td>\n",
       "    </tr>\n",
       "</table>"
      ],
      "text/plain": [
       "[('prod 13',),\n",
       " ('prod 64',),\n",
       " ('prod 72',),\n",
       " ('prod 17',),\n",
       " ('prod 70',),\n",
       " ('prod 22',),\n",
       " ('prod 39',),\n",
       " ('prod 93',),\n",
       " ('prod 11',),\n",
       " ('prod 37',),\n",
       " ('prod 81',),\n",
       " ('prod 38',),\n",
       " ('prod 35',),\n",
       " ('prod 03',),\n",
       " ('prod 50',),\n",
       " ('prod 14',),\n",
       " ('prod 06',),\n",
       " ('prod 94',),\n",
       " ('prod 47',),\n",
       " ('prod 58',),\n",
       " ('prod 10',),\n",
       " ('prod 69',),\n",
       " ('prod 29',),\n",
       " ('prod 25',),\n",
       " ('prod 62',)]"
      ]
     },
     "execution_count": 94,
     "metadata": {},
     "output_type": "execute_result"
    }
   ],
   "source": [
    "%%sql\n",
    "\n",
    "-- Selecionar todos os produtos que umm cliente comprou\n",
    "\n",
    "SELECT DISTINCT po.produto\n",
    "FROM produtos as po\n",
    "JOIN compras AS co\n",
    "ON co.ID_PRODUTO = po.ID\n",
    "WHERE co.ID_CLIENTE IN (5)"
   ]
  },
  {
   "cell_type": "code",
   "execution_count": 95,
   "metadata": {
    "ExecuteTime": {
     "end_time": "2022-01-06T17:27:37.602522Z",
     "start_time": "2022-01-06T17:27:37.591522Z"
    }
   },
   "outputs": [
    {
     "name": "stdout",
     "output_type": "stream",
     "text": [
      " * sqlite:///TesteSQL.db\n",
      "Done.\n"
     ]
    },
    {
     "data": {
      "text/html": [
       "<table>\n",
       "    <tr>\n",
       "        <th>produto</th>\n",
       "    </tr>\n",
       "    <tr>\n",
       "        <td>prod 48</td>\n",
       "    </tr>\n",
       "    <tr>\n",
       "        <td>prod 77</td>\n",
       "    </tr>\n",
       "    <tr>\n",
       "        <td>prod 23</td>\n",
       "    </tr>\n",
       "    <tr>\n",
       "        <td>prod 74</td>\n",
       "    </tr>\n",
       "    <tr>\n",
       "        <td>prod 36</td>\n",
       "    </tr>\n",
       "    <tr>\n",
       "        <td>prod 43</td>\n",
       "    </tr>\n",
       "    <tr>\n",
       "        <td>prod 05</td>\n",
       "    </tr>\n",
       "    <tr>\n",
       "        <td>prod 19</td>\n",
       "    </tr>\n",
       "    <tr>\n",
       "        <td>prod 60</td>\n",
       "    </tr>\n",
       "    <tr>\n",
       "        <td>prod 46</td>\n",
       "    </tr>\n",
       "    <tr>\n",
       "        <td>prod 29</td>\n",
       "    </tr>\n",
       "    <tr>\n",
       "        <td>prod 94</td>\n",
       "    </tr>\n",
       "    <tr>\n",
       "        <td>prod 97</td>\n",
       "    </tr>\n",
       "    <tr>\n",
       "        <td>prod 69</td>\n",
       "    </tr>\n",
       "    <tr>\n",
       "        <td>prod 56</td>\n",
       "    </tr>\n",
       "    <tr>\n",
       "        <td>prod 42</td>\n",
       "    </tr>\n",
       "    <tr>\n",
       "        <td>prod 70</td>\n",
       "    </tr>\n",
       "    <tr>\n",
       "        <td>prod 85</td>\n",
       "    </tr>\n",
       "    <tr>\n",
       "        <td>prod 03</td>\n",
       "    </tr>\n",
       "    <tr>\n",
       "        <td>prod 88</td>\n",
       "    </tr>\n",
       "    <tr>\n",
       "        <td>prod 13</td>\n",
       "    </tr>\n",
       "    <tr>\n",
       "        <td>prod 17</td>\n",
       "    </tr>\n",
       "    <tr>\n",
       "        <td>prod 06</td>\n",
       "    </tr>\n",
       "    <tr>\n",
       "        <td>prod 21</td>\n",
       "    </tr>\n",
       "    <tr>\n",
       "        <td>prod 08</td>\n",
       "    </tr>\n",
       "    <tr>\n",
       "        <td>prod 41</td>\n",
       "    </tr>\n",
       "    <tr>\n",
       "        <td>prod 92</td>\n",
       "    </tr>\n",
       "    <tr>\n",
       "        <td>prod 07</td>\n",
       "    </tr>\n",
       "    <tr>\n",
       "        <td>prod 90</td>\n",
       "    </tr>\n",
       "    <tr>\n",
       "        <td>prod 49</td>\n",
       "    </tr>\n",
       "    <tr>\n",
       "        <td>prod 53</td>\n",
       "    </tr>\n",
       "</table>"
      ],
      "text/plain": [
       "[('prod 48',),\n",
       " ('prod 77',),\n",
       " ('prod 23',),\n",
       " ('prod 74',),\n",
       " ('prod 36',),\n",
       " ('prod 43',),\n",
       " ('prod 05',),\n",
       " ('prod 19',),\n",
       " ('prod 60',),\n",
       " ('prod 46',),\n",
       " ('prod 29',),\n",
       " ('prod 94',),\n",
       " ('prod 97',),\n",
       " ('prod 69',),\n",
       " ('prod 56',),\n",
       " ('prod 42',),\n",
       " ('prod 70',),\n",
       " ('prod 85',),\n",
       " ('prod 03',),\n",
       " ('prod 88',),\n",
       " ('prod 13',),\n",
       " ('prod 17',),\n",
       " ('prod 06',),\n",
       " ('prod 21',),\n",
       " ('prod 08',),\n",
       " ('prod 41',),\n",
       " ('prod 92',),\n",
       " ('prod 07',),\n",
       " ('prod 90',),\n",
       " ('prod 49',),\n",
       " ('prod 53',)]"
      ]
     },
     "execution_count": 95,
     "metadata": {},
     "output_type": "execute_result"
    }
   ],
   "source": [
    "%%sql\n",
    "\n",
    "-- Juntando as duas:\n",
    "    \n",
    "SELECT DISTINCT po.produto\n",
    "FROM produtos as po\n",
    "JOIN compras AS co\n",
    "ON co.ID_PRODUTO = po.ID\n",
    "WHERE co.ID_CLIENTE IN (\n",
    "    SELECT cl2.ID\n",
    "    FROM clientes cl2\n",
    "    JOIN compras AS co2\n",
    "    ON co2.ID_CLIENTE = cl2.ID\n",
    "    JOIN produtos as po2\n",
    "    ON co2.ID_PRODUTO = po2.ID\n",
    "    group by cl2.nome, cl2.id\n",
    "    ORDER BY sum(po2.preço) DESC\n",
    "    LIMIT 1\n",
    ")"
   ]
  },
  {
   "cell_type": "markdown",
   "metadata": {},
   "source": [
    "Se eu quisesse exibir o nome do cliente, eu poderia fazer mais um join pegando\n",
    "o nome dele na tabela cliente, mas nesse caso, eu estou pegando um dado que eu\n",
    "consigo facilmente na subquery, existem formas de trazer dados lá de dentro,\n",
    "como por  exemplo:"
   ]
  },
  {
   "cell_type": "code",
   "execution_count": 96,
   "metadata": {
    "ExecuteTime": {
     "end_time": "2022-01-06T17:27:40.338485Z",
     "start_time": "2022-01-06T17:27:40.326947Z"
    }
   },
   "outputs": [
    {
     "name": "stdout",
     "output_type": "stream",
     "text": [
      " * sqlite:///TesteSQL.db\n",
      "Done.\n"
     ]
    },
    {
     "data": {
      "text/html": [
       "<table>\n",
       "    <tr>\n",
       "        <th>nome</th>\n",
       "        <th>produto</th>\n",
       "    </tr>\n",
       "    <tr>\n",
       "        <td>Luiz Otávio Campos</td>\n",
       "        <td>prod 03</td>\n",
       "    </tr>\n",
       "    <tr>\n",
       "        <td>Luiz Otávio Campos</td>\n",
       "        <td>prod 05</td>\n",
       "    </tr>\n",
       "    <tr>\n",
       "        <td>Luiz Otávio Campos</td>\n",
       "        <td>prod 06</td>\n",
       "    </tr>\n",
       "    <tr>\n",
       "        <td>Luiz Otávio Campos</td>\n",
       "        <td>prod 07</td>\n",
       "    </tr>\n",
       "    <tr>\n",
       "        <td>Luiz Otávio Campos</td>\n",
       "        <td>prod 08</td>\n",
       "    </tr>\n",
       "    <tr>\n",
       "        <td>Luiz Otávio Campos</td>\n",
       "        <td>prod 13</td>\n",
       "    </tr>\n",
       "    <tr>\n",
       "        <td>Luiz Otávio Campos</td>\n",
       "        <td>prod 17</td>\n",
       "    </tr>\n",
       "    <tr>\n",
       "        <td>Luiz Otávio Campos</td>\n",
       "        <td>prod 19</td>\n",
       "    </tr>\n",
       "    <tr>\n",
       "        <td>Luiz Otávio Campos</td>\n",
       "        <td>prod 21</td>\n",
       "    </tr>\n",
       "    <tr>\n",
       "        <td>Luiz Otávio Campos</td>\n",
       "        <td>prod 23</td>\n",
       "    </tr>\n",
       "    <tr>\n",
       "        <td>Luiz Otávio Campos</td>\n",
       "        <td>prod 29</td>\n",
       "    </tr>\n",
       "    <tr>\n",
       "        <td>Luiz Otávio Campos</td>\n",
       "        <td>prod 36</td>\n",
       "    </tr>\n",
       "    <tr>\n",
       "        <td>Luiz Otávio Campos</td>\n",
       "        <td>prod 41</td>\n",
       "    </tr>\n",
       "    <tr>\n",
       "        <td>Luiz Otávio Campos</td>\n",
       "        <td>prod 42</td>\n",
       "    </tr>\n",
       "    <tr>\n",
       "        <td>Luiz Otávio Campos</td>\n",
       "        <td>prod 43</td>\n",
       "    </tr>\n",
       "    <tr>\n",
       "        <td>Luiz Otávio Campos</td>\n",
       "        <td>prod 46</td>\n",
       "    </tr>\n",
       "    <tr>\n",
       "        <td>Luiz Otávio Campos</td>\n",
       "        <td>prod 48</td>\n",
       "    </tr>\n",
       "    <tr>\n",
       "        <td>Luiz Otávio Campos</td>\n",
       "        <td>prod 49</td>\n",
       "    </tr>\n",
       "    <tr>\n",
       "        <td>Luiz Otávio Campos</td>\n",
       "        <td>prod 53</td>\n",
       "    </tr>\n",
       "    <tr>\n",
       "        <td>Luiz Otávio Campos</td>\n",
       "        <td>prod 56</td>\n",
       "    </tr>\n",
       "    <tr>\n",
       "        <td>Luiz Otávio Campos</td>\n",
       "        <td>prod 60</td>\n",
       "    </tr>\n",
       "    <tr>\n",
       "        <td>Luiz Otávio Campos</td>\n",
       "        <td>prod 69</td>\n",
       "    </tr>\n",
       "    <tr>\n",
       "        <td>Luiz Otávio Campos</td>\n",
       "        <td>prod 70</td>\n",
       "    </tr>\n",
       "    <tr>\n",
       "        <td>Luiz Otávio Campos</td>\n",
       "        <td>prod 74</td>\n",
       "    </tr>\n",
       "    <tr>\n",
       "        <td>Luiz Otávio Campos</td>\n",
       "        <td>prod 77</td>\n",
       "    </tr>\n",
       "    <tr>\n",
       "        <td>Luiz Otávio Campos</td>\n",
       "        <td>prod 85</td>\n",
       "    </tr>\n",
       "    <tr>\n",
       "        <td>Luiz Otávio Campos</td>\n",
       "        <td>prod 88</td>\n",
       "    </tr>\n",
       "    <tr>\n",
       "        <td>Luiz Otávio Campos</td>\n",
       "        <td>prod 90</td>\n",
       "    </tr>\n",
       "    <tr>\n",
       "        <td>Luiz Otávio Campos</td>\n",
       "        <td>prod 92</td>\n",
       "    </tr>\n",
       "    <tr>\n",
       "        <td>Luiz Otávio Campos</td>\n",
       "        <td>prod 94</td>\n",
       "    </tr>\n",
       "    <tr>\n",
       "        <td>Luiz Otávio Campos</td>\n",
       "        <td>prod 97</td>\n",
       "    </tr>\n",
       "</table>"
      ],
      "text/plain": [
       "[('Luiz Otávio Campos', 'prod 03'),\n",
       " ('Luiz Otávio Campos', 'prod 05'),\n",
       " ('Luiz Otávio Campos', 'prod 06'),\n",
       " ('Luiz Otávio Campos', 'prod 07'),\n",
       " ('Luiz Otávio Campos', 'prod 08'),\n",
       " ('Luiz Otávio Campos', 'prod 13'),\n",
       " ('Luiz Otávio Campos', 'prod 17'),\n",
       " ('Luiz Otávio Campos', 'prod 19'),\n",
       " ('Luiz Otávio Campos', 'prod 21'),\n",
       " ('Luiz Otávio Campos', 'prod 23'),\n",
       " ('Luiz Otávio Campos', 'prod 29'),\n",
       " ('Luiz Otávio Campos', 'prod 36'),\n",
       " ('Luiz Otávio Campos', 'prod 41'),\n",
       " ('Luiz Otávio Campos', 'prod 42'),\n",
       " ('Luiz Otávio Campos', 'prod 43'),\n",
       " ('Luiz Otávio Campos', 'prod 46'),\n",
       " ('Luiz Otávio Campos', 'prod 48'),\n",
       " ('Luiz Otávio Campos', 'prod 49'),\n",
       " ('Luiz Otávio Campos', 'prod 53'),\n",
       " ('Luiz Otávio Campos', 'prod 56'),\n",
       " ('Luiz Otávio Campos', 'prod 60'),\n",
       " ('Luiz Otávio Campos', 'prod 69'),\n",
       " ('Luiz Otávio Campos', 'prod 70'),\n",
       " ('Luiz Otávio Campos', 'prod 74'),\n",
       " ('Luiz Otávio Campos', 'prod 77'),\n",
       " ('Luiz Otávio Campos', 'prod 85'),\n",
       " ('Luiz Otávio Campos', 'prod 88'),\n",
       " ('Luiz Otávio Campos', 'prod 90'),\n",
       " ('Luiz Otávio Campos', 'prod 92'),\n",
       " ('Luiz Otávio Campos', 'prod 94'),\n",
       " ('Luiz Otávio Campos', 'prod 97')]"
      ]
     },
     "execution_count": 96,
     "metadata": {},
     "output_type": "execute_result"
    }
   ],
   "source": [
    "%%sql\n",
    "\n",
    "    \n",
    "SELECT tb.nome, po.produto\n",
    "FROM produtos as po\n",
    "JOIN compras AS co\n",
    "ON co.ID_PRODUTO = po.ID\n",
    "join (\n",
    "    SELECT cl2.ID, cl2.nome\n",
    "    FROM clientes cl2\n",
    "    JOIN compras AS co2\n",
    "    ON co2.ID_CLIENTE = cl2.ID\n",
    "    JOIN produtos as po2\n",
    "    ON co2.ID_PRODUTO = po2.ID\n",
    "    group by cl2.nome, cl2.id\n",
    "    ORDER BY sum(po2.preço) DESC\n",
    "    LIMIT 1\n",
    ") tb on co.ID_CLIENTE = tb.ID\n",
    "group by tb.nome, po.produto"
   ]
  },
  {
   "cell_type": "markdown",
   "metadata": {},
   "source": [
    "Não existe limite de quantidade de subquerys que você pode fazer, sejam uma duas\n",
    "ou várias, fazendo uma verdadeira boneca russa, mas use com atenção, verifique\n",
    "sempre se realmente é necessário.\n",
    "\n",
    "Se por exemplo, eu quisesse saber quantos clientes compraram os mesmos\n",
    "produtos que a pessoa que mais gastou comprou\n",
    "\n",
    "\n",
    "1. Selecionar o cliente que mais gastou\n",
    "2. Selecionar todos os produtos que um cliente comprou\n",
    "3. Contar quantos clientes compraram um produto\n",
    "\n",
    "Como a query 1 e 2 já são antigas, vou fazer a 3"
   ]
  },
  {
   "cell_type": "code",
   "execution_count": 97,
   "metadata": {
    "ExecuteTime": {
     "end_time": "2022-01-06T17:27:45.770154Z",
     "start_time": "2022-01-06T17:27:45.760618Z"
    }
   },
   "outputs": [
    {
     "name": "stdout",
     "output_type": "stream",
     "text": [
      " * sqlite:///TesteSQL.db\n",
      "Done.\n"
     ]
    },
    {
     "data": {
      "text/html": [
       "<table>\n",
       "    <tr>\n",
       "        <th>produto</th>\n",
       "        <th>count(DISTINCT co.ID_CLIENTE)</th>\n",
       "    </tr>\n",
       "    <tr>\n",
       "        <td>prod 05</td>\n",
       "        <td>6</td>\n",
       "    </tr>\n",
       "</table>"
      ],
      "text/plain": [
       "[('prod 05', 6)]"
      ]
     },
     "execution_count": 97,
     "metadata": {},
     "output_type": "execute_result"
    }
   ],
   "source": [
    "%%sql\n",
    "\n",
    "-- Contar quantos clientes compraram um produto\n",
    "\n",
    "SELECT po.produto, count(DISTINCT co.ID_CLIENTE)\n",
    "FROM compras co\n",
    "JOIN produtos po on po.ID = co.ID_PRODUTO\n",
    "WHERE co.ID_PRODUTO IN (5)\n",
    "GROUP by po.produto"
   ]
  },
  {
   "cell_type": "code",
   "execution_count": 98,
   "metadata": {
    "ExecuteTime": {
     "end_time": "2022-01-06T17:27:48.364497Z",
     "start_time": "2022-01-06T17:27:48.351998Z"
    }
   },
   "outputs": [
    {
     "name": "stdout",
     "output_type": "stream",
     "text": [
      " * sqlite:///TesteSQL.db\n",
      "Done.\n"
     ]
    },
    {
     "data": {
      "text/html": [
       "<table>\n",
       "    <tr>\n",
       "        <th>produto</th>\n",
       "        <th>count(DISTINCT co.ID_CLIENTE)</th>\n",
       "    </tr>\n",
       "    <tr>\n",
       "        <td>prod 03</td>\n",
       "        <td>5</td>\n",
       "    </tr>\n",
       "    <tr>\n",
       "        <td>prod 05</td>\n",
       "        <td>6</td>\n",
       "    </tr>\n",
       "    <tr>\n",
       "        <td>prod 06</td>\n",
       "        <td>5</td>\n",
       "    </tr>\n",
       "    <tr>\n",
       "        <td>prod 07</td>\n",
       "        <td>3</td>\n",
       "    </tr>\n",
       "    <tr>\n",
       "        <td>prod 08</td>\n",
       "        <td>3</td>\n",
       "    </tr>\n",
       "    <tr>\n",
       "        <td>prod 13</td>\n",
       "        <td>5</td>\n",
       "    </tr>\n",
       "    <tr>\n",
       "        <td>prod 17</td>\n",
       "        <td>6</td>\n",
       "    </tr>\n",
       "    <tr>\n",
       "        <td>prod 19</td>\n",
       "        <td>4</td>\n",
       "    </tr>\n",
       "    <tr>\n",
       "        <td>prod 21</td>\n",
       "        <td>4</td>\n",
       "    </tr>\n",
       "    <tr>\n",
       "        <td>prod 23</td>\n",
       "        <td>6</td>\n",
       "    </tr>\n",
       "    <tr>\n",
       "        <td>prod 29</td>\n",
       "        <td>5</td>\n",
       "    </tr>\n",
       "    <tr>\n",
       "        <td>prod 36</td>\n",
       "        <td>3</td>\n",
       "    </tr>\n",
       "    <tr>\n",
       "        <td>prod 41</td>\n",
       "        <td>3</td>\n",
       "    </tr>\n",
       "    <tr>\n",
       "        <td>prod 42</td>\n",
       "        <td>3</td>\n",
       "    </tr>\n",
       "    <tr>\n",
       "        <td>prod 43</td>\n",
       "        <td>4</td>\n",
       "    </tr>\n",
       "    <tr>\n",
       "        <td>prod 46</td>\n",
       "        <td>3</td>\n",
       "    </tr>\n",
       "    <tr>\n",
       "        <td>prod 48</td>\n",
       "        <td>3</td>\n",
       "    </tr>\n",
       "    <tr>\n",
       "        <td>prod 49</td>\n",
       "        <td>6</td>\n",
       "    </tr>\n",
       "    <tr>\n",
       "        <td>prod 53</td>\n",
       "        <td>7</td>\n",
       "    </tr>\n",
       "    <tr>\n",
       "        <td>prod 56</td>\n",
       "        <td>4</td>\n",
       "    </tr>\n",
       "    <tr>\n",
       "        <td>prod 60</td>\n",
       "        <td>2</td>\n",
       "    </tr>\n",
       "    <tr>\n",
       "        <td>prod 69</td>\n",
       "        <td>7</td>\n",
       "    </tr>\n",
       "    <tr>\n",
       "        <td>prod 70</td>\n",
       "        <td>5</td>\n",
       "    </tr>\n",
       "    <tr>\n",
       "        <td>prod 74</td>\n",
       "        <td>3</td>\n",
       "    </tr>\n",
       "    <tr>\n",
       "        <td>prod 77</td>\n",
       "        <td>6</td>\n",
       "    </tr>\n",
       "    <tr>\n",
       "        <td>prod 85</td>\n",
       "        <td>5</td>\n",
       "    </tr>\n",
       "    <tr>\n",
       "        <td>prod 88</td>\n",
       "        <td>6</td>\n",
       "    </tr>\n",
       "    <tr>\n",
       "        <td>prod 90</td>\n",
       "        <td>5</td>\n",
       "    </tr>\n",
       "    <tr>\n",
       "        <td>prod 92</td>\n",
       "        <td>3</td>\n",
       "    </tr>\n",
       "    <tr>\n",
       "        <td>prod 94</td>\n",
       "        <td>4</td>\n",
       "    </tr>\n",
       "    <tr>\n",
       "        <td>prod 97</td>\n",
       "        <td>7</td>\n",
       "    </tr>\n",
       "</table>"
      ],
      "text/plain": [
       "[('prod 03', 5),\n",
       " ('prod 05', 6),\n",
       " ('prod 06', 5),\n",
       " ('prod 07', 3),\n",
       " ('prod 08', 3),\n",
       " ('prod 13', 5),\n",
       " ('prod 17', 6),\n",
       " ('prod 19', 4),\n",
       " ('prod 21', 4),\n",
       " ('prod 23', 6),\n",
       " ('prod 29', 5),\n",
       " ('prod 36', 3),\n",
       " ('prod 41', 3),\n",
       " ('prod 42', 3),\n",
       " ('prod 43', 4),\n",
       " ('prod 46', 3),\n",
       " ('prod 48', 3),\n",
       " ('prod 49', 6),\n",
       " ('prod 53', 7),\n",
       " ('prod 56', 4),\n",
       " ('prod 60', 2),\n",
       " ('prod 69', 7),\n",
       " ('prod 70', 5),\n",
       " ('prod 74', 3),\n",
       " ('prod 77', 6),\n",
       " ('prod 85', 5),\n",
       " ('prod 88', 6),\n",
       " ('prod 90', 5),\n",
       " ('prod 92', 3),\n",
       " ('prod 94', 4),\n",
       " ('prod 97', 7)]"
      ]
     },
     "execution_count": 98,
     "metadata": {},
     "output_type": "execute_result"
    }
   ],
   "source": [
    "%%sql\n",
    "\n",
    "SELECT po.produto, count(DISTINCT co.ID_CLIENTE)\n",
    "FROM compras co\n",
    "JOIN produtos po on po.ID = co.ID_PRODUTO\n",
    "WHERE co.ID_PRODUTO IN (\n",
    "    SELECT DISTINCT po2.id\n",
    "    FROM produtos as po2\n",
    "    JOIN compras AS co2\n",
    "    ON co2.ID_PRODUTO = po2.ID\n",
    "    WHERE co2.ID_CLIENTE IN (\n",
    "        SELECT cl3.ID\n",
    "        FROM clientes cl3\n",
    "        JOIN compras AS co3\n",
    "        ON co3.ID_CLIENTE = cl3.ID\n",
    "        JOIN produtos as po3\n",
    "        ON co3.ID_PRODUTO = po3.ID\n",
    "        group by cl3.nome, cl3.id\n",
    "        ORDER BY sum(po3.preço) DESC\n",
    "        LIMIT 1\n",
    "    )\n",
    ")\n",
    "GROUP by po.produto"
   ]
  },
  {
   "cell_type": "markdown",
   "metadata": {},
   "source": [
    "Mas novamente podemos simplificar usando join ao invés de where, lembre-se,\n",
    "quanto menos vezes você repetir o nome de uma tabela, melhor"
   ]
  },
  {
   "cell_type": "code",
   "execution_count": 99,
   "metadata": {
    "ExecuteTime": {
     "end_time": "2022-01-06T17:27:54.086655Z",
     "start_time": "2022-01-06T17:27:54.071655Z"
    }
   },
   "outputs": [
    {
     "name": "stdout",
     "output_type": "stream",
     "text": [
      " * sqlite:///TesteSQL.db\n",
      "Done.\n"
     ]
    },
    {
     "data": {
      "text/html": [
       "<table>\n",
       "    <tr>\n",
       "        <th>produto</th>\n",
       "        <th>count(DISTINCT co.ID_CLIENTE)</th>\n",
       "    </tr>\n",
       "    <tr>\n",
       "        <td>prod 03</td>\n",
       "        <td>5</td>\n",
       "    </tr>\n",
       "    <tr>\n",
       "        <td>prod 05</td>\n",
       "        <td>6</td>\n",
       "    </tr>\n",
       "    <tr>\n",
       "        <td>prod 06</td>\n",
       "        <td>5</td>\n",
       "    </tr>\n",
       "    <tr>\n",
       "        <td>prod 07</td>\n",
       "        <td>3</td>\n",
       "    </tr>\n",
       "    <tr>\n",
       "        <td>prod 08</td>\n",
       "        <td>3</td>\n",
       "    </tr>\n",
       "    <tr>\n",
       "        <td>prod 13</td>\n",
       "        <td>5</td>\n",
       "    </tr>\n",
       "    <tr>\n",
       "        <td>prod 17</td>\n",
       "        <td>6</td>\n",
       "    </tr>\n",
       "    <tr>\n",
       "        <td>prod 19</td>\n",
       "        <td>4</td>\n",
       "    </tr>\n",
       "    <tr>\n",
       "        <td>prod 21</td>\n",
       "        <td>4</td>\n",
       "    </tr>\n",
       "    <tr>\n",
       "        <td>prod 23</td>\n",
       "        <td>6</td>\n",
       "    </tr>\n",
       "    <tr>\n",
       "        <td>prod 29</td>\n",
       "        <td>5</td>\n",
       "    </tr>\n",
       "    <tr>\n",
       "        <td>prod 36</td>\n",
       "        <td>3</td>\n",
       "    </tr>\n",
       "    <tr>\n",
       "        <td>prod 41</td>\n",
       "        <td>3</td>\n",
       "    </tr>\n",
       "    <tr>\n",
       "        <td>prod 42</td>\n",
       "        <td>3</td>\n",
       "    </tr>\n",
       "    <tr>\n",
       "        <td>prod 43</td>\n",
       "        <td>4</td>\n",
       "    </tr>\n",
       "    <tr>\n",
       "        <td>prod 46</td>\n",
       "        <td>3</td>\n",
       "    </tr>\n",
       "    <tr>\n",
       "        <td>prod 48</td>\n",
       "        <td>3</td>\n",
       "    </tr>\n",
       "    <tr>\n",
       "        <td>prod 49</td>\n",
       "        <td>6</td>\n",
       "    </tr>\n",
       "    <tr>\n",
       "        <td>prod 53</td>\n",
       "        <td>7</td>\n",
       "    </tr>\n",
       "    <tr>\n",
       "        <td>prod 56</td>\n",
       "        <td>4</td>\n",
       "    </tr>\n",
       "    <tr>\n",
       "        <td>prod 60</td>\n",
       "        <td>2</td>\n",
       "    </tr>\n",
       "    <tr>\n",
       "        <td>prod 69</td>\n",
       "        <td>7</td>\n",
       "    </tr>\n",
       "    <tr>\n",
       "        <td>prod 70</td>\n",
       "        <td>5</td>\n",
       "    </tr>\n",
       "    <tr>\n",
       "        <td>prod 74</td>\n",
       "        <td>3</td>\n",
       "    </tr>\n",
       "    <tr>\n",
       "        <td>prod 77</td>\n",
       "        <td>6</td>\n",
       "    </tr>\n",
       "    <tr>\n",
       "        <td>prod 85</td>\n",
       "        <td>5</td>\n",
       "    </tr>\n",
       "    <tr>\n",
       "        <td>prod 88</td>\n",
       "        <td>6</td>\n",
       "    </tr>\n",
       "    <tr>\n",
       "        <td>prod 90</td>\n",
       "        <td>5</td>\n",
       "    </tr>\n",
       "    <tr>\n",
       "        <td>prod 92</td>\n",
       "        <td>3</td>\n",
       "    </tr>\n",
       "    <tr>\n",
       "        <td>prod 94</td>\n",
       "        <td>4</td>\n",
       "    </tr>\n",
       "    <tr>\n",
       "        <td>prod 97</td>\n",
       "        <td>7</td>\n",
       "    </tr>\n",
       "</table>"
      ],
      "text/plain": [
       "[('prod 03', 5),\n",
       " ('prod 05', 6),\n",
       " ('prod 06', 5),\n",
       " ('prod 07', 3),\n",
       " ('prod 08', 3),\n",
       " ('prod 13', 5),\n",
       " ('prod 17', 6),\n",
       " ('prod 19', 4),\n",
       " ('prod 21', 4),\n",
       " ('prod 23', 6),\n",
       " ('prod 29', 5),\n",
       " ('prod 36', 3),\n",
       " ('prod 41', 3),\n",
       " ('prod 42', 3),\n",
       " ('prod 43', 4),\n",
       " ('prod 46', 3),\n",
       " ('prod 48', 3),\n",
       " ('prod 49', 6),\n",
       " ('prod 53', 7),\n",
       " ('prod 56', 4),\n",
       " ('prod 60', 2),\n",
       " ('prod 69', 7),\n",
       " ('prod 70', 5),\n",
       " ('prod 74', 3),\n",
       " ('prod 77', 6),\n",
       " ('prod 85', 5),\n",
       " ('prod 88', 6),\n",
       " ('prod 90', 5),\n",
       " ('prod 92', 3),\n",
       " ('prod 94', 4),\n",
       " ('prod 97', 7)]"
      ]
     },
     "execution_count": 99,
     "metadata": {},
     "output_type": "execute_result"
    }
   ],
   "source": [
    "%%sql\n",
    "\n",
    "SELECT po.produto, count(DISTINCT co.ID_CLIENTE)\n",
    "FROM compras co\n",
    "JOIN produtos as po on co.ID_PRODUTO = po.ID\n",
    "JOIN (\n",
    "    SELECT cl3.ID\n",
    "    FROM clientes cl3\n",
    "    JOIN compras AS co3\n",
    "    ON co3.ID_CLIENTE = cl3.ID\n",
    "    JOIN produtos as po3\n",
    "    ON co3.ID_PRODUTO = po3.ID\n",
    "    group by cl3.nome, cl3.id\n",
    "    ORDER BY sum(po3.preço) DESC\n",
    "    LIMIT 1\n",
    ") q1\n",
    "JOIN(\n",
    "    SELECT co2.id_PRODUTO, co2.ID_CLIENTE\n",
    "    FROM compras AS co2\n",
    "    GROUP BY co2.id_PRODUTO, co2.ID_CLIENTE\n",
    ") q2 ON co.ID_PRODUTO = q2.ID_PRODUTO AND q2.ID_CLIENTE = q1.ID\n",
    "GROUP by po.produto"
   ]
  },
  {
   "cell_type": "markdown",
   "metadata": {},
   "source": [
    "# With\n",
    "\n",
    "Muitas vezes fica confuso ficar colocando várias subquerys no meio da query \n",
    "pricipal, ou você quer repetir ela, não quer ter que trocar alias e etc.\n",
    "\n",
    "Para resolver esses problemas, ou até outros, consulte a \n",
    "[documentação](https://www.sqlite.org/lang_with.html) para ver\n",
    "tudo o que ele é capaz, existe o `WITH`."
   ]
  },
  {
   "cell_type": "code",
   "execution_count": 100,
   "metadata": {
    "ExecuteTime": {
     "end_time": "2022-01-06T17:28:11.724261Z",
     "start_time": "2022-01-06T17:28:11.709270Z"
    }
   },
   "outputs": [
    {
     "name": "stdout",
     "output_type": "stream",
     "text": [
      " * sqlite:///TesteSQL.db\n",
      "Done.\n"
     ]
    },
    {
     "data": {
      "text/html": [
       "<table>\n",
       "    <tr>\n",
       "        <th>produto</th>\n",
       "        <th>count(DISTINCT co.ID_CLIENTE)</th>\n",
       "    </tr>\n",
       "    <tr>\n",
       "        <td>prod 03</td>\n",
       "        <td>5</td>\n",
       "    </tr>\n",
       "    <tr>\n",
       "        <td>prod 05</td>\n",
       "        <td>6</td>\n",
       "    </tr>\n",
       "    <tr>\n",
       "        <td>prod 06</td>\n",
       "        <td>5</td>\n",
       "    </tr>\n",
       "    <tr>\n",
       "        <td>prod 07</td>\n",
       "        <td>3</td>\n",
       "    </tr>\n",
       "    <tr>\n",
       "        <td>prod 08</td>\n",
       "        <td>3</td>\n",
       "    </tr>\n",
       "    <tr>\n",
       "        <td>prod 13</td>\n",
       "        <td>5</td>\n",
       "    </tr>\n",
       "    <tr>\n",
       "        <td>prod 17</td>\n",
       "        <td>6</td>\n",
       "    </tr>\n",
       "    <tr>\n",
       "        <td>prod 19</td>\n",
       "        <td>4</td>\n",
       "    </tr>\n",
       "    <tr>\n",
       "        <td>prod 21</td>\n",
       "        <td>4</td>\n",
       "    </tr>\n",
       "    <tr>\n",
       "        <td>prod 23</td>\n",
       "        <td>6</td>\n",
       "    </tr>\n",
       "    <tr>\n",
       "        <td>prod 29</td>\n",
       "        <td>5</td>\n",
       "    </tr>\n",
       "    <tr>\n",
       "        <td>prod 36</td>\n",
       "        <td>3</td>\n",
       "    </tr>\n",
       "    <tr>\n",
       "        <td>prod 41</td>\n",
       "        <td>3</td>\n",
       "    </tr>\n",
       "    <tr>\n",
       "        <td>prod 42</td>\n",
       "        <td>3</td>\n",
       "    </tr>\n",
       "    <tr>\n",
       "        <td>prod 43</td>\n",
       "        <td>4</td>\n",
       "    </tr>\n",
       "    <tr>\n",
       "        <td>prod 46</td>\n",
       "        <td>3</td>\n",
       "    </tr>\n",
       "    <tr>\n",
       "        <td>prod 48</td>\n",
       "        <td>3</td>\n",
       "    </tr>\n",
       "    <tr>\n",
       "        <td>prod 49</td>\n",
       "        <td>6</td>\n",
       "    </tr>\n",
       "    <tr>\n",
       "        <td>prod 53</td>\n",
       "        <td>7</td>\n",
       "    </tr>\n",
       "    <tr>\n",
       "        <td>prod 56</td>\n",
       "        <td>4</td>\n",
       "    </tr>\n",
       "    <tr>\n",
       "        <td>prod 60</td>\n",
       "        <td>2</td>\n",
       "    </tr>\n",
       "    <tr>\n",
       "        <td>prod 69</td>\n",
       "        <td>7</td>\n",
       "    </tr>\n",
       "    <tr>\n",
       "        <td>prod 70</td>\n",
       "        <td>5</td>\n",
       "    </tr>\n",
       "    <tr>\n",
       "        <td>prod 74</td>\n",
       "        <td>3</td>\n",
       "    </tr>\n",
       "    <tr>\n",
       "        <td>prod 77</td>\n",
       "        <td>6</td>\n",
       "    </tr>\n",
       "    <tr>\n",
       "        <td>prod 85</td>\n",
       "        <td>5</td>\n",
       "    </tr>\n",
       "    <tr>\n",
       "        <td>prod 88</td>\n",
       "        <td>6</td>\n",
       "    </tr>\n",
       "    <tr>\n",
       "        <td>prod 90</td>\n",
       "        <td>5</td>\n",
       "    </tr>\n",
       "    <tr>\n",
       "        <td>prod 92</td>\n",
       "        <td>3</td>\n",
       "    </tr>\n",
       "    <tr>\n",
       "        <td>prod 94</td>\n",
       "        <td>4</td>\n",
       "    </tr>\n",
       "    <tr>\n",
       "        <td>prod 97</td>\n",
       "        <td>7</td>\n",
       "    </tr>\n",
       "</table>"
      ],
      "text/plain": [
       "[('prod 03', 5),\n",
       " ('prod 05', 6),\n",
       " ('prod 06', 5),\n",
       " ('prod 07', 3),\n",
       " ('prod 08', 3),\n",
       " ('prod 13', 5),\n",
       " ('prod 17', 6),\n",
       " ('prod 19', 4),\n",
       " ('prod 21', 4),\n",
       " ('prod 23', 6),\n",
       " ('prod 29', 5),\n",
       " ('prod 36', 3),\n",
       " ('prod 41', 3),\n",
       " ('prod 42', 3),\n",
       " ('prod 43', 4),\n",
       " ('prod 46', 3),\n",
       " ('prod 48', 3),\n",
       " ('prod 49', 6),\n",
       " ('prod 53', 7),\n",
       " ('prod 56', 4),\n",
       " ('prod 60', 2),\n",
       " ('prod 69', 7),\n",
       " ('prod 70', 5),\n",
       " ('prod 74', 3),\n",
       " ('prod 77', 6),\n",
       " ('prod 85', 5),\n",
       " ('prod 88', 6),\n",
       " ('prod 90', 5),\n",
       " ('prod 92', 3),\n",
       " ('prod 94', 4),\n",
       " ('prod 97', 7)]"
      ]
     },
     "execution_count": 100,
     "metadata": {},
     "output_type": "execute_result"
    }
   ],
   "source": [
    "%%sql\n",
    "\n",
    "WITH q1 AS (\n",
    "    SELECT cl.ID\n",
    "    FROM clientes cl\n",
    "    JOIN compras AS co\n",
    "    ON co.ID_CLIENTE = cl.ID\n",
    "    JOIN produtos as po\n",
    "    ON co.ID_PRODUTO = po.ID\n",
    "    group by cl.nome, cl.id\n",
    "    ORDER BY sum(po.preço) DESC\n",
    "    LIMIT 1\n",
    "),\n",
    "q2 AS (\n",
    "    SELECT co.id_PRODUTO, co.ID_CLIENTE\n",
    "    FROM compras AS co\n",
    "    GROUP BY co.id_PRODUTO, co.ID_CLIENTE\n",
    ")\n",
    "SELECT po.produto, count(DISTINCT co.ID_CLIENTE)\n",
    "FROM compras co\n",
    "JOIN produtos as po on co.ID_PRODUTO = po.ID\n",
    "JOIN q1\n",
    "JOIN q2 ON co.ID_PRODUTO = q2.ID_PRODUTO AND q2.ID_CLIENTE = q1.ID\n",
    "GROUP by po.produto"
   ]
  },
  {
   "cell_type": "markdown",
   "metadata": {},
   "source": [
    "## Exercício 11\n",
    "\n",
    "Traga todos os clientes que compraram o produto que menos vendeu"
   ]
  },
  {
   "cell_type": "code",
   "execution_count": 101,
   "metadata": {},
   "outputs": [
    {
     "name": "stdout",
     "output_type": "stream",
     "text": [
      " * sqlite:///TesteSQL.db\n",
      "(sqlite3.OperationalError) near \"#todos\": syntax error\n",
      "[SQL: SELECT DISTINCT cl.nome, po.produto      #todos os clientes que compraram\n",
      "FROM clientes cl \n",
      "JOIN compras AS co\n",
      "ON co.ID_CLIENTE = cl.ID\n",
      "JOIN produtos as po\n",
      "ON co.ID_PRODUTO = po.ID \n",
      "WHERE co.ID_PRODUTO IN (             #colocar o mesmo no select\n",
      "SELECT  co2.ID_PRODUTO              #produto que menos vendeu\n",
      "    FROM clientes cl2\n",
      "    JOIN compras AS co2\n",
      "    ON co2.ID_CLIENTE = cl2.ID\n",
      "    JOIN produtos as po2\n",
      "    ON co2.ID_PRODUTO = po2.ID\n",
      "    group by po2.produto\n",
      "    order by  count(*)\n",
      "    limit 1\n",
      ")]\n",
      "(Background on this error at: https://sqlalche.me/e/14/e3q8)\n"
     ]
    }
   ],
   "source": [
    "%%sql\n",
    "\n",
    "\n",
    "    \n",
    "SELECT DISTINCT cl.nome, po.produto      #todos os clientes que compraram\n",
    "FROM clientes cl \n",
    "JOIN compras AS co\n",
    "ON co.ID_CLIENTE = cl.ID\n",
    "JOIN produtos as po\n",
    "ON co.ID_PRODUTO = po.ID \n",
    "WHERE co.ID_PRODUTO IN (             #colocar o mesmo no select\n",
    "SELECT  co2.ID_PRODUTO              #produto que menos vendeu\n",
    "    FROM clientes cl2\n",
    "    JOIN compras AS co2\n",
    "    ON co2.ID_CLIENTE = cl2.ID\n",
    "    JOIN produtos as po2\n",
    "    ON co2.ID_PRODUTO = po2.ID\n",
    "    group by po2.produto\n",
    "    order by  count(*)\n",
    "    limit 1\n",
    ")"
   ]
  },
  {
   "cell_type": "markdown",
   "metadata": {},
   "source": [
    "## Exercício 12\n",
    "\n",
    "Traga quanto gastou cada cliente que comprou o produto que menos vendeu"
   ]
  },
  {
   "cell_type": "code",
   "execution_count": 102,
   "metadata": {
    "scrolled": true
   },
   "outputs": [
    {
     "name": "stdout",
     "output_type": "stream",
     "text": [
      " * sqlite:///TesteSQL.db\n",
      "(sqlite3.OperationalError) near \"#produto\": syntax error\n",
      "[SQL: WITH quantidade_de_produto_mv as (         \n",
      "\tSELECT count(*) as qtd\n",
      "\tFROM compras AS co\n",
      "\tgroup by co.id_produto\n",
      "\torder by qtd\n",
      "\tlimit 1\t\n",
      "),\n",
      "produto_que_menos_vendeu AS (                                 #produto que menos vendeu\n",
      "\tSELECT co.ID_PRODUTO, count(*) as qtd\n",
      "\tFROM compras AS co\n",
      "\tgroup by co.id_produto\n",
      "\thaving qtd = (SELECT qtd from quantidade_de_produto_mv)\n",
      "),\n",
      "oq_cd_1_comprou as (                               #o que cada cliente comprou\n",
      "\tSELECT\n",
      "\t\tcl.nome, \n",
      "\t\tco.id_cliente,\n",
      "\t\tpo.produto,\n",
      "\t\tco.id_produto,\n",
      "\t\tpo.preço \n",
      "\tFROM clientes cl\n",
      "\tJOIN compras AS co ON co.ID_CLIENTE = cl.ID\n",
      "\tJOIN produtos as po ON co.ID_PRODUTO = po.ID\n",
      "), quanto_cada_um_gastou as (                          #quanto gastou cada cliente\n",
      "   SELECT \n",
      "    id_cliente,\n",
      "    nome,\n",
      " \tsum(preço) as gasto\n",
      "   FROM oq_cd_1_comprou\n",
      "   group by id_cliente, nome\n",
      " )\n",
      " , quem_comprou_menos_vendeu as (               #quem comprou o que menos vendeu\n",
      "\tselect \n",
      " \tDISTINCT nome, id_cliente \n",
      " \tFROM oq_cd_1_comprou as occ\n",
      " \tJOIN produto_que_menos_vendeu as pmv ON occ.id_produto = pmv.id_produto\n",
      " )\n",
      "  SELECT                                  #quanto gastou cada cliente que comprou o produto que menos vendeu\n",
      "  qcmv.nome, qcmv.id_cliente, gasto\n",
      "  FROM quanto_cada_um_gastou as qcug\n",
      "  JOIN quem_comprou_menos_vendeu as qcmv ON   qcug.id_cliente = qcmv.id_cliente]\n",
      "(Background on this error at: https://sqlalche.me/e/14/e3q8)\n"
     ]
    }
   ],
   "source": [
    "%%sql\n",
    "\n",
    "WITH quantidade_de_produto_mv as (         \n",
    "\tSELECT count(*) as qtd\n",
    "\tFROM compras AS co\n",
    "\tgroup by co.id_produto\n",
    "\torder by qtd\n",
    "\tlimit 1\t\n",
    "),\n",
    "produto_que_menos_vendeu AS (                                 #produto que menos vendeu\n",
    "\tSELECT co.ID_PRODUTO, count(*) as qtd\n",
    "\tFROM compras AS co\n",
    "\tgroup by co.id_produto\n",
    "\thaving qtd = (SELECT qtd from quantidade_de_produto_mv)\n",
    "),\n",
    "oq_cd_1_comprou as (                               #o que cada cliente comprou\n",
    "\tSELECT\n",
    "\t\tcl.nome, \n",
    "\t\tco.id_cliente,\n",
    "\t\tpo.produto,\n",
    "\t\tco.id_produto,\n",
    "\t\tpo.preço \n",
    "\tFROM clientes cl\n",
    "\tJOIN compras AS co ON co.ID_CLIENTE = cl.ID\n",
    "\tJOIN produtos as po ON co.ID_PRODUTO = po.ID\n",
    "), quanto_cada_um_gastou as (                          #quanto gastou cada cliente\n",
    "   SELECT \n",
    "    id_cliente,\n",
    "    nome,\n",
    " \tsum(preço) as gasto\n",
    "   FROM oq_cd_1_comprou\n",
    "   group by id_cliente, nome\n",
    " )\n",
    " , quem_comprou_menos_vendeu as (               #quem comprou o que menos vendeu\n",
    "\tselect \n",
    " \tDISTINCT nome, id_cliente \n",
    " \tFROM oq_cd_1_comprou as occ\n",
    " \tJOIN produto_que_menos_vendeu as pmv ON occ.id_produto = pmv.id_produto\n",
    " )\n",
    "  SELECT                                  #quanto gastou cada cliente que comprou o produto que menos vendeu\n",
    "  qcmv.nome, qcmv.id_cliente, gasto\n",
    "  FROM quanto_cada_um_gastou as qcug\n",
    "  JOIN quem_comprou_menos_vendeu as qcmv ON   qcug.id_cliente = qcmv.id_cliente"
   ]
  },
  {
   "cell_type": "markdown",
   "metadata": {},
   "source": [
    "## Exercício 13\n",
    "\n",
    "Quanto em média os clientes gastaram?"
   ]
  },
  {
   "cell_type": "code",
   "execution_count": 103,
   "metadata": {},
   "outputs": [
    {
     "name": "stdout",
     "output_type": "stream",
     "text": [
      " * sqlite:///TesteSQL.db\n",
      "Done.\n"
     ]
    },
    {
     "data": {
      "text/html": [
       "<table>\n",
       "    <tr>\n",
       "        <th>média</th>\n",
       "    </tr>\n",
       "    <tr>\n",
       "        <td>130.10100000000008</td>\n",
       "    </tr>\n",
       "</table>"
      ],
      "text/plain": [
       "[(130.10100000000008,)]"
      ]
     },
     "execution_count": 103,
     "metadata": {},
     "output_type": "execute_result"
    }
   ],
   "source": [
    "%%sql\n",
    "\n",
    "SELECT sum(po.preço)/count(distinct co.id_cliente) as média\n",
    "FROM clientes cl \n",
    "JOIN compras AS co\n",
    "ON co.ID_CLIENTE = cl.ID\n",
    "JOIN produtos as po\n",
    "ON co.ID_PRODUTO = po.ID"
   ]
  },
  {
   "cell_type": "markdown",
   "metadata": {},
   "source": [
    "## Exercício 14\n",
    "\n",
    "Quanto em média gastou cada cliente?"
   ]
  },
  {
   "cell_type": "code",
   "execution_count": 104,
   "metadata": {
    "scrolled": true
   },
   "outputs": [
    {
     "name": "stdout",
     "output_type": "stream",
     "text": [
      " * sqlite:///TesteSQL.db\n",
      "Done.\n"
     ]
    },
    {
     "data": {
      "text/html": [
       "<table>\n",
       "    <tr>\n",
       "        <th>nome</th>\n",
       "        <th>média</th>\n",
       "    </tr>\n",
       "    <tr>\n",
       "        <td>Alexandre Santos</td>\n",
       "        <td>5.026521739130435</td>\n",
       "    </tr>\n",
       "    <tr>\n",
       "        <td>Ana Júlia Vieira</td>\n",
       "        <td>3.9180952380952374</td>\n",
       "    </tr>\n",
       "    <tr>\n",
       "        <td>Beatriz Pinto</td>\n",
       "        <td>5.454615384615385</td>\n",
       "    </tr>\n",
       "    <tr>\n",
       "        <td>Breno Ribeiro</td>\n",
       "        <td>5.286153846153846</td>\n",
       "    </tr>\n",
       "    <tr>\n",
       "        <td>Davi Lucas Aragão</td>\n",
       "        <td>5.444545454545454</td>\n",
       "    </tr>\n",
       "    <tr>\n",
       "        <td>Dr. Thomas Almeida</td>\n",
       "        <td>6.004583333333334</td>\n",
       "    </tr>\n",
       "    <tr>\n",
       "        <td>Dra. Bruna das Neves</td>\n",
       "        <td>5.961428571428571</td>\n",
       "    </tr>\n",
       "    <tr>\n",
       "        <td>Igor Dias</td>\n",
       "        <td>5.354827586206897</td>\n",
       "    </tr>\n",
       "    <tr>\n",
       "        <td>João Vitor Fernandes</td>\n",
       "        <td>5.191538461538462</td>\n",
       "    </tr>\n",
       "    <tr>\n",
       "        <td>Kamilly Silva</td>\n",
       "        <td>6.242222222222221</td>\n",
       "    </tr>\n",
       "    <tr>\n",
       "        <td>Lavínia Vieira</td>\n",
       "        <td>4.464545454545455</td>\n",
       "    </tr>\n",
       "    <tr>\n",
       "        <td>Luiz Otávio Campos</td>\n",
       "        <td>5.244722222222222</td>\n",
       "    </tr>\n",
       "    <tr>\n",
       "        <td>Manuela Lima</td>\n",
       "        <td>4.7728</td>\n",
       "    </tr>\n",
       "    <tr>\n",
       "        <td>Nathan da Mota</td>\n",
       "        <td>4.883076923076922</td>\n",
       "    </tr>\n",
       "    <tr>\n",
       "        <td>Rafaela Rezende</td>\n",
       "        <td>5.398484848484849</td>\n",
       "    </tr>\n",
       "    <tr>\n",
       "        <td>Sr. Nathan Novaes</td>\n",
       "        <td>5.203199999999999</td>\n",
       "    </tr>\n",
       "    <tr>\n",
       "        <td>Sra. Maria Alice Araújo</td>\n",
       "        <td>5.266666666666666</td>\n",
       "    </tr>\n",
       "    <tr>\n",
       "        <td>Srta. Mariane da Mata</td>\n",
       "        <td>5.202500000000001</td>\n",
       "    </tr>\n",
       "    <tr>\n",
       "        <td>Theo Campos</td>\n",
       "        <td>4.785652173913043</td>\n",
       "    </tr>\n",
       "    <tr>\n",
       "        <td>Vitor Gabriel Cavalcanti</td>\n",
       "        <td>4.673461538461539</td>\n",
       "    </tr>\n",
       "</table>"
      ],
      "text/plain": [
       "[('Alexandre Santos', 5.026521739130435),\n",
       " ('Ana Júlia Vieira', 3.9180952380952374),\n",
       " ('Beatriz Pinto', 5.454615384615385),\n",
       " ('Breno Ribeiro', 5.286153846153846),\n",
       " ('Davi Lucas Aragão', 5.444545454545454),\n",
       " ('Dr. Thomas Almeida', 6.004583333333334),\n",
       " ('Dra. Bruna das Neves', 5.961428571428571),\n",
       " ('Igor Dias', 5.354827586206897),\n",
       " ('João Vitor Fernandes', 5.191538461538462),\n",
       " ('Kamilly Silva', 6.242222222222221),\n",
       " ('Lavínia Vieira', 4.464545454545455),\n",
       " ('Luiz Otávio Campos', 5.244722222222222),\n",
       " ('Manuela Lima', 4.7728),\n",
       " ('Nathan da Mota', 4.883076923076922),\n",
       " ('Rafaela Rezende', 5.398484848484849),\n",
       " ('Sr. Nathan Novaes', 5.203199999999999),\n",
       " ('Sra. Maria Alice Araújo', 5.266666666666666),\n",
       " ('Srta. Mariane da Mata', 5.202500000000001),\n",
       " ('Theo Campos', 4.785652173913043),\n",
       " ('Vitor Gabriel Cavalcanti', 4.673461538461539)]"
      ]
     },
     "execution_count": 104,
     "metadata": {},
     "output_type": "execute_result"
    }
   ],
   "source": [
    "%%sql\n",
    "\n",
    "SELECT cl.nome, sum(po.preço)/count(*) as média\n",
    "FROM clientes cl \n",
    "JOIN compras AS co\n",
    "ON co.ID_CLIENTE = cl.ID\n",
    "JOIN produtos as po\n",
    "ON co.ID_PRODUTO = po.ID\n",
    "group by cl.nome\n"
   ]
  },
  {
   "cell_type": "markdown",
   "metadata": {},
   "source": [
    "## Exercício 15\n",
    "\n",
    "Quantos clientes tem cada faixa etária (Agrupe por faixa de 10 anos)\n",
    "\n",
    "i.e.: \\[18 -> 19\\], \\[20 -> 29\\], \\[30 -> 39\\], ..."
   ]
  },
  {
   "cell_type": "code",
   "execution_count": 105,
   "metadata": {
    "ExecuteTime": {
     "end_time": "2021-12-28T13:54:57.477072Z",
     "start_time": "2021-12-28T13:54:57.467573Z"
    }
   },
   "outputs": [
    {
     "name": "stdout",
     "output_type": "stream",
     "text": [
      " * sqlite:///TesteSQL.db\n",
      "Done.\n"
     ]
    },
    {
     "data": {
      "text/html": [
       "<table>\n",
       "    <tr>\n",
       "        <th>faixa_etaria</th>\n",
       "        <th>count(*)</th>\n",
       "    </tr>\n",
       "    <tr>\n",
       "        <td>10</td>\n",
       "        <td>1</td>\n",
       "    </tr>\n",
       "    <tr>\n",
       "        <td>20</td>\n",
       "        <td>6</td>\n",
       "    </tr>\n",
       "    <tr>\n",
       "        <td>30</td>\n",
       "        <td>2</td>\n",
       "    </tr>\n",
       "    <tr>\n",
       "        <td>40</td>\n",
       "        <td>6</td>\n",
       "    </tr>\n",
       "    <tr>\n",
       "        <td>50</td>\n",
       "        <td>5</td>\n",
       "    </tr>\n",
       "</table>"
      ],
      "text/plain": [
       "[(10, 1), (20, 6), (30, 2), (40, 6), (50, 5)]"
      ]
     },
     "execution_count": 105,
     "metadata": {},
     "output_type": "execute_result"
    }
   ],
   "source": [
    "%%sql\n",
    "\n",
    "SELECT cast(idade/10 AS integer)*10 as faixa_etaria, count(*)\n",
    "FROM clientes cl\n",
    "group by faixa_etaria"
   ]
  },
  {
   "cell_type": "markdown",
   "metadata": {},
   "source": [
    "## Exercício 16\n",
    "\n",
    "Qual é o gasto médio para cada faixa etária?"
   ]
  },
  {
   "cell_type": "code",
   "execution_count": 50,
   "metadata": {},
   "outputs": [
    {
     "name": "stdout",
     "output_type": "stream",
     "text": [
      " * sqlite:///TesteSQL.db\n",
      "Done.\n"
     ]
    },
    {
     "data": {
      "text/html": [
       "<table>\n",
       "    <tr>\n",
       "        <th>faixa_etaria</th>\n",
       "        <th>gasto_médio</th>\n",
       "    </tr>\n",
       "    <tr>\n",
       "        <td>10</td>\n",
       "        <td>136.47000000000008</td>\n",
       "    </tr>\n",
       "    <tr>\n",
       "        <td>20</td>\n",
       "        <td>106.37333333333329</td>\n",
       "    </tr>\n",
       "    <tr>\n",
       "        <td>30</td>\n",
       "        <td>137.11</td>\n",
       "    </tr>\n",
       "    <tr>\n",
       "        <td>40</td>\n",
       "        <td>123.97666666666667</td>\n",
       "    </tr>\n",
       "    <tr>\n",
       "        <td>50</td>\n",
       "        <td>138.46999999999994</td>\n",
       "    </tr>\n",
       "    <tr>\n",
       "        <td>60</td>\n",
       "        <td>146.39000000000001</td>\n",
       "    </tr>\n",
       "</table>"
      ],
      "text/plain": [
       "[(10, 136.47000000000008),\n",
       " (20, 106.37333333333329),\n",
       " (30, 137.11),\n",
       " (40, 123.97666666666667),\n",
       " (50, 138.46999999999994),\n",
       " (60, 146.39000000000001)]"
      ]
     },
     "execution_count": 50,
     "metadata": {},
     "output_type": "execute_result"
    }
   ],
   "source": [
    "%%sql\n",
    "\n",
    "SELECT cast(idade/10 AS integer)*10 as faixa_etaria, sum(po.preço)/count(distinct co.id_cliente) as gasto_médio\n",
    "FROM clientes cl\n",
    "JOIN compras AS co\n",
    "ON co.ID_CLIENTE = cl.ID\n",
    "JOIN produtos as po\n",
    "ON co.ID_PRODUTO = po.ID\n",
    "group by faixa_etaria"
   ]
  },
  {
   "cell_type": "markdown",
   "metadata": {},
   "source": [
    "## Exercício 17\n",
    "\n",
    "Quais foram os 5 produtos que mais venderam na faixa etária que teve maior\n",
    "gasto médio?"
   ]
  },
  {
   "cell_type": "code",
   "execution_count": 51,
   "metadata": {},
   "outputs": [
    {
     "name": "stdout",
     "output_type": "stream",
     "text": [
      " * sqlite:///TesteSQL.db\n",
      "(sqlite3.OperationalError) near \"#5\": syntax error\n",
      "[SQL: SELECT po.produto, count(*) #5 produtos que mais venderam\n",
      "FROM clientes cl\n",
      "JOIN compras AS co\n",
      "ON co.ID_CLIENTE = cl.ID\n",
      "JOIN produtos as po\n",
      "ON co.ID_PRODUTO = po.ID\n",
      "group by po.produto\n",
      "order by  count(*) DESC\n",
      "limit 5\n",
      "\n",
      "\n",
      "SELECT cast(idade/10 AS integer)*10 as faixa_etaria, sum(po.preço)/count(distinct co.id_cliente) as gasto_médio   # MAIOR GASTO MÉDIO\n",
      "FROM clientes cl\n",
      "JOIN compras AS co\n",
      "ON co.ID_CLIENTE = cl.ID\n",
      "JOIN produtos as po\n",
      "ON co.ID_PRODUTO = po.ID\n",
      "group by faixa_etaria\n",
      "order by gasto_médio DESC\n",
      "limit 1]\n",
      "(Background on this error at: https://sqlalche.me/e/14/e3q8)\n"
     ]
    }
   ],
   "source": [
    "%%sql\n",
    "\n",
    "SELECT po.produto, count(*)            #5 produtos que mais venderam\n",
    "FROM clientes cl\n",
    "JOIN compras AS co\n",
    "ON co.ID_CLIENTE = cl.ID\n",
    "JOIN produtos as po\n",
    "ON co.ID_PRODUTO = po.ID\n",
    "group by po.produto\n",
    "order by  count(*) DESC\n",
    "limit 5\n",
    "\n",
    "\n",
    "SELECT cast(idade/10 AS integer)*10 as faixa_etaria, sum(po.preço)/count(distinct co.id_cliente) as gasto_médio   # MAIOR GASTO MÉDIO\n",
    "FROM clientes cl\n",
    "JOIN compras AS co\n",
    "ON co.ID_CLIENTE = cl.ID\n",
    "JOIN produtos as po\n",
    "ON co.ID_PRODUTO = po.ID\n",
    "group by faixa_etaria\n",
    "order by gasto_médio DESC\n",
    "limit 1\n",
    "\n",
    "\n"
   ]
  },
  {
   "cell_type": "markdown",
   "metadata": {},
   "source": [
    "## Exercício 18\n",
    "\n",
    "Quais foram os 5 produtos que mais venderam na faixa etária que teve maior\n",
    "gasto absoluto?"
   ]
  },
  {
   "cell_type": "code",
   "execution_count": 106,
   "metadata": {},
   "outputs": [
    {
     "name": "stdout",
     "output_type": "stream",
     "text": [
      " * sqlite:///TesteSQL.db\n",
      "(sqlite3.OperationalError) near \"#5\": syntax error\n",
      "[SQL: SELECT po.produto, count(*) #5 produtos que mais venderam\n",
      "FROM clientes cl\n",
      "JOIN compras AS co\n",
      "ON co.ID_CLIENTE = cl.ID\n",
      "JOIN produtos as po\n",
      "ON co.ID_PRODUTO = po.ID\n",
      "group by po.produto\n",
      "order by  count(*) DESC\n",
      "limit 5\n",
      "\n",
      "\n",
      "\n",
      "\n",
      "SELECT cast(idade/10 AS integer)*10 as faixa_etaria, sum(po.preço) as gasto_absoluto   #MAIOR GASTO ABSOLUTO\n",
      "FROM clientes cl\n",
      "JOIN compras AS co\n",
      "ON co.ID_CLIENTE = cl.ID\n",
      "JOIN produtos as po\n",
      "ON co.ID_PRODUTO = po.ID\n",
      "group by faixa_etaria\n",
      "order by gasto_absoluto DESC\n",
      "limit 1]\n",
      "(Background on this error at: https://sqlalche.me/e/14/e3q8)\n"
     ]
    }
   ],
   "source": [
    "%%sql\n",
    "\n",
    "SELECT po.produto, count(*)            #5 produtos que mais venderam\n",
    "FROM clientes cl\n",
    "JOIN compras AS co\n",
    "ON co.ID_CLIENTE = cl.ID\n",
    "JOIN produtos as po\n",
    "ON co.ID_PRODUTO = po.ID\n",
    "group by po.produto\n",
    "order by  count(*) DESC\n",
    "limit 5\n",
    "\n",
    "\n",
    "\n",
    "\n",
    "SELECT cast(idade/10 AS integer)*10 as faixa_etaria, sum(po.preço) as gasto_absoluto   #MAIOR GASTO ABSOLUTO\n",
    "FROM clientes cl\n",
    "JOIN compras AS co\n",
    "ON co.ID_CLIENTE = cl.ID\n",
    "JOIN produtos as po\n",
    "ON co.ID_PRODUTO = po.ID\n",
    "group by faixa_etaria\n",
    "order by gasto_absoluto DESC\n",
    "limit 1"
   ]
  },
  {
   "cell_type": "markdown",
   "metadata": {},
   "source": []
  },
  {
   "cell_type": "code",
   "execution_count": null,
   "metadata": {},
   "outputs": [],
   "source": []
  },
  {
   "cell_type": "code",
   "execution_count": null,
   "metadata": {},
   "outputs": [],
   "source": []
  },
  {
   "cell_type": "code",
   "execution_count": null,
   "metadata": {},
   "outputs": [],
   "source": []
  }
 ],
 "metadata": {
  "kernelspec": {
   "display_name": "Python 3 (ipykernel)",
   "language": "python",
   "name": "python3"
  },
  "language_info": {
   "codemirror_mode": {
    "name": "ipython",
    "version": 3
   },
   "file_extension": ".py",
   "mimetype": "text/x-python",
   "name": "python",
   "nbconvert_exporter": "python",
   "pygments_lexer": "ipython3",
   "version": "3.9.7"
  },
  "varInspector": {
   "cols": {
    "lenName": 16,
    "lenType": 16,
    "lenVar": 40
   },
   "kernels_config": {
    "python": {
     "delete_cmd_postfix": "",
     "delete_cmd_prefix": "del ",
     "library": "var_list.py",
     "varRefreshCmd": "print(var_dic_list())"
    },
    "r": {
     "delete_cmd_postfix": ") ",
     "delete_cmd_prefix": "rm(",
     "library": "var_list.r",
     "varRefreshCmd": "cat(var_dic_list()) "
    }
   },
   "types_to_exclude": [
    "module",
    "function",
    "builtin_function_or_method",
    "instance",
    "_Feature"
   ],
   "window_display": false
  }
 },
 "nbformat": 4,
 "nbformat_minor": 4
}
