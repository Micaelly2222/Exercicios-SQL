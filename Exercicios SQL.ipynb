{
 "cells": [
  {
   "cell_type": "code",
   "execution_count": 1,
   "metadata": {
    "ExecuteTime": {
     "end_time": "2022-01-06T17:26:09.537699Z",
     "start_time": "2022-01-06T17:26:05.641461Z"
    }
   },
   "outputs": [],
   "source": [
    "import pandas as pd\n",
    "import random\n",
    "\n",
    "from faker import Faker\n",
    "\n",
    "import sqlite3\n",
    "\n",
    "%load_ext sql"
   ]
  },
  {
   "cell_type": "code",
   "execution_count": 2,
   "metadata": {
    "ExecuteTime": {
     "end_time": "2022-01-06T17:26:09.569021Z",
     "start_time": "2022-01-06T17:26:09.566016Z"
    }
   },
   "outputs": [],
   "source": [
    "N_PRODUTOS = 100\n",
    "N_CLIENTES = 20\n",
    "N_COMPRAS = 500"
   ]
  },
  {
   "cell_type": "code",
   "execution_count": 3,
   "metadata": {
    "ExecuteTime": {
     "end_time": "2022-01-06T17:26:09.879248Z",
     "start_time": "2022-01-06T17:26:09.601517Z"
    }
   },
   "outputs": [
    {
     "data": {
      "text/plain": [
       "'Sarah Campos'"
      ]
     },
     "execution_count": 3,
     "metadata": {},
     "output_type": "execute_result"
    }
   ],
   "source": [
    "faker = Faker('pt_BR')\n",
    "faker.name()"
   ]
  },
  {
   "cell_type": "code",
   "execution_count": 4,
   "metadata": {
    "ExecuteTime": {
     "end_time": "2022-01-06T17:26:09.920696Z",
     "start_time": "2022-01-06T17:26:09.901211Z"
    }
   },
   "outputs": [
    {
     "data": {
      "text/plain": [
       "<sqlite3.Connection at 0x265b0816b70>"
      ]
     },
     "execution_count": 4,
     "metadata": {},
     "output_type": "execute_result"
    }
   ],
   "source": [
    "db = sqlite3.connect('TesteSQL.db')\n",
    "db"
   ]
  },
  {
   "cell_type": "code",
   "execution_count": 5,
   "metadata": {
    "ExecuteTime": {
     "end_time": "2022-01-06T17:26:10.013760Z",
     "start_time": "2022-01-06T17:26:09.949200Z"
    }
   },
   "outputs": [],
   "source": [
    "%sql sqlite:///TesteSQL.db"
   ]
  },
  {
   "cell_type": "code",
   "execution_count": 6,
   "metadata": {
    "ExecuteTime": {
     "end_time": "2022-01-06T17:26:10.071698Z",
     "start_time": "2022-01-06T17:26:10.040696Z"
    }
   },
   "outputs": [
    {
     "data": {
      "text/html": [
       "<div>\n",
       "<style scoped>\n",
       "    .dataframe tbody tr th:only-of-type {\n",
       "        vertical-align: middle;\n",
       "    }\n",
       "\n",
       "    .dataframe tbody tr th {\n",
       "        vertical-align: top;\n",
       "    }\n",
       "\n",
       "    .dataframe thead th {\n",
       "        text-align: right;\n",
       "    }\n",
       "</style>\n",
       "<table border=\"1\" class=\"dataframe\">\n",
       "  <thead>\n",
       "    <tr style=\"text-align: right;\">\n",
       "      <th></th>\n",
       "      <th>produto</th>\n",
       "      <th>preço</th>\n",
       "    </tr>\n",
       "  </thead>\n",
       "  <tbody>\n",
       "    <tr>\n",
       "      <th>0</th>\n",
       "      <td>prod 00</td>\n",
       "      <td>8.35</td>\n",
       "    </tr>\n",
       "    <tr>\n",
       "      <th>1</th>\n",
       "      <td>prod 01</td>\n",
       "      <td>9.53</td>\n",
       "    </tr>\n",
       "    <tr>\n",
       "      <th>2</th>\n",
       "      <td>prod 02</td>\n",
       "      <td>3.27</td>\n",
       "    </tr>\n",
       "    <tr>\n",
       "      <th>3</th>\n",
       "      <td>prod 03</td>\n",
       "      <td>7.43</td>\n",
       "    </tr>\n",
       "    <tr>\n",
       "      <th>4</th>\n",
       "      <td>prod 04</td>\n",
       "      <td>0.22</td>\n",
       "    </tr>\n",
       "  </tbody>\n",
       "</table>\n",
       "</div>"
      ],
      "text/plain": [
       "   produto  preço\n",
       "0  prod 00   8.35\n",
       "1  prod 01   9.53\n",
       "2  prod 02   3.27\n",
       "3  prod 03   7.43\n",
       "4  prod 04   0.22"
      ]
     },
     "execution_count": 6,
     "metadata": {},
     "output_type": "execute_result"
    }
   ],
   "source": [
    "produtos = pd.DataFrame([[f'prod {i:02}', round(random.random() * 10, 2)] \n",
    "                         for i in range(N_PRODUTOS)], \n",
    "                        columns=['produto', 'preço'])\n",
    "produtos.head()"
   ]
  },
  {
   "cell_type": "code",
   "execution_count": 7,
   "metadata": {
    "ExecuteTime": {
     "end_time": "2022-01-06T17:26:10.161233Z",
     "start_time": "2022-01-06T17:26:10.123198Z"
    }
   },
   "outputs": [],
   "source": [
    "produtos.to_sql('produtos', db, index_label='id', if_exists='replace')"
   ]
  },
  {
   "cell_type": "code",
   "execution_count": 8,
   "metadata": {
    "ExecuteTime": {
     "end_time": "2022-01-06T17:26:12.231141Z",
     "start_time": "2022-01-06T17:26:12.218140Z"
    }
   },
   "outputs": [
    {
     "data": {
      "text/html": [
       "<div>\n",
       "<style scoped>\n",
       "    .dataframe tbody tr th:only-of-type {\n",
       "        vertical-align: middle;\n",
       "    }\n",
       "\n",
       "    .dataframe tbody tr th {\n",
       "        vertical-align: top;\n",
       "    }\n",
       "\n",
       "    .dataframe thead th {\n",
       "        text-align: right;\n",
       "    }\n",
       "</style>\n",
       "<table border=\"1\" class=\"dataframe\">\n",
       "  <thead>\n",
       "    <tr style=\"text-align: right;\">\n",
       "      <th></th>\n",
       "      <th>produto</th>\n",
       "      <th>preço</th>\n",
       "    </tr>\n",
       "    <tr>\n",
       "      <th>id</th>\n",
       "      <th></th>\n",
       "      <th></th>\n",
       "    </tr>\n",
       "  </thead>\n",
       "  <tbody>\n",
       "    <tr>\n",
       "      <th>0</th>\n",
       "      <td>prod 00</td>\n",
       "      <td>8.35</td>\n",
       "    </tr>\n",
       "    <tr>\n",
       "      <th>1</th>\n",
       "      <td>prod 01</td>\n",
       "      <td>9.53</td>\n",
       "    </tr>\n",
       "    <tr>\n",
       "      <th>2</th>\n",
       "      <td>prod 02</td>\n",
       "      <td>3.27</td>\n",
       "    </tr>\n",
       "    <tr>\n",
       "      <th>3</th>\n",
       "      <td>prod 03</td>\n",
       "      <td>7.43</td>\n",
       "    </tr>\n",
       "    <tr>\n",
       "      <th>4</th>\n",
       "      <td>prod 04</td>\n",
       "      <td>0.22</td>\n",
       "    </tr>\n",
       "  </tbody>\n",
       "</table>\n",
       "</div>"
      ],
      "text/plain": [
       "    produto  preço\n",
       "id                \n",
       "0   prod 00   8.35\n",
       "1   prod 01   9.53\n",
       "2   prod 02   3.27\n",
       "3   prod 03   7.43\n",
       "4   prod 04   0.22"
      ]
     },
     "execution_count": 8,
     "metadata": {},
     "output_type": "execute_result"
    }
   ],
   "source": [
    "pd.read_sql(\"SELECT * FROM produtos;\", db, 'id').head()"
   ]
  },
  {
   "cell_type": "code",
   "execution_count": 9,
   "metadata": {
    "ExecuteTime": {
     "end_time": "2022-01-06T17:26:12.728044Z",
     "start_time": "2022-01-06T17:26:12.709050Z"
    }
   },
   "outputs": [
    {
     "data": {
      "text/html": [
       "<div>\n",
       "<style scoped>\n",
       "    .dataframe tbody tr th:only-of-type {\n",
       "        vertical-align: middle;\n",
       "    }\n",
       "\n",
       "    .dataframe tbody tr th {\n",
       "        vertical-align: top;\n",
       "    }\n",
       "\n",
       "    .dataframe thead th {\n",
       "        text-align: right;\n",
       "    }\n",
       "</style>\n",
       "<table border=\"1\" class=\"dataframe\">\n",
       "  <thead>\n",
       "    <tr style=\"text-align: right;\">\n",
       "      <th></th>\n",
       "      <th>nome</th>\n",
       "      <th>email</th>\n",
       "      <th>idade</th>\n",
       "    </tr>\n",
       "  </thead>\n",
       "  <tbody>\n",
       "    <tr>\n",
       "      <th>0</th>\n",
       "      <td>Isaac Monteiro</td>\n",
       "      <td>caldeiraandre@yahoo.com.br</td>\n",
       "      <td>38</td>\n",
       "    </tr>\n",
       "    <tr>\n",
       "      <th>1</th>\n",
       "      <td>Letícia das Neves</td>\n",
       "      <td>cardosohelena@gmail.com</td>\n",
       "      <td>21</td>\n",
       "    </tr>\n",
       "    <tr>\n",
       "      <th>2</th>\n",
       "      <td>Dr. João Gabriel Araújo</td>\n",
       "      <td>carvalholuana@hotmail.com</td>\n",
       "      <td>52</td>\n",
       "    </tr>\n",
       "    <tr>\n",
       "      <th>3</th>\n",
       "      <td>Pedro Henrique Ferreira</td>\n",
       "      <td>pedro93@uol.com.br</td>\n",
       "      <td>58</td>\n",
       "    </tr>\n",
       "    <tr>\n",
       "      <th>4</th>\n",
       "      <td>Alexia Pinto</td>\n",
       "      <td>lpereira@gmail.com</td>\n",
       "      <td>21</td>\n",
       "    </tr>\n",
       "  </tbody>\n",
       "</table>\n",
       "</div>"
      ],
      "text/plain": [
       "                      nome                       email  idade\n",
       "0           Isaac Monteiro  caldeiraandre@yahoo.com.br     38\n",
       "1        Letícia das Neves     cardosohelena@gmail.com     21\n",
       "2  Dr. João Gabriel Araújo   carvalholuana@hotmail.com     52\n",
       "3  Pedro Henrique Ferreira          pedro93@uol.com.br     58\n",
       "4             Alexia Pinto          lpereira@gmail.com     21"
      ]
     },
     "execution_count": 9,
     "metadata": {},
     "output_type": "execute_result"
    }
   ],
   "source": [
    "clientes = pd.DataFrame([\n",
    "    [faker.name(), faker.free_email(), random.randint(18, 60)]\n",
    "for _ in range(N_CLIENTES)], columns=['nome', 'email', 'idade'])\n",
    "\n",
    "clientes.head()"
   ]
  },
  {
   "cell_type": "code",
   "execution_count": 10,
   "metadata": {
    "ExecuteTime": {
     "end_time": "2022-01-06T17:26:13.435236Z",
     "start_time": "2022-01-06T17:26:13.387559Z"
    }
   },
   "outputs": [
    {
     "data": {
      "text/html": [
       "<div>\n",
       "<style scoped>\n",
       "    .dataframe tbody tr th:only-of-type {\n",
       "        vertical-align: middle;\n",
       "    }\n",
       "\n",
       "    .dataframe tbody tr th {\n",
       "        vertical-align: top;\n",
       "    }\n",
       "\n",
       "    .dataframe thead th {\n",
       "        text-align: right;\n",
       "    }\n",
       "</style>\n",
       "<table border=\"1\" class=\"dataframe\">\n",
       "  <thead>\n",
       "    <tr style=\"text-align: right;\">\n",
       "      <th></th>\n",
       "      <th>nome</th>\n",
       "      <th>email</th>\n",
       "      <th>idade</th>\n",
       "    </tr>\n",
       "    <tr>\n",
       "      <th>id</th>\n",
       "      <th></th>\n",
       "      <th></th>\n",
       "      <th></th>\n",
       "    </tr>\n",
       "  </thead>\n",
       "  <tbody>\n",
       "    <tr>\n",
       "      <th>0</th>\n",
       "      <td>Isaac Monteiro</td>\n",
       "      <td>caldeiraandre@yahoo.com.br</td>\n",
       "      <td>38</td>\n",
       "    </tr>\n",
       "    <tr>\n",
       "      <th>1</th>\n",
       "      <td>Letícia das Neves</td>\n",
       "      <td>cardosohelena@gmail.com</td>\n",
       "      <td>21</td>\n",
       "    </tr>\n",
       "    <tr>\n",
       "      <th>2</th>\n",
       "      <td>Dr. João Gabriel Araújo</td>\n",
       "      <td>carvalholuana@hotmail.com</td>\n",
       "      <td>52</td>\n",
       "    </tr>\n",
       "    <tr>\n",
       "      <th>3</th>\n",
       "      <td>Pedro Henrique Ferreira</td>\n",
       "      <td>pedro93@uol.com.br</td>\n",
       "      <td>58</td>\n",
       "    </tr>\n",
       "    <tr>\n",
       "      <th>4</th>\n",
       "      <td>Alexia Pinto</td>\n",
       "      <td>lpereira@gmail.com</td>\n",
       "      <td>21</td>\n",
       "    </tr>\n",
       "  </tbody>\n",
       "</table>\n",
       "</div>"
      ],
      "text/plain": [
       "                       nome                       email  idade\n",
       "id                                                            \n",
       "0            Isaac Monteiro  caldeiraandre@yahoo.com.br     38\n",
       "1         Letícia das Neves     cardosohelena@gmail.com     21\n",
       "2   Dr. João Gabriel Araújo   carvalholuana@hotmail.com     52\n",
       "3   Pedro Henrique Ferreira          pedro93@uol.com.br     58\n",
       "4              Alexia Pinto          lpereira@gmail.com     21"
      ]
     },
     "execution_count": 10,
     "metadata": {},
     "output_type": "execute_result"
    }
   ],
   "source": [
    "clientes.to_sql('clientes', db, index_label='id', if_exists='replace')\n",
    "pd.read_sql(\"SELECT * FROM clientes;\", db, 'id').head()"
   ]
  },
  {
   "cell_type": "code",
   "execution_count": 11,
   "metadata": {
    "ExecuteTime": {
     "end_time": "2022-01-06T17:26:15.510576Z",
     "start_time": "2022-01-06T17:26:15.499574Z"
    }
   },
   "outputs": [
    {
     "data": {
      "text/html": [
       "<div>\n",
       "<style scoped>\n",
       "    .dataframe tbody tr th:only-of-type {\n",
       "        vertical-align: middle;\n",
       "    }\n",
       "\n",
       "    .dataframe tbody tr th {\n",
       "        vertical-align: top;\n",
       "    }\n",
       "\n",
       "    .dataframe thead th {\n",
       "        text-align: right;\n",
       "    }\n",
       "</style>\n",
       "<table border=\"1\" class=\"dataframe\">\n",
       "  <thead>\n",
       "    <tr style=\"text-align: right;\">\n",
       "      <th></th>\n",
       "      <th>id_cliente</th>\n",
       "      <th>id_produto</th>\n",
       "    </tr>\n",
       "  </thead>\n",
       "  <tbody>\n",
       "    <tr>\n",
       "      <th>0</th>\n",
       "      <td>17</td>\n",
       "      <td>7</td>\n",
       "    </tr>\n",
       "    <tr>\n",
       "      <th>1</th>\n",
       "      <td>11</td>\n",
       "      <td>74</td>\n",
       "    </tr>\n",
       "    <tr>\n",
       "      <th>2</th>\n",
       "      <td>0</td>\n",
       "      <td>65</td>\n",
       "    </tr>\n",
       "    <tr>\n",
       "      <th>3</th>\n",
       "      <td>12</td>\n",
       "      <td>20</td>\n",
       "    </tr>\n",
       "    <tr>\n",
       "      <th>4</th>\n",
       "      <td>13</td>\n",
       "      <td>50</td>\n",
       "    </tr>\n",
       "  </tbody>\n",
       "</table>\n",
       "</div>"
      ],
      "text/plain": [
       "   id_cliente  id_produto\n",
       "0          17           7\n",
       "1          11          74\n",
       "2           0          65\n",
       "3          12          20\n",
       "4          13          50"
      ]
     },
     "execution_count": 11,
     "metadata": {},
     "output_type": "execute_result"
    }
   ],
   "source": [
    "compras = pd.DataFrame([[\n",
    "    random.randint(0, N_CLIENTES - 1),\n",
    "    random.randint(0, N_PRODUTOS - 1)\n",
    "] for _ in range(N_COMPRAS)], columns=['id_cliente', 'id_produto'])\n",
    "compras.head()"
   ]
  },
  {
   "cell_type": "code",
   "execution_count": 12,
   "metadata": {
    "ExecuteTime": {
     "end_time": "2022-01-06T17:26:16.133564Z",
     "start_time": "2022-01-06T17:26:16.078546Z"
    }
   },
   "outputs": [
    {
     "data": {
      "text/html": [
       "<div>\n",
       "<style scoped>\n",
       "    .dataframe tbody tr th:only-of-type {\n",
       "        vertical-align: middle;\n",
       "    }\n",
       "\n",
       "    .dataframe tbody tr th {\n",
       "        vertical-align: top;\n",
       "    }\n",
       "\n",
       "    .dataframe thead th {\n",
       "        text-align: right;\n",
       "    }\n",
       "</style>\n",
       "<table border=\"1\" class=\"dataframe\">\n",
       "  <thead>\n",
       "    <tr style=\"text-align: right;\">\n",
       "      <th></th>\n",
       "      <th>id_cliente</th>\n",
       "      <th>id_produto</th>\n",
       "    </tr>\n",
       "    <tr>\n",
       "      <th>id</th>\n",
       "      <th></th>\n",
       "      <th></th>\n",
       "    </tr>\n",
       "  </thead>\n",
       "  <tbody>\n",
       "    <tr>\n",
       "      <th>0</th>\n",
       "      <td>17</td>\n",
       "      <td>7</td>\n",
       "    </tr>\n",
       "    <tr>\n",
       "      <th>1</th>\n",
       "      <td>11</td>\n",
       "      <td>74</td>\n",
       "    </tr>\n",
       "    <tr>\n",
       "      <th>2</th>\n",
       "      <td>0</td>\n",
       "      <td>65</td>\n",
       "    </tr>\n",
       "    <tr>\n",
       "      <th>3</th>\n",
       "      <td>12</td>\n",
       "      <td>20</td>\n",
       "    </tr>\n",
       "    <tr>\n",
       "      <th>4</th>\n",
       "      <td>13</td>\n",
       "      <td>50</td>\n",
       "    </tr>\n",
       "  </tbody>\n",
       "</table>\n",
       "</div>"
      ],
      "text/plain": [
       "    id_cliente  id_produto\n",
       "id                        \n",
       "0           17           7\n",
       "1           11          74\n",
       "2            0          65\n",
       "3           12          20\n",
       "4           13          50"
      ]
     },
     "execution_count": 12,
     "metadata": {},
     "output_type": "execute_result"
    }
   ],
   "source": [
    "compras.to_sql('compras', db, index_label='id', if_exists='replace')\n",
    "pd.read_sql(\"SELECT * FROM compras;\", db, 'id').head()"
   ]
  },
  {
   "cell_type": "code",
   "execution_count": 13,
   "metadata": {
    "ExecuteTime": {
     "end_time": "2022-01-06T17:26:18.107481Z",
     "start_time": "2022-01-06T17:26:18.103805Z"
    }
   },
   "outputs": [],
   "source": [
    "del compras, clientes, produtos"
   ]
  },
  {
   "cell_type": "markdown",
   "metadata": {},
   "source": [
    "# Select\n",
    "\n",
    "Ao fazer uma extração num banco de dados SQL, independentemente do \n",
    "DBMS (se é Oracle, SQLite, MySQL/MariaDB e etc.), você sempre vai utilizar a \n",
    "palava `SELECT` seguida pelo que você quer trazer, e por fim a palavra FROM\n",
    "informando de onde você irá coletar esses dados, por exemplo:"
   ]
  },
  {
   "cell_type": "code",
   "execution_count": 14,
   "metadata": {
    "ExecuteTime": {
     "end_time": "2022-01-06T17:26:20.141194Z",
     "start_time": "2022-01-06T17:26:20.132701Z"
    }
   },
   "outputs": [
    {
     "name": "stdout",
     "output_type": "stream",
     "text": [
      " * sqlite:///TesteSQL.db\n",
      "Done.\n"
     ]
    },
    {
     "data": {
      "text/html": [
       "<table>\n",
       "    <tr>\n",
       "        <th>nome</th>\n",
       "        <th>idade</th>\n",
       "    </tr>\n",
       "    <tr>\n",
       "        <td>Isaac Monteiro</td>\n",
       "        <td>38</td>\n",
       "    </tr>\n",
       "    <tr>\n",
       "        <td>Letícia das Neves</td>\n",
       "        <td>21</td>\n",
       "    </tr>\n",
       "    <tr>\n",
       "        <td>Dr. João Gabriel Araújo</td>\n",
       "        <td>52</td>\n",
       "    </tr>\n",
       "    <tr>\n",
       "        <td>Pedro Henrique Ferreira</td>\n",
       "        <td>58</td>\n",
       "    </tr>\n",
       "    <tr>\n",
       "        <td>Alexia Pinto</td>\n",
       "        <td>21</td>\n",
       "    </tr>\n",
       "    <tr>\n",
       "        <td>Maria Fernanda Silveira</td>\n",
       "        <td>37</td>\n",
       "    </tr>\n",
       "    <tr>\n",
       "        <td>Lucca Vieira</td>\n",
       "        <td>25</td>\n",
       "    </tr>\n",
       "    <tr>\n",
       "        <td>Vitor Hugo Moraes</td>\n",
       "        <td>38</td>\n",
       "    </tr>\n",
       "    <tr>\n",
       "        <td>Srta. Sophie Pires</td>\n",
       "        <td>19</td>\n",
       "    </tr>\n",
       "    <tr>\n",
       "        <td>Luigi Moreira</td>\n",
       "        <td>22</td>\n",
       "    </tr>\n",
       "    <tr>\n",
       "        <td>Marcos Vinicius Araújo</td>\n",
       "        <td>50</td>\n",
       "    </tr>\n",
       "    <tr>\n",
       "        <td>Antônio Fernandes</td>\n",
       "        <td>32</td>\n",
       "    </tr>\n",
       "    <tr>\n",
       "        <td>Sr. João Melo</td>\n",
       "        <td>21</td>\n",
       "    </tr>\n",
       "    <tr>\n",
       "        <td>Luigi Cunha</td>\n",
       "        <td>20</td>\n",
       "    </tr>\n",
       "    <tr>\n",
       "        <td>Joana Porto</td>\n",
       "        <td>18</td>\n",
       "    </tr>\n",
       "    <tr>\n",
       "        <td>Otávio das Neves</td>\n",
       "        <td>57</td>\n",
       "    </tr>\n",
       "    <tr>\n",
       "        <td>Nina Lima</td>\n",
       "        <td>52</td>\n",
       "    </tr>\n",
       "    <tr>\n",
       "        <td>Pedro Pinto</td>\n",
       "        <td>30</td>\n",
       "    </tr>\n",
       "    <tr>\n",
       "        <td>Sr. Breno da Cruz</td>\n",
       "        <td>41</td>\n",
       "    </tr>\n",
       "    <tr>\n",
       "        <td>Luiza Alves</td>\n",
       "        <td>46</td>\n",
       "    </tr>\n",
       "</table>"
      ],
      "text/plain": [
       "[('Isaac Monteiro', 38),\n",
       " ('Letícia das Neves', 21),\n",
       " ('Dr. João Gabriel Araújo', 52),\n",
       " ('Pedro Henrique Ferreira', 58),\n",
       " ('Alexia Pinto', 21),\n",
       " ('Maria Fernanda Silveira', 37),\n",
       " ('Lucca Vieira', 25),\n",
       " ('Vitor Hugo Moraes', 38),\n",
       " ('Srta. Sophie Pires', 19),\n",
       " ('Luigi Moreira', 22),\n",
       " ('Marcos Vinicius Araújo', 50),\n",
       " ('Antônio Fernandes', 32),\n",
       " ('Sr. João Melo', 21),\n",
       " ('Luigi Cunha', 20),\n",
       " ('Joana Porto', 18),\n",
       " ('Otávio das Neves', 57),\n",
       " ('Nina Lima', 52),\n",
       " ('Pedro Pinto', 30),\n",
       " ('Sr. Breno da Cruz', 41),\n",
       " ('Luiza Alves', 46)]"
      ]
     },
     "execution_count": 14,
     "metadata": {},
     "output_type": "execute_result"
    }
   ],
   "source": [
    "%%sql\n",
    "\n",
    "SELECT nome, idade FROM clientes"
   ]
  },
  {
   "cell_type": "markdown",
   "metadata": {},
   "source": [
    "Nesse caso, eu estou trazendo o nome e idade de todos os clientes da base."
   ]
  },
  {
   "cell_type": "markdown",
   "metadata": {},
   "source": [
    "# Limit\n",
    "\n",
    "Geralmente não queremos trazer todos os dados de uma vez, muitas vezes os dados\n",
    "que guardamos nas tabelas do banco de dados iriam facilmente estourar a  memória\n",
    "dos nossos servidores, para limitar a pesquisa, existem vários métodos, o mais \n",
    "simples que tem é o `LIMIT n`, onde você informa quantos registros você quer ver\n",
    "no máximo."
   ]
  },
  {
   "cell_type": "code",
   "execution_count": 15,
   "metadata": {
    "ExecuteTime": {
     "end_time": "2022-01-06T17:26:25.453811Z",
     "start_time": "2022-01-06T17:26:25.444311Z"
    }
   },
   "outputs": [
    {
     "name": "stdout",
     "output_type": "stream",
     "text": [
      " * sqlite:///TesteSQL.db\n",
      "Done.\n"
     ]
    },
    {
     "data": {
      "text/html": [
       "<table>\n",
       "    <tr>\n",
       "        <th>id</th>\n",
       "        <th>nome</th>\n",
       "        <th>email</th>\n",
       "        <th>idade</th>\n",
       "    </tr>\n",
       "    <tr>\n",
       "        <td>0</td>\n",
       "        <td>Isaac Monteiro</td>\n",
       "        <td>caldeiraandre@yahoo.com.br</td>\n",
       "        <td>38</td>\n",
       "    </tr>\n",
       "    <tr>\n",
       "        <td>1</td>\n",
       "        <td>Letícia das Neves</td>\n",
       "        <td>cardosohelena@gmail.com</td>\n",
       "        <td>21</td>\n",
       "    </tr>\n",
       "    <tr>\n",
       "        <td>2</td>\n",
       "        <td>Dr. João Gabriel Araújo</td>\n",
       "        <td>carvalholuana@hotmail.com</td>\n",
       "        <td>52</td>\n",
       "    </tr>\n",
       "    <tr>\n",
       "        <td>3</td>\n",
       "        <td>Pedro Henrique Ferreira</td>\n",
       "        <td>pedro93@uol.com.br</td>\n",
       "        <td>58</td>\n",
       "    </tr>\n",
       "    <tr>\n",
       "        <td>4</td>\n",
       "        <td>Alexia Pinto</td>\n",
       "        <td>lpereira@gmail.com</td>\n",
       "        <td>21</td>\n",
       "    </tr>\n",
       "</table>"
      ],
      "text/plain": [
       "[(0, 'Isaac Monteiro', 'caldeiraandre@yahoo.com.br', 38),\n",
       " (1, 'Letícia das Neves', 'cardosohelena@gmail.com', 21),\n",
       " (2, 'Dr. João Gabriel Araújo', 'carvalholuana@hotmail.com', 52),\n",
       " (3, 'Pedro Henrique Ferreira', 'pedro93@uol.com.br', 58),\n",
       " (4, 'Alexia Pinto', 'lpereira@gmail.com', 21)]"
      ]
     },
     "execution_count": 15,
     "metadata": {},
     "output_type": "execute_result"
    }
   ],
   "source": [
    "%%sql\n",
    "\n",
    "SELECT * FROM clientes LIMIT 5"
   ]
  },
  {
   "cell_type": "markdown",
   "metadata": {},
   "source": [
    "Nesse caso, eu trouxe 5 registros da tabela cliente.\n",
    "\n",
    "<span style=\"color:red\"><b>Em uma aplicação, sempre use o</span></b> `LIMIT` \n",
    "<span style=\"color:red\"><b>com um</span></b> `ORDER BY` \n",
    "<span style=\"color:red\"><b>quer será explicado mais a frente"
   ]
  },
  {
   "cell_type": "markdown",
   "metadata": {},
   "source": [
    "## Exercício 01\n",
    "\n",
    "Traga 10 produtos e seu respectivo preço"
   ]
  },
  {
   "cell_type": "code",
   "execution_count": 16,
   "metadata": {},
   "outputs": [
    {
     "name": "stdout",
     "output_type": "stream",
     "text": [
      " * sqlite:///TesteSQL.db\n",
      "Done.\n"
     ]
    },
    {
     "data": {
      "text/html": [
       "<table>\n",
       "    <tr>\n",
       "        <th>id</th>\n",
       "        <th>produto</th>\n",
       "        <th>preço</th>\n",
       "    </tr>\n",
       "    <tr>\n",
       "        <td>0</td>\n",
       "        <td>prod 00</td>\n",
       "        <td>8.35</td>\n",
       "    </tr>\n",
       "    <tr>\n",
       "        <td>1</td>\n",
       "        <td>prod 01</td>\n",
       "        <td>9.53</td>\n",
       "    </tr>\n",
       "    <tr>\n",
       "        <td>2</td>\n",
       "        <td>prod 02</td>\n",
       "        <td>3.27</td>\n",
       "    </tr>\n",
       "    <tr>\n",
       "        <td>3</td>\n",
       "        <td>prod 03</td>\n",
       "        <td>7.43</td>\n",
       "    </tr>\n",
       "    <tr>\n",
       "        <td>4</td>\n",
       "        <td>prod 04</td>\n",
       "        <td>0.22</td>\n",
       "    </tr>\n",
       "    <tr>\n",
       "        <td>5</td>\n",
       "        <td>prod 05</td>\n",
       "        <td>6.5</td>\n",
       "    </tr>\n",
       "    <tr>\n",
       "        <td>6</td>\n",
       "        <td>prod 06</td>\n",
       "        <td>9.81</td>\n",
       "    </tr>\n",
       "    <tr>\n",
       "        <td>7</td>\n",
       "        <td>prod 07</td>\n",
       "        <td>1.94</td>\n",
       "    </tr>\n",
       "    <tr>\n",
       "        <td>8</td>\n",
       "        <td>prod 08</td>\n",
       "        <td>6.78</td>\n",
       "    </tr>\n",
       "    <tr>\n",
       "        <td>9</td>\n",
       "        <td>prod 09</td>\n",
       "        <td>6.52</td>\n",
       "    </tr>\n",
       "</table>"
      ],
      "text/plain": [
       "[(0, 'prod 00', 8.35),\n",
       " (1, 'prod 01', 9.53),\n",
       " (2, 'prod 02', 3.27),\n",
       " (3, 'prod 03', 7.43),\n",
       " (4, 'prod 04', 0.22),\n",
       " (5, 'prod 05', 6.5),\n",
       " (6, 'prod 06', 9.81),\n",
       " (7, 'prod 07', 1.94),\n",
       " (8, 'prod 08', 6.78),\n",
       " (9, 'prod 09', 6.52)]"
      ]
     },
     "execution_count": 16,
     "metadata": {},
     "output_type": "execute_result"
    }
   ],
   "source": [
    "%%sql\n",
    "\n",
    "SELECT * FROM produtos LIMIT 10"
   ]
  },
  {
   "cell_type": "markdown",
   "metadata": {},
   "source": [
    "# Projeção\n",
    "\n",
    "Também posso operar sobre os valores retornados, por exemplo, se ao invés da idade\n",
    "da pessoa, eu quiser saber somente a faixa etária dela, posso fazer algum cálculo\n",
    "no select e assim trazer esse dado já trabalhado do próprio banco de dados. "
   ]
  },
  {
   "cell_type": "code",
   "execution_count": 17,
   "metadata": {
    "ExecuteTime": {
     "end_time": "2022-01-06T17:26:39.933827Z",
     "start_time": "2022-01-06T17:26:39.922826Z"
    }
   },
   "outputs": [
    {
     "name": "stdout",
     "output_type": "stream",
     "text": [
      " * sqlite:///TesteSQL.db\n",
      "Done.\n"
     ]
    },
    {
     "data": {
      "text/html": [
       "<table>\n",
       "    <tr>\n",
       "        <th>nome</th>\n",
       "        <th>FAIXA_ETARIA</th>\n",
       "    </tr>\n",
       "    <tr>\n",
       "        <td>Isaac Monteiro</td>\n",
       "        <td>30.0</td>\n",
       "    </tr>\n",
       "    <tr>\n",
       "        <td>Letícia das Neves</td>\n",
       "        <td>20.0</td>\n",
       "    </tr>\n",
       "    <tr>\n",
       "        <td>Dr. João Gabriel Araújo</td>\n",
       "        <td>50.0</td>\n",
       "    </tr>\n",
       "    <tr>\n",
       "        <td>Pedro Henrique Ferreira</td>\n",
       "        <td>50.0</td>\n",
       "    </tr>\n",
       "    <tr>\n",
       "        <td>Alexia Pinto</td>\n",
       "        <td>20.0</td>\n",
       "    </tr>\n",
       "    <tr>\n",
       "        <td>Maria Fernanda Silveira</td>\n",
       "        <td>30.0</td>\n",
       "    </tr>\n",
       "    <tr>\n",
       "        <td>Lucca Vieira</td>\n",
       "        <td>20.0</td>\n",
       "    </tr>\n",
       "    <tr>\n",
       "        <td>Vitor Hugo Moraes</td>\n",
       "        <td>30.0</td>\n",
       "    </tr>\n",
       "    <tr>\n",
       "        <td>Srta. Sophie Pires</td>\n",
       "        <td>10.0</td>\n",
       "    </tr>\n",
       "    <tr>\n",
       "        <td>Luigi Moreira</td>\n",
       "        <td>20.0</td>\n",
       "    </tr>\n",
       "    <tr>\n",
       "        <td>Marcos Vinicius Araújo</td>\n",
       "        <td>50.0</td>\n",
       "    </tr>\n",
       "    <tr>\n",
       "        <td>Antônio Fernandes</td>\n",
       "        <td>30.0</td>\n",
       "    </tr>\n",
       "    <tr>\n",
       "        <td>Sr. João Melo</td>\n",
       "        <td>20.0</td>\n",
       "    </tr>\n",
       "    <tr>\n",
       "        <td>Luigi Cunha</td>\n",
       "        <td>20.0</td>\n",
       "    </tr>\n",
       "    <tr>\n",
       "        <td>Joana Porto</td>\n",
       "        <td>10.0</td>\n",
       "    </tr>\n",
       "    <tr>\n",
       "        <td>Otávio das Neves</td>\n",
       "        <td>50.0</td>\n",
       "    </tr>\n",
       "    <tr>\n",
       "        <td>Nina Lima</td>\n",
       "        <td>50.0</td>\n",
       "    </tr>\n",
       "    <tr>\n",
       "        <td>Pedro Pinto</td>\n",
       "        <td>30.0</td>\n",
       "    </tr>\n",
       "    <tr>\n",
       "        <td>Sr. Breno da Cruz</td>\n",
       "        <td>40.0</td>\n",
       "    </tr>\n",
       "    <tr>\n",
       "        <td>Luiza Alves</td>\n",
       "        <td>40.0</td>\n",
       "    </tr>\n",
       "</table>"
      ],
      "text/plain": [
       "[('Isaac Monteiro', 30.0),\n",
       " ('Letícia das Neves', 20.0),\n",
       " ('Dr. João Gabriel Araújo', 50.0),\n",
       " ('Pedro Henrique Ferreira', 50.0),\n",
       " ('Alexia Pinto', 20.0),\n",
       " ('Maria Fernanda Silveira', 30.0),\n",
       " ('Lucca Vieira', 20.0),\n",
       " ('Vitor Hugo Moraes', 30.0),\n",
       " ('Srta. Sophie Pires', 10.0),\n",
       " ('Luigi Moreira', 20.0),\n",
       " ('Marcos Vinicius Araújo', 50.0),\n",
       " ('Antônio Fernandes', 30.0),\n",
       " ('Sr. João Melo', 20.0),\n",
       " ('Luigi Cunha', 20.0),\n",
       " ('Joana Porto', 10.0),\n",
       " ('Otávio das Neves', 50.0),\n",
       " ('Nina Lima', 50.0),\n",
       " ('Pedro Pinto', 30.0),\n",
       " ('Sr. Breno da Cruz', 40.0),\n",
       " ('Luiza Alves', 40.0)]"
      ]
     },
     "execution_count": 17,
     "metadata": {},
     "output_type": "execute_result"
    }
   ],
   "source": [
    "%%sql\n",
    "\n",
    "SELECT NOME, ROUND(idade / 10) * 10 AS FAIXA_ETARIA\n",
    "FROM clientes"
   ]
  },
  {
   "cell_type": "markdown",
   "metadata": {},
   "source": [
    "Essa ação de selecionar um dado trabalhado, recebe vários nomes, como mapeamento\n",
    "ou projeção.\n",
    "\n",
    "## Exercício 2\n",
    "\n",
    "Traga 10 produtos e seu preço convertido para dólar, considere a cotação do dólar\n",
    "com sendo US\\\\$1,00=R\\\\$5,20"
   ]
  },
  {
   "cell_type": "code",
   "execution_count": 18,
   "metadata": {},
   "outputs": [
    {
     "name": "stdout",
     "output_type": "stream",
     "text": [
      " * sqlite:///TesteSQL.db\n",
      "Done.\n"
     ]
    },
    {
     "data": {
      "text/html": [
       "<table>\n",
       "    <tr>\n",
       "        <th>produto</th>\n",
       "        <th>preço_convertido</th>\n",
       "    </tr>\n",
       "    <tr>\n",
       "        <td>prod 00</td>\n",
       "        <td>1.6057692307692306</td>\n",
       "    </tr>\n",
       "    <tr>\n",
       "        <td>prod 01</td>\n",
       "        <td>1.8326923076923074</td>\n",
       "    </tr>\n",
       "    <tr>\n",
       "        <td>prod 02</td>\n",
       "        <td>0.6288461538461538</td>\n",
       "    </tr>\n",
       "    <tr>\n",
       "        <td>prod 03</td>\n",
       "        <td>1.4288461538461537</td>\n",
       "    </tr>\n",
       "    <tr>\n",
       "        <td>prod 04</td>\n",
       "        <td>0.0423076923076923</td>\n",
       "    </tr>\n",
       "    <tr>\n",
       "        <td>prod 05</td>\n",
       "        <td>1.25</td>\n",
       "    </tr>\n",
       "    <tr>\n",
       "        <td>prod 06</td>\n",
       "        <td>1.8865384615384615</td>\n",
       "    </tr>\n",
       "    <tr>\n",
       "        <td>prod 07</td>\n",
       "        <td>0.37307692307692303</td>\n",
       "    </tr>\n",
       "    <tr>\n",
       "        <td>prod 08</td>\n",
       "        <td>1.3038461538461539</td>\n",
       "    </tr>\n",
       "    <tr>\n",
       "        <td>prod 09</td>\n",
       "        <td>1.2538461538461536</td>\n",
       "    </tr>\n",
       "</table>"
      ],
      "text/plain": [
       "[('prod 00', 1.6057692307692306),\n",
       " ('prod 01', 1.8326923076923074),\n",
       " ('prod 02', 0.6288461538461538),\n",
       " ('prod 03', 1.4288461538461537),\n",
       " ('prod 04', 0.0423076923076923),\n",
       " ('prod 05', 1.25),\n",
       " ('prod 06', 1.8865384615384615),\n",
       " ('prod 07', 0.37307692307692303),\n",
       " ('prod 08', 1.3038461538461539),\n",
       " ('prod 09', 1.2538461538461536)]"
      ]
     },
     "execution_count": 18,
     "metadata": {},
     "output_type": "execute_result"
    }
   ],
   "source": [
    "%%sql\n",
    "\n",
    "SELECT produto, (preço/5.20)  AS preço_convertido\n",
    "FROM produtos LIMIT 10"
   ]
  },
  {
   "cell_type": "markdown",
   "metadata": {},
   "source": [
    "# Where\n",
    "\n",
    "O `LIMIT` como dito anteriormente é a forma mais simples de reduzir a quantidade\n",
    "de dados trazidos em uma pesquisa, mas a forma mais comum de se usar é o `WHERE`.\n",
    "\n",
    "Geralmente quando fazemos uma consulta no banco de dados, não precisamos de todos\n",
    "os dados da tabela, somente dados que respeitem algum requisito, como por exemplo,\n",
    "no nosso caso, se a gente quiser saber quais clientes temos com menos de 30 anos:"
   ]
  },
  {
   "cell_type": "code",
   "execution_count": 19,
   "metadata": {
    "ExecuteTime": {
     "end_time": "2022-01-06T17:26:47.084933Z",
     "start_time": "2022-01-06T17:26:47.076438Z"
    }
   },
   "outputs": [
    {
     "name": "stdout",
     "output_type": "stream",
     "text": [
      " * sqlite:///TesteSQL.db\n",
      "Done.\n"
     ]
    },
    {
     "data": {
      "text/html": [
       "<table>\n",
       "    <tr>\n",
       "        <th>nome</th>\n",
       "        <th>idade</th>\n",
       "    </tr>\n",
       "    <tr>\n",
       "        <td>Letícia das Neves</td>\n",
       "        <td>21</td>\n",
       "    </tr>\n",
       "    <tr>\n",
       "        <td>Alexia Pinto</td>\n",
       "        <td>21</td>\n",
       "    </tr>\n",
       "    <tr>\n",
       "        <td>Lucca Vieira</td>\n",
       "        <td>25</td>\n",
       "    </tr>\n",
       "    <tr>\n",
       "        <td>Srta. Sophie Pires</td>\n",
       "        <td>19</td>\n",
       "    </tr>\n",
       "    <tr>\n",
       "        <td>Luigi Moreira</td>\n",
       "        <td>22</td>\n",
       "    </tr>\n",
       "    <tr>\n",
       "        <td>Sr. João Melo</td>\n",
       "        <td>21</td>\n",
       "    </tr>\n",
       "    <tr>\n",
       "        <td>Luigi Cunha</td>\n",
       "        <td>20</td>\n",
       "    </tr>\n",
       "    <tr>\n",
       "        <td>Joana Porto</td>\n",
       "        <td>18</td>\n",
       "    </tr>\n",
       "</table>"
      ],
      "text/plain": [
       "[('Letícia das Neves', 21),\n",
       " ('Alexia Pinto', 21),\n",
       " ('Lucca Vieira', 25),\n",
       " ('Srta. Sophie Pires', 19),\n",
       " ('Luigi Moreira', 22),\n",
       " ('Sr. João Melo', 21),\n",
       " ('Luigi Cunha', 20),\n",
       " ('Joana Porto', 18)]"
      ]
     },
     "execution_count": 19,
     "metadata": {},
     "output_type": "execute_result"
    }
   ],
   "source": [
    "%%sql\n",
    "\n",
    "SELECT nome, idade FROM clientes WHERE idade < 30"
   ]
  },
  {
   "cell_type": "markdown",
   "metadata": {},
   "source": [
    "## Exercício 3\n",
    "\n",
    "Traga todos os produtos que custem menos do que 1 real"
   ]
  },
  {
   "cell_type": "code",
   "execution_count": 78,
   "metadata": {},
   "outputs": [
    {
     "name": "stdout",
     "output_type": "stream",
     "text": [
      " * sqlite:///TesteSQL.db\n",
      "Done.\n"
     ]
    },
    {
     "data": {
      "text/html": [
       "<table>\n",
       "    <tr>\n",
       "        <th>produto</th>\n",
       "        <th>preço</th>\n",
       "    </tr>\n",
       "    <tr>\n",
       "        <td>prod 04</td>\n",
       "        <td>0.22</td>\n",
       "    </tr>\n",
       "    <tr>\n",
       "        <td>prod 17</td>\n",
       "        <td>0.51</td>\n",
       "    </tr>\n",
       "    <tr>\n",
       "        <td>prod 33</td>\n",
       "        <td>0.09</td>\n",
       "    </tr>\n",
       "    <tr>\n",
       "        <td>prod 34</td>\n",
       "        <td>0.91</td>\n",
       "    </tr>\n",
       "    <tr>\n",
       "        <td>prod 45</td>\n",
       "        <td>0.8</td>\n",
       "    </tr>\n",
       "    <tr>\n",
       "        <td>prod 51</td>\n",
       "        <td>0.06</td>\n",
       "    </tr>\n",
       "    <tr>\n",
       "        <td>prod 52</td>\n",
       "        <td>0.03</td>\n",
       "    </tr>\n",
       "    <tr>\n",
       "        <td>prod 61</td>\n",
       "        <td>0.39</td>\n",
       "    </tr>\n",
       "    <tr>\n",
       "        <td>prod 65</td>\n",
       "        <td>0.33</td>\n",
       "    </tr>\n",
       "    <tr>\n",
       "        <td>prod 69</td>\n",
       "        <td>0.66</td>\n",
       "    </tr>\n",
       "    <tr>\n",
       "        <td>prod 78</td>\n",
       "        <td>0.93</td>\n",
       "    </tr>\n",
       "    <tr>\n",
       "        <td>prod 89</td>\n",
       "        <td>0.66</td>\n",
       "    </tr>\n",
       "    <tr>\n",
       "        <td>prod 91</td>\n",
       "        <td>0.92</td>\n",
       "    </tr>\n",
       "    <tr>\n",
       "        <td>prod 97</td>\n",
       "        <td>0.6</td>\n",
       "    </tr>\n",
       "</table>"
      ],
      "text/plain": [
       "[('prod 04', 0.22),\n",
       " ('prod 17', 0.51),\n",
       " ('prod 33', 0.09),\n",
       " ('prod 34', 0.91),\n",
       " ('prod 45', 0.8),\n",
       " ('prod 51', 0.06),\n",
       " ('prod 52', 0.03),\n",
       " ('prod 61', 0.39),\n",
       " ('prod 65', 0.33),\n",
       " ('prod 69', 0.66),\n",
       " ('prod 78', 0.93),\n",
       " ('prod 89', 0.66),\n",
       " ('prod 91', 0.92),\n",
       " ('prod 97', 0.6)]"
      ]
     },
     "execution_count": 78,
     "metadata": {},
     "output_type": "execute_result"
    }
   ],
   "source": [
    "%%sql\n",
    "\n",
    "SELECT produto, preço FROM produtos WHERE preço<1"
   ]
  },
  {
   "cell_type": "markdown",
   "metadata": {},
   "source": [
    "# Join\n",
    "\n",
    "Uma das principais características dos bancos relacionais é justamente a sua capacidade\n",
    "de ter relacionamento entre os dados.\n",
    "\n",
    "Geralmente esse relacionamento é feito utilizando chaves primárias (PK). Geralmente\n",
    "as PKs são representadas por um número inteiro chamado ID, mas não necessariamente,\n",
    "por exemplo, um cadastro de pessoas pode ter como PK o CPF da pessoa, o que importa\n",
    "é que não haja repetição de valores.\n",
    "\n",
    "As PKs também podem ter mais de uma coluna, por exemplo, um supermercado pode ter\n",
    "como PK um produto e a marca dele.\n",
    "\n",
    "Mas por hora iremos abstrair essas PKs menos ortodoxas e focar nas padrões que é só\n",
    "uma coluna ID.\n",
    "\n",
    "As PKs geralmente são utilizadas para formar relacionamento entre as tabelas, ou seja,\n",
    "a partir do momento que eu cadastrei um cliente no meu sistema, e gerei um ID para ele\n",
    "toda as interações dele serão registradas utilizando o seu ID e não mais dados\n",
    "pessoais.\n",
    "\n",
    "No nosso caso, registramos as compras utilizando o ID do cliente e do produto, como\n",
    "podemos ver abaixo"
   ]
  },
  {
   "cell_type": "code",
   "execution_count": 21,
   "metadata": {
    "ExecuteTime": {
     "end_time": "2022-01-06T17:26:50.625464Z",
     "start_time": "2022-01-06T17:26:50.615984Z"
    }
   },
   "outputs": [
    {
     "name": "stdout",
     "output_type": "stream",
     "text": [
      " * sqlite:///TesteSQL.db\n",
      "Done.\n"
     ]
    },
    {
     "data": {
      "text/html": [
       "<table>\n",
       "    <tr>\n",
       "        <th>id</th>\n",
       "        <th>nome</th>\n",
       "        <th>email</th>\n",
       "        <th>idade</th>\n",
       "        <th>id_1</th>\n",
       "        <th>produto</th>\n",
       "        <th>preço</th>\n",
       "    </tr>\n",
       "    <tr>\n",
       "        <td>17</td>\n",
       "        <td>Pedro Pinto</td>\n",
       "        <td>mirella55@ig.com.br</td>\n",
       "        <td>30</td>\n",
       "        <td>7</td>\n",
       "        <td>prod 07</td>\n",
       "        <td>1.94</td>\n",
       "    </tr>\n",
       "    <tr>\n",
       "        <td>11</td>\n",
       "        <td>Antônio Fernandes</td>\n",
       "        <td>fvieira@ig.com.br</td>\n",
       "        <td>32</td>\n",
       "        <td>74</td>\n",
       "        <td>prod 74</td>\n",
       "        <td>4.56</td>\n",
       "    </tr>\n",
       "    <tr>\n",
       "        <td>0</td>\n",
       "        <td>Isaac Monteiro</td>\n",
       "        <td>caldeiraandre@yahoo.com.br</td>\n",
       "        <td>38</td>\n",
       "        <td>65</td>\n",
       "        <td>prod 65</td>\n",
       "        <td>0.33</td>\n",
       "    </tr>\n",
       "    <tr>\n",
       "        <td>12</td>\n",
       "        <td>Sr. João Melo</td>\n",
       "        <td>luna47@ig.com.br</td>\n",
       "        <td>21</td>\n",
       "        <td>20</td>\n",
       "        <td>prod 20</td>\n",
       "        <td>1.94</td>\n",
       "    </tr>\n",
       "    <tr>\n",
       "        <td>13</td>\n",
       "        <td>Luigi Cunha</td>\n",
       "        <td>alice99@uol.com.br</td>\n",
       "        <td>20</td>\n",
       "        <td>50</td>\n",
       "        <td>prod 50</td>\n",
       "        <td>4.71</td>\n",
       "    </tr>\n",
       "</table>"
      ],
      "text/plain": [
       "[(17, 'Pedro Pinto', 'mirella55@ig.com.br', 30, 7, 'prod 07', 1.94),\n",
       " (11, 'Antônio Fernandes', 'fvieira@ig.com.br', 32, 74, 'prod 74', 4.56),\n",
       " (0, 'Isaac Monteiro', 'caldeiraandre@yahoo.com.br', 38, 65, 'prod 65', 0.33),\n",
       " (12, 'Sr. João Melo', 'luna47@ig.com.br', 21, 20, 'prod 20', 1.94),\n",
       " (13, 'Luigi Cunha', 'alice99@uol.com.br', 20, 50, 'prod 50', 4.71)]"
      ]
     },
     "execution_count": 21,
     "metadata": {},
     "output_type": "execute_result"
    }
   ],
   "source": [
    "%%sql\n",
    "\n",
    "SELECT cl.*, po.*\n",
    "FROM clientes cl\n",
    "JOIN compras AS co\n",
    "ON co.ID_CLIENTE = cl.ID\n",
    "JOIN produtos as po\n",
    "ON co.ID_PRODUTO = po.ID\n",
    "LIMIT 5"
   ]
  },
  {
   "cell_type": "markdown",
   "metadata": {},
   "source": [
    "A tabela de compras traz consigo o ID do cliente que fez a compra e o ID do produto\n",
    "comprado, ocupando assim muito menos espaço do que se eu tivesse uma tabela com\n",
    "todos os dados.\n",
    "\n",
    "> NOTA: Quando nas colunas selecionadas faço algo do tipo alias.* eu estou trazendo todas as colunas daquela tabel\n",
    "\n",
    "> NOTA: Em 99% dos casos, independetemente do intuito do SELECT, o relacionamento entre as tabelas vai utilizar as mesmas colunas que usou em SELECTs anteriores\n",
    "\n",
    "## Exercício 4\n",
    "\n",
    "Traga 10 compras do produto `prod 02`"
   ]
  },
  {
   "cell_type": "code",
   "execution_count": 22,
   "metadata": {},
   "outputs": [
    {
     "name": "stdout",
     "output_type": "stream",
     "text": [
      " * sqlite:///TesteSQL.db\n",
      "Done.\n"
     ]
    },
    {
     "data": {
      "text/html": [
       "<table>\n",
       "    <tr>\n",
       "        <th>id</th>\n",
       "        <th>nome</th>\n",
       "        <th>email</th>\n",
       "        <th>idade</th>\n",
       "        <th>id_1</th>\n",
       "        <th>produto</th>\n",
       "        <th>preço</th>\n",
       "    </tr>\n",
       "    <tr>\n",
       "        <td>1</td>\n",
       "        <td>Letícia das Neves</td>\n",
       "        <td>cardosohelena@gmail.com</td>\n",
       "        <td>21</td>\n",
       "        <td>2</td>\n",
       "        <td>prod 02</td>\n",
       "        <td>3.27</td>\n",
       "    </tr>\n",
       "    <tr>\n",
       "        <td>2</td>\n",
       "        <td>Dr. João Gabriel Araújo</td>\n",
       "        <td>carvalholuana@hotmail.com</td>\n",
       "        <td>52</td>\n",
       "        <td>2</td>\n",
       "        <td>prod 02</td>\n",
       "        <td>3.27</td>\n",
       "    </tr>\n",
       "</table>"
      ],
      "text/plain": [
       "[(1, 'Letícia das Neves', 'cardosohelena@gmail.com', 21, 2, 'prod 02', 3.27),\n",
       " (2, 'Dr. João Gabriel Araújo', 'carvalholuana@hotmail.com', 52, 2, 'prod 02', 3.27)]"
      ]
     },
     "execution_count": 22,
     "metadata": {},
     "output_type": "execute_result"
    }
   ],
   "source": [
    "%%sql\n",
    "\n",
    "SELECT cl.*, po.*\n",
    "FROM clientes cl \n",
    "JOIN compras AS co\n",
    "ON co.ID_CLIENTE = cl.ID\n",
    "JOIN produtos as po\n",
    "ON co.ID_PRODUTO = po.ID\n",
    "WHERE produto = 'prod 02'\n",
    "LIMIT 10"
   ]
  },
  {
   "cell_type": "markdown",
   "metadata": {},
   "source": [
    "# Distinct\n",
    "\n",
    "Muitas vezes as nossas consultas nos trazem resultados repetidos, quando a repetição\n",
    "não nos importa, por exemplo, mesmo na nossa base tendo 20 clientes, não necessariamente\n",
    "todos efetuaram compras, se eu quiser saber todos que o fizeram posso fazer:"
   ]
  },
  {
   "cell_type": "code",
   "execution_count": 23,
   "metadata": {
    "ExecuteTime": {
     "end_time": "2022-01-06T17:26:53.410205Z",
     "start_time": "2022-01-06T17:26:53.398714Z"
    }
   },
   "outputs": [
    {
     "name": "stdout",
     "output_type": "stream",
     "text": [
      " * sqlite:///TesteSQL.db\n",
      "Done.\n"
     ]
    },
    {
     "data": {
      "text/html": [
       "<table>\n",
       "    <tr>\n",
       "        <th>nome</th>\n",
       "    </tr>\n",
       "    <tr>\n",
       "        <td>Pedro Pinto</td>\n",
       "    </tr>\n",
       "    <tr>\n",
       "        <td>Antônio Fernandes</td>\n",
       "    </tr>\n",
       "    <tr>\n",
       "        <td>Isaac Monteiro</td>\n",
       "    </tr>\n",
       "    <tr>\n",
       "        <td>Sr. João Melo</td>\n",
       "    </tr>\n",
       "    <tr>\n",
       "        <td>Luigi Cunha</td>\n",
       "    </tr>\n",
       "    <tr>\n",
       "        <td>Marcos Vinicius Araújo</td>\n",
       "    </tr>\n",
       "    <tr>\n",
       "        <td>Maria Fernanda Silveira</td>\n",
       "    </tr>\n",
       "    <tr>\n",
       "        <td>Otávio das Neves</td>\n",
       "    </tr>\n",
       "    <tr>\n",
       "        <td>Luiza Alves</td>\n",
       "    </tr>\n",
       "    <tr>\n",
       "        <td>Pedro Henrique Ferreira</td>\n",
       "    </tr>\n",
       "    <tr>\n",
       "        <td>Nina Lima</td>\n",
       "    </tr>\n",
       "    <tr>\n",
       "        <td>Vitor Hugo Moraes</td>\n",
       "    </tr>\n",
       "    <tr>\n",
       "        <td>Letícia das Neves</td>\n",
       "    </tr>\n",
       "    <tr>\n",
       "        <td>Dr. João Gabriel Araújo</td>\n",
       "    </tr>\n",
       "    <tr>\n",
       "        <td>Srta. Sophie Pires</td>\n",
       "    </tr>\n",
       "    <tr>\n",
       "        <td>Joana Porto</td>\n",
       "    </tr>\n",
       "    <tr>\n",
       "        <td>Lucca Vieira</td>\n",
       "    </tr>\n",
       "    <tr>\n",
       "        <td>Sr. Breno da Cruz</td>\n",
       "    </tr>\n",
       "    <tr>\n",
       "        <td>Alexia Pinto</td>\n",
       "    </tr>\n",
       "    <tr>\n",
       "        <td>Luigi Moreira</td>\n",
       "    </tr>\n",
       "</table>"
      ],
      "text/plain": [
       "[('Pedro Pinto',),\n",
       " ('Antônio Fernandes',),\n",
       " ('Isaac Monteiro',),\n",
       " ('Sr. João Melo',),\n",
       " ('Luigi Cunha',),\n",
       " ('Marcos Vinicius Araújo',),\n",
       " ('Maria Fernanda Silveira',),\n",
       " ('Otávio das Neves',),\n",
       " ('Luiza Alves',),\n",
       " ('Pedro Henrique Ferreira',),\n",
       " ('Nina Lima',),\n",
       " ('Vitor Hugo Moraes',),\n",
       " ('Letícia das Neves',),\n",
       " ('Dr. João Gabriel Araújo',),\n",
       " ('Srta. Sophie Pires',),\n",
       " ('Joana Porto',),\n",
       " ('Lucca Vieira',),\n",
       " ('Sr. Breno da Cruz',),\n",
       " ('Alexia Pinto',),\n",
       " ('Luigi Moreira',)]"
      ]
     },
     "execution_count": 23,
     "metadata": {},
     "output_type": "execute_result"
    }
   ],
   "source": [
    "%%sql\n",
    "\n",
    "SELECT DISTINCT cl.nome\n",
    "FROM clientes cl\n",
    "JOIN compras AS co\n",
    "ON co.ID_CLIENTE = cl.ID"
   ]
  },
  {
   "cell_type": "markdown",
   "metadata": {},
   "source": [
    "Como podemos ver, apesar de eu ter feito {{N_COMPRAS}} compras, o meu resultado\n",
    "não traz essa quantidade de linhas, traz exatamente a quantidade de clientes \n",
    "que fizeram compras.\n",
    "\n",
    "## Exercício 5\n",
    "\n",
    "Liste todos clientes que compraram o produto `prod 02`"
   ]
  },
  {
   "cell_type": "code",
   "execution_count": 24,
   "metadata": {},
   "outputs": [
    {
     "name": "stdout",
     "output_type": "stream",
     "text": [
      " * sqlite:///TesteSQL.db\n",
      "Done.\n"
     ]
    },
    {
     "data": {
      "text/html": [
       "<table>\n",
       "    <tr>\n",
       "        <th>nome</th>\n",
       "    </tr>\n",
       "    <tr>\n",
       "        <td>Letícia das Neves</td>\n",
       "    </tr>\n",
       "    <tr>\n",
       "        <td>Dr. João Gabriel Araújo</td>\n",
       "    </tr>\n",
       "</table>"
      ],
      "text/plain": [
       "[('Letícia das Neves',), ('Dr. João Gabriel Araújo',)]"
      ]
     },
     "execution_count": 24,
     "metadata": {},
     "output_type": "execute_result"
    }
   ],
   "source": [
    "%%sql\n",
    "\n",
    "SELECT DISTINCT cl.nome\n",
    "FROM clientes cl \n",
    "JOIN compras AS co\n",
    "ON co.ID_CLIENTE = cl.ID\n",
    "JOIN produtos as po\n",
    "ON co.ID_PRODUTO = po.ID\n",
    "WHERE produto = 'prod 02'\n"
   ]
  },
  {
   "cell_type": "markdown",
   "metadata": {},
   "source": [
    "# Redução\n",
    "\n",
    "No SQL também são comuns funções de redução, elas percorrem todas as linhas de uma\n",
    "determinada coluna aplicando uma função de redução (somatório, contagem e etc.)\n",
    "e retornam somente uma linha ao invés de todas as linhas lidas por ela, por exemplo\n",
    "se eu quiser saber quantas compras do `prod 02` foram feitas, posso fazer:"
   ]
  },
  {
   "cell_type": "code",
   "execution_count": 25,
   "metadata": {
    "ExecuteTime": {
     "end_time": "2022-01-06T17:26:56.761090Z",
     "start_time": "2022-01-06T17:26:56.753089Z"
    }
   },
   "outputs": [
    {
     "name": "stdout",
     "output_type": "stream",
     "text": [
      " * sqlite:///TesteSQL.db\n",
      "Done.\n"
     ]
    },
    {
     "data": {
      "text/html": [
       "<table>\n",
       "    <tr>\n",
       "        <th>count(*)</th>\n",
       "    </tr>\n",
       "    <tr>\n",
       "        <td>2</td>\n",
       "    </tr>\n",
       "</table>"
      ],
      "text/plain": [
       "[(2,)]"
      ]
     },
     "execution_count": 25,
     "metadata": {},
     "output_type": "execute_result"
    }
   ],
   "source": [
    "%%sql\n",
    "\n",
    "SELECT count(*)\n",
    "FROM compras AS co\n",
    "JOIN produtos as po\n",
    "ON co.ID_PRODUTO = po.ID\n",
    "WHERE po.produto = 'prod 02'"
   ]
  },
  {
   "cell_type": "markdown",
   "metadata": {},
   "source": [
    "Existem outras funções como SUM, AVG e etc., você pode sempre consultar a \n",
    "[documentação oficial](https://www.sqlite.org/lang_aggfunc.html) para ver \n",
    "todas elas\n",
    "\n",
    "## Exercício 6\n",
    "\n",
    "Qual foi a receita total?"
   ]
  },
  {
   "cell_type": "code",
   "execution_count": 26,
   "metadata": {},
   "outputs": [
    {
     "name": "stdout",
     "output_type": "stream",
     "text": [
      " * sqlite:///TesteSQL.db\n",
      "Done.\n"
     ]
    },
    {
     "data": {
      "text/html": [
       "<table>\n",
       "    <tr>\n",
       "        <th>receita_total</th>\n",
       "    </tr>\n",
       "    <tr>\n",
       "        <td>2281.0</td>\n",
       "    </tr>\n",
       "</table>"
      ],
      "text/plain": [
       "[(2281.0,)]"
      ]
     },
     "execution_count": 26,
     "metadata": {},
     "output_type": "execute_result"
    }
   ],
   "source": [
    "%%sql\n",
    "\n",
    "SELECT round(sum(po.preço)) AS receita_total\n",
    "FROM compras AS co\n",
    "JOIN produtos as po\n",
    "ON co.ID_PRODUTO = po.ID"
   ]
  },
  {
   "cell_type": "markdown",
   "metadata": {},
   "source": [
    "# Group by\n",
    "\n",
    "As funções de agregação ficam ainda mais fortes quando agrupamos valores.\n",
    "Isto é, elas mostram todo o seu potencial quando criamos pequenos grupos de dados,\n",
    "ao invés de contarmos por exemplo todas as vendas do dia, podemos aplicar contagem\n",
    "produto a produto com somente uma query, como mostrado abaixo:"
   ]
  },
  {
   "cell_type": "code",
   "execution_count": 27,
   "metadata": {
    "ExecuteTime": {
     "end_time": "2022-01-06T17:27:01.076622Z",
     "start_time": "2022-01-06T17:27:01.068127Z"
    }
   },
   "outputs": [
    {
     "name": "stdout",
     "output_type": "stream",
     "text": [
      " * sqlite:///TesteSQL.db\n",
      "Done.\n"
     ]
    },
    {
     "data": {
      "text/html": [
       "<table>\n",
       "    <tr>\n",
       "        <th>produto</th>\n",
       "        <th>count(*)</th>\n",
       "    </tr>\n",
       "    <tr>\n",
       "        <td>prod 00</td>\n",
       "        <td>4</td>\n",
       "    </tr>\n",
       "    <tr>\n",
       "        <td>prod 02</td>\n",
       "        <td>2</td>\n",
       "    </tr>\n",
       "    <tr>\n",
       "        <td>prod 03</td>\n",
       "        <td>4</td>\n",
       "    </tr>\n",
       "    <tr>\n",
       "        <td>prod 04</td>\n",
       "        <td>4</td>\n",
       "    </tr>\n",
       "    <tr>\n",
       "        <td>prod 05</td>\n",
       "        <td>3</td>\n",
       "    </tr>\n",
       "    <tr>\n",
       "        <td>prod 06</td>\n",
       "        <td>6</td>\n",
       "    </tr>\n",
       "    <tr>\n",
       "        <td>prod 07</td>\n",
       "        <td>6</td>\n",
       "    </tr>\n",
       "    <tr>\n",
       "        <td>prod 08</td>\n",
       "        <td>6</td>\n",
       "    </tr>\n",
       "    <tr>\n",
       "        <td>prod 09</td>\n",
       "        <td>7</td>\n",
       "    </tr>\n",
       "    <tr>\n",
       "        <td>prod 10</td>\n",
       "        <td>5</td>\n",
       "    </tr>\n",
       "</table>"
      ],
      "text/plain": [
       "[('prod 00', 4),\n",
       " ('prod 02', 2),\n",
       " ('prod 03', 4),\n",
       " ('prod 04', 4),\n",
       " ('prod 05', 3),\n",
       " ('prod 06', 6),\n",
       " ('prod 07', 6),\n",
       " ('prod 08', 6),\n",
       " ('prod 09', 7),\n",
       " ('prod 10', 5)]"
      ]
     },
     "execution_count": 27,
     "metadata": {},
     "output_type": "execute_result"
    }
   ],
   "source": [
    "%%sql\n",
    "\n",
    "SELECT po.produto, count(*)\n",
    "FROM compras AS co\n",
    "JOIN produtos as po\n",
    "ON co.ID_PRODUTO = po.ID\n",
    "group by po.produto\n",
    "limit 10"
   ]
  },
  {
   "cell_type": "markdown",
   "metadata": {},
   "source": [
    "Dessa forma, consigo fazer uma contagem diferente para cada produto, sem precisar\n",
    "fazer diversas querys, algo muito útil.\n",
    "\n",
    "## Exercício 7\n",
    "\n",
    "Quanto cada cliente gastou?"
   ]
  },
  {
   "cell_type": "code",
   "execution_count": 28,
   "metadata": {},
   "outputs": [
    {
     "name": "stdout",
     "output_type": "stream",
     "text": [
      " * sqlite:///TesteSQL.db\n",
      "Done.\n"
     ]
    },
    {
     "data": {
      "text/html": [
       "<table>\n",
       "    <tr>\n",
       "        <th>nome</th>\n",
       "        <th>gasto</th>\n",
       "    </tr>\n",
       "    <tr>\n",
       "        <td>Alexia Pinto</td>\n",
       "        <td>117.0</td>\n",
       "    </tr>\n",
       "    <tr>\n",
       "        <td>Antônio Fernandes</td>\n",
       "        <td>99.0</td>\n",
       "    </tr>\n",
       "    <tr>\n",
       "        <td>Dr. João Gabriel Araújo</td>\n",
       "        <td>144.0</td>\n",
       "    </tr>\n",
       "    <tr>\n",
       "        <td>Isaac Monteiro</td>\n",
       "        <td>96.0</td>\n",
       "    </tr>\n",
       "    <tr>\n",
       "        <td>Joana Porto</td>\n",
       "        <td>122.0</td>\n",
       "    </tr>\n",
       "    <tr>\n",
       "        <td>Letícia das Neves</td>\n",
       "        <td>100.0</td>\n",
       "    </tr>\n",
       "    <tr>\n",
       "        <td>Lucca Vieira</td>\n",
       "        <td>84.0</td>\n",
       "    </tr>\n",
       "    <tr>\n",
       "        <td>Luigi Cunha</td>\n",
       "        <td>75.0</td>\n",
       "    </tr>\n",
       "    <tr>\n",
       "        <td>Luigi Moreira</td>\n",
       "        <td>145.0</td>\n",
       "    </tr>\n",
       "    <tr>\n",
       "        <td>Luiza Alves</td>\n",
       "        <td>127.0</td>\n",
       "    </tr>\n",
       "    <tr>\n",
       "        <td>Marcos Vinicius Araújo</td>\n",
       "        <td>106.0</td>\n",
       "    </tr>\n",
       "    <tr>\n",
       "        <td>Maria Fernanda Silveira</td>\n",
       "        <td>181.0</td>\n",
       "    </tr>\n",
       "    <tr>\n",
       "        <td>Nina Lima</td>\n",
       "        <td>76.0</td>\n",
       "    </tr>\n",
       "    <tr>\n",
       "        <td>Otávio das Neves</td>\n",
       "        <td>110.0</td>\n",
       "    </tr>\n",
       "    <tr>\n",
       "        <td>Pedro Henrique Ferreira</td>\n",
       "        <td>105.0</td>\n",
       "    </tr>\n",
       "    <tr>\n",
       "        <td>Pedro Pinto</td>\n",
       "        <td>125.0</td>\n",
       "    </tr>\n",
       "    <tr>\n",
       "        <td>Sr. Breno da Cruz</td>\n",
       "        <td>82.0</td>\n",
       "    </tr>\n",
       "    <tr>\n",
       "        <td>Sr. João Melo</td>\n",
       "        <td>134.0</td>\n",
       "    </tr>\n",
       "    <tr>\n",
       "        <td>Srta. Sophie Pires</td>\n",
       "        <td>147.0</td>\n",
       "    </tr>\n",
       "    <tr>\n",
       "        <td>Vitor Hugo Moraes</td>\n",
       "        <td>105.0</td>\n",
       "    </tr>\n",
       "</table>"
      ],
      "text/plain": [
       "[('Alexia Pinto', 117.0),\n",
       " ('Antônio Fernandes', 99.0),\n",
       " ('Dr. João Gabriel Araújo', 144.0),\n",
       " ('Isaac Monteiro', 96.0),\n",
       " ('Joana Porto', 122.0),\n",
       " ('Letícia das Neves', 100.0),\n",
       " ('Lucca Vieira', 84.0),\n",
       " ('Luigi Cunha', 75.0),\n",
       " ('Luigi Moreira', 145.0),\n",
       " ('Luiza Alves', 127.0),\n",
       " ('Marcos Vinicius Araújo', 106.0),\n",
       " ('Maria Fernanda Silveira', 181.0),\n",
       " ('Nina Lima', 76.0),\n",
       " ('Otávio das Neves', 110.0),\n",
       " ('Pedro Henrique Ferreira', 105.0),\n",
       " ('Pedro Pinto', 125.0),\n",
       " ('Sr. Breno da Cruz', 82.0),\n",
       " ('Sr. João Melo', 134.0),\n",
       " ('Srta. Sophie Pires', 147.0),\n",
       " ('Vitor Hugo Moraes', 105.0)]"
      ]
     },
     "execution_count": 28,
     "metadata": {},
     "output_type": "execute_result"
    }
   ],
   "source": [
    "%%sql\n",
    "\n",
    "SELECT cl.nome, round(sum(po.preço)) as gasto\n",
    "FROM clientes cl \n",
    "JOIN compras AS co\n",
    "ON co.ID_CLIENTE = cl.ID\n",
    "JOIN produtos as po\n",
    "ON co.ID_PRODUTO = po.ID\n",
    "group by cl.nome\n"
   ]
  },
  {
   "cell_type": "markdown",
   "metadata": {},
   "source": [
    "# Order by\n",
    "\n",
    "Muitas vezes queremos os dados em ordem específicas, por exemplo, ao visitar uma\n",
    "loja online, você não espera ver produtos caros e desinteressantes sendo exibidos\n",
    "para você aleatoriamente, você espera ver em uma ordem lógica, sejam os mais\n",
    "baratos primeiros, os mais relevantes para o seu perfil, ou até alfabéticamente.\n",
    "\n",
    "\n",
    "Tudo isso pode ser feito utilizando o comando `ORDER BY`, mas misturado com\n",
    "outras operações como o `LIMIT` ele pode fazer coisas ainda melhores, como\n",
    "por exemplo, trazer os 10 produtos mais caros:"
   ]
  },
  {
   "cell_type": "code",
   "execution_count": 29,
   "metadata": {
    "ExecuteTime": {
     "end_time": "2022-01-06T17:27:08.840515Z",
     "start_time": "2022-01-06T17:27:08.833015Z"
    }
   },
   "outputs": [
    {
     "name": "stdout",
     "output_type": "stream",
     "text": [
      " * sqlite:///TesteSQL.db\n",
      "Done.\n"
     ]
    },
    {
     "data": {
      "text/html": [
       "<table>\n",
       "    <tr>\n",
       "        <th>produto</th>\n",
       "        <th>preço</th>\n",
       "    </tr>\n",
       "    <tr>\n",
       "        <td>prod 06</td>\n",
       "        <td>9.81</td>\n",
       "    </tr>\n",
       "    <tr>\n",
       "        <td>prod 72</td>\n",
       "        <td>9.7</td>\n",
       "    </tr>\n",
       "    <tr>\n",
       "        <td>prod 16</td>\n",
       "        <td>9.69</td>\n",
       "    </tr>\n",
       "    <tr>\n",
       "        <td>prod 64</td>\n",
       "        <td>9.68</td>\n",
       "    </tr>\n",
       "    <tr>\n",
       "        <td>prod 10</td>\n",
       "        <td>9.63</td>\n",
       "    </tr>\n",
       "    <tr>\n",
       "        <td>prod 01</td>\n",
       "        <td>9.53</td>\n",
       "    </tr>\n",
       "    <tr>\n",
       "        <td>prod 95</td>\n",
       "        <td>9.39</td>\n",
       "    </tr>\n",
       "    <tr>\n",
       "        <td>prod 58</td>\n",
       "        <td>8.94</td>\n",
       "    </tr>\n",
       "    <tr>\n",
       "        <td>prod 19</td>\n",
       "        <td>8.87</td>\n",
       "    </tr>\n",
       "    <tr>\n",
       "        <td>prod 55</td>\n",
       "        <td>8.66</td>\n",
       "    </tr>\n",
       "</table>"
      ],
      "text/plain": [
       "[('prod 06', 9.81),\n",
       " ('prod 72', 9.7),\n",
       " ('prod 16', 9.69),\n",
       " ('prod 64', 9.68),\n",
       " ('prod 10', 9.63),\n",
       " ('prod 01', 9.53),\n",
       " ('prod 95', 9.39),\n",
       " ('prod 58', 8.94),\n",
       " ('prod 19', 8.87),\n",
       " ('prod 55', 8.66)]"
      ]
     },
     "execution_count": 29,
     "metadata": {},
     "output_type": "execute_result"
    }
   ],
   "source": [
    "%%sql\n",
    "\n",
    "SELECT produto, preço\n",
    "FROM produtos\n",
    "ORDER BY preço DESC\n",
    "LIMIT 10"
   ]
  },
  {
   "cell_type": "markdown",
   "metadata": {},
   "source": [
    "Com isso podemos ver o poder do `ORDER BY` + `LIMIT` para trazer os N primeiros\n",
    "registros de uma determinada métrica\n",
    "\n",
    "## Exercício 8\n",
    "\n",
    "Traga os 10 clientes que mais gastaram"
   ]
  },
  {
   "cell_type": "code",
   "execution_count": 30,
   "metadata": {},
   "outputs": [
    {
     "name": "stdout",
     "output_type": "stream",
     "text": [
      " * sqlite:///TesteSQL.db\n",
      "Done.\n"
     ]
    },
    {
     "data": {
      "text/html": [
       "<table>\n",
       "    <tr>\n",
       "        <th>nome</th>\n",
       "    </tr>\n",
       "    <tr>\n",
       "        <td>Luigi Cunha</td>\n",
       "    </tr>\n",
       "    <tr>\n",
       "        <td>Nina Lima</td>\n",
       "    </tr>\n",
       "    <tr>\n",
       "        <td>Sr. Breno da Cruz</td>\n",
       "    </tr>\n",
       "    <tr>\n",
       "        <td>Lucca Vieira</td>\n",
       "    </tr>\n",
       "    <tr>\n",
       "        <td>Isaac Monteiro</td>\n",
       "    </tr>\n",
       "    <tr>\n",
       "        <td>Antônio Fernandes</td>\n",
       "    </tr>\n",
       "    <tr>\n",
       "        <td>Letícia das Neves</td>\n",
       "    </tr>\n",
       "    <tr>\n",
       "        <td>Pedro Henrique Ferreira</td>\n",
       "    </tr>\n",
       "    <tr>\n",
       "        <td>Vitor Hugo Moraes</td>\n",
       "    </tr>\n",
       "    <tr>\n",
       "        <td>Marcos Vinicius Araújo</td>\n",
       "    </tr>\n",
       "</table>"
      ],
      "text/plain": [
       "[('Luigi Cunha',),\n",
       " ('Nina Lima',),\n",
       " ('Sr. Breno da Cruz',),\n",
       " ('Lucca Vieira',),\n",
       " ('Isaac Monteiro',),\n",
       " ('Antônio Fernandes',),\n",
       " ('Letícia das Neves',),\n",
       " ('Pedro Henrique Ferreira',),\n",
       " ('Vitor Hugo Moraes',),\n",
       " ('Marcos Vinicius Araújo',)]"
      ]
     },
     "execution_count": 30,
     "metadata": {},
     "output_type": "execute_result"
    }
   ],
   "source": [
    "%%sql\n",
    "\n",
    "SELECT cl.nome\n",
    "FROM clientes cl \n",
    "JOIN compras AS co\n",
    "ON co.ID_CLIENTE = cl.ID\n",
    "JOIN produtos as po\n",
    "ON co.ID_PRODUTO = po.ID\n",
    "group by cl.nome\n",
    "order by sum(po.preço)\n",
    "LIMIT 10"
   ]
  },
  {
   "cell_type": "markdown",
   "metadata": {},
   "source": [
    "O order by junto do limit é extremamente importante para fazer paginação de dados,\n",
    "por exemplo, novamente ao acessar o site de compras, os produtos não são todos\n",
    "exibidos de uma vez para você, do contrário, a memória do seu computador iria\n",
    "para o espaço, para evitar isso, tem aqueles botões na parte de baixo para ver\n",
    "a próxima página, e com isso, você pode avançar e recuar.\n",
    "\n",
    "Digamos que um cliente viu os 10 produtos mais caros e não se interessou por\n",
    "nenhum e quer ver a próxima página, ele pode fazer:"
   ]
  },
  {
   "cell_type": "code",
   "execution_count": 31,
   "metadata": {
    "ExecuteTime": {
     "end_time": "2022-01-06T17:27:11.930768Z",
     "start_time": "2022-01-06T17:27:11.922766Z"
    }
   },
   "outputs": [
    {
     "name": "stdout",
     "output_type": "stream",
     "text": [
      " * sqlite:///TesteSQL.db\n",
      "Done.\n"
     ]
    },
    {
     "data": {
      "text/html": [
       "<table>\n",
       "    <tr>\n",
       "        <th>produto</th>\n",
       "        <th>preço</th>\n",
       "    </tr>\n",
       "    <tr>\n",
       "        <td>prod 77</td>\n",
       "        <td>8.48</td>\n",
       "    </tr>\n",
       "    <tr>\n",
       "        <td>prod 67</td>\n",
       "        <td>8.47</td>\n",
       "    </tr>\n",
       "    <tr>\n",
       "        <td>prod 96</td>\n",
       "        <td>8.39</td>\n",
       "    </tr>\n",
       "    <tr>\n",
       "        <td>prod 00</td>\n",
       "        <td>8.35</td>\n",
       "    </tr>\n",
       "    <tr>\n",
       "        <td>prod 57</td>\n",
       "        <td>8.22</td>\n",
       "    </tr>\n",
       "    <tr>\n",
       "        <td>prod 14</td>\n",
       "        <td>8.19</td>\n",
       "    </tr>\n",
       "    <tr>\n",
       "        <td>prod 94</td>\n",
       "        <td>8.19</td>\n",
       "    </tr>\n",
       "    <tr>\n",
       "        <td>prod 37</td>\n",
       "        <td>7.97</td>\n",
       "    </tr>\n",
       "    <tr>\n",
       "        <td>prod 13</td>\n",
       "        <td>7.87</td>\n",
       "    </tr>\n",
       "    <tr>\n",
       "        <td>prod 36</td>\n",
       "        <td>7.86</td>\n",
       "    </tr>\n",
       "</table>"
      ],
      "text/plain": [
       "[('prod 77', 8.48),\n",
       " ('prod 67', 8.47),\n",
       " ('prod 96', 8.39),\n",
       " ('prod 00', 8.35),\n",
       " ('prod 57', 8.22),\n",
       " ('prod 14', 8.19),\n",
       " ('prod 94', 8.19),\n",
       " ('prod 37', 7.97),\n",
       " ('prod 13', 7.87),\n",
       " ('prod 36', 7.86)]"
      ]
     },
     "execution_count": 31,
     "metadata": {},
     "output_type": "execute_result"
    }
   ],
   "source": [
    "%%sql\n",
    "\n",
    "SELECT produto, preço\n",
    "FROM produtos\n",
    "ORDER BY preço DESC\n",
    "LIMIT 10,10"
   ]
  },
  {
   "cell_type": "markdown",
   "metadata": {},
   "source": [
    "O primeiro 10, representa de onde começa e o segundo quantos registros vai trazer.\n",
    "Você pode mexer nos valores acima e testar a vontade para ver como muda.\n",
    "\n",
    "## Exercício 9\n",
    "\n",
    "Traga o 11º cliente que mais gastou"
   ]
  },
  {
   "cell_type": "code",
   "execution_count": 32,
   "metadata": {},
   "outputs": [
    {
     "name": "stdout",
     "output_type": "stream",
     "text": [
      " * sqlite:///TesteSQL.db\n",
      "Done.\n"
     ]
    },
    {
     "data": {
      "text/html": [
       "<table>\n",
       "    <tr>\n",
       "        <th>nome</th>\n",
       "    </tr>\n",
       "    <tr>\n",
       "        <td>Otávio das Neves</td>\n",
       "    </tr>\n",
       "</table>"
      ],
      "text/plain": [
       "[('Otávio das Neves',)]"
      ]
     },
     "execution_count": 32,
     "metadata": {},
     "output_type": "execute_result"
    }
   ],
   "source": [
    "%%sql\n",
    "\n",
    "SELECT cl.nome\n",
    "FROM clientes cl \n",
    "JOIN compras AS co\n",
    "ON co.ID_CLIENTE = cl.ID\n",
    "JOIN produtos as po\n",
    "ON co.ID_PRODUTO = po.ID\n",
    "group by cl.nome\n",
    "order by sum(po.preço)\n",
    "LIMIT 10,01"
   ]
  },
  {
   "cell_type": "markdown",
   "metadata": {},
   "source": [
    "# Funções janeladas\n",
    "\n",
    "As funções janeladas ou funções analíticas como também são conhecidas, são funções\n",
    "que se aplicam a todas a coluna trazendo métricas como qual posição essa pessoa está\n",
    "entre as que mais gastaram, ou quantas pessoas no mínimo foram necessárias para \n",
    "alcançar até 25% da receita total."
   ]
  },
  {
   "cell_type": "code",
   "execution_count": 33,
   "metadata": {
    "ExecuteTime": {
     "end_time": "2022-01-06T17:27:19.555015Z",
     "start_time": "2022-01-06T17:27:19.545026Z"
    }
   },
   "outputs": [
    {
     "name": "stdout",
     "output_type": "stream",
     "text": [
      " * sqlite:///TesteSQL.db\n",
      "Done.\n"
     ]
    },
    {
     "data": {
      "text/html": [
       "<table>\n",
       "    <tr>\n",
       "        <th>produto</th>\n",
       "        <th>preço</th>\n",
       "        <th>posição</th>\n",
       "    </tr>\n",
       "    <tr>\n",
       "        <td>prod 06</td>\n",
       "        <td>9.81</td>\n",
       "        <td>1</td>\n",
       "    </tr>\n",
       "    <tr>\n",
       "        <td>prod 72</td>\n",
       "        <td>9.7</td>\n",
       "        <td>2</td>\n",
       "    </tr>\n",
       "    <tr>\n",
       "        <td>prod 16</td>\n",
       "        <td>9.69</td>\n",
       "        <td>3</td>\n",
       "    </tr>\n",
       "    <tr>\n",
       "        <td>prod 64</td>\n",
       "        <td>9.68</td>\n",
       "        <td>4</td>\n",
       "    </tr>\n",
       "    <tr>\n",
       "        <td>prod 10</td>\n",
       "        <td>9.63</td>\n",
       "        <td>5</td>\n",
       "    </tr>\n",
       "    <tr>\n",
       "        <td>prod 01</td>\n",
       "        <td>9.53</td>\n",
       "        <td>6</td>\n",
       "    </tr>\n",
       "    <tr>\n",
       "        <td>prod 95</td>\n",
       "        <td>9.39</td>\n",
       "        <td>7</td>\n",
       "    </tr>\n",
       "    <tr>\n",
       "        <td>prod 58</td>\n",
       "        <td>8.94</td>\n",
       "        <td>8</td>\n",
       "    </tr>\n",
       "    <tr>\n",
       "        <td>prod 19</td>\n",
       "        <td>8.87</td>\n",
       "        <td>9</td>\n",
       "    </tr>\n",
       "    <tr>\n",
       "        <td>prod 55</td>\n",
       "        <td>8.66</td>\n",
       "        <td>10</td>\n",
       "    </tr>\n",
       "</table>"
      ],
      "text/plain": [
       "[('prod 06', 9.81, 1),\n",
       " ('prod 72', 9.7, 2),\n",
       " ('prod 16', 9.69, 3),\n",
       " ('prod 64', 9.68, 4),\n",
       " ('prod 10', 9.63, 5),\n",
       " ('prod 01', 9.53, 6),\n",
       " ('prod 95', 9.39, 7),\n",
       " ('prod 58', 8.94, 8),\n",
       " ('prod 19', 8.87, 9),\n",
       " ('prod 55', 8.66, 10)]"
      ]
     },
     "execution_count": 33,
     "metadata": {},
     "output_type": "execute_result"
    }
   ],
   "source": [
    "%%sql\n",
    "\n",
    "SELECT produto, preço, rank() over (order by preço desc) as posição\n",
    "FROM produtos\n",
    "order by posição\n",
    "limit 10"
   ]
  },
  {
   "cell_type": "markdown",
   "metadata": {},
   "source": [
    "Você pode usar as funções janeladas quando lhe for conveniente, mas não serão\n",
    "obrigatórias em nenhum exercício"
   ]
  },
  {
   "cell_type": "markdown",
   "metadata": {},
   "source": [
    "## Exercício 10\n",
    "\n",
    "Qual foi o produto que menos vendeu?"
   ]
  },
  {
   "cell_type": "code",
   "execution_count": 34,
   "metadata": {},
   "outputs": [
    {
     "name": "stdout",
     "output_type": "stream",
     "text": [
      " * sqlite:///TesteSQL.db\n",
      "Done.\n"
     ]
    },
    {
     "data": {
      "text/html": [
       "<table>\n",
       "    <tr>\n",
       "        <th>produto</th>\n",
       "        <th>menos_vendido</th>\n",
       "    </tr>\n",
       "    <tr>\n",
       "        <td>prod 07</td>\n",
       "        <td>1</td>\n",
       "    </tr>\n",
       "</table>"
      ],
      "text/plain": [
       "[('prod 07', 1)]"
      ]
     },
     "execution_count": 34,
     "metadata": {},
     "output_type": "execute_result"
    }
   ],
   "source": [
    "%%sql\n",
    "SELECT produto, rank() over (order by sum(po.preço) desc ) as menos_vendido\n",
    "FROM clientes cl \n",
    "JOIN compras AS co\n",
    "ON co.ID_CLIENTE = cl.ID\n",
    "JOIN produtos as po\n",
    "ON co.ID_PRODUTO = po.ID"
   ]
  },
  {
   "cell_type": "markdown",
   "metadata": {},
   "source": [
    "# Operadores lógicos comuns\n",
    "\n",
    "Alguns operadores lógicos bem famosos são o `=`, `>`, `<`, `>=`, `<=`, `!=`,\n",
    "mas existem outros menos comuns, como o `LIKE` e `IN`.\n",
    "\n",
    "O primeiro, serve para fazer pesquisas simples dentro de texto, ele irá verificar\n",
    "caracter a caracter se a string informada bate com o padrão, de forma mais prática\n",
    "\n",
    "```SQL\n",
    "'abc' LIKE 'abc' -- Verdadeiro\n",
    "\n",
    "'abcd' LIKE 'abc' -- Falso\n",
    "\n",
    "'cbc' LIKE 'abc' -- Falso\n",
    "\n",
    "'dabc' LIKE 'abc' -- Falso\n",
    "```\n",
    "\n",
    "Até aí é exatamente igual ao operador `=`, mas quando adicionamos os wildcards\n",
    "`%` e `_` que o `LIKE` mostra o seu valor.\n",
    "\n",
    "O wildcard `_` pode ser usado para representar qualquer caracter, por exemplo:\n",
    "\n",
    "```SQL\n",
    "'abc' LIKE 'ab_' -- Verdadeiro\n",
    "'abd' LIKE 'ab_' -- Verdadeiro\n",
    "'ab0' LIKE 'ab_' -- Verdadeiro\n",
    "'ab ' LIKE 'ab_' -- Verdadeiro\n",
    "'abcd' LIKE 'ab_' -- Falso\n",
    "'cbc' LIKE 'ab_' -- Falso\n",
    "'ab' LIKE 'ab_' -- Falso\n",
    "'dabc' LIKE 'ab_' -- Falso\n",
    "```\n",
    "\n",
    "Já o wildcard `%` pode ser usado para representar qualquer sequência de caracteres,\n",
    "por exemplo:\n",
    "\n",
    "```SQL\n",
    "'abc' LIKE 'ab%' -- Verdadeiro\n",
    "'abd' LIKE 'ab%' -- Verdadeiro\n",
    "'ab0' LIKE 'ab%' -- Verdadeiro\n",
    "'ab ' LIKE 'ab%' -- Verdadeiro\n",
    "'abcd' LIKE 'ab%' -- Verdadeiro\n",
    "'cbc' LIKE 'ab%' -- Falso\n",
    "'ab' LIKE 'ab%' -- Verdadeiro\n",
    "'dabc' LIKE 'ab%' -- Falso\n",
    "```\n",
    "\n",
    "Usando o nosso exemplo, vamos pegar todos os clientes que tenham e-mail uol:"
   ]
  },
  {
   "cell_type": "code",
   "execution_count": 35,
   "metadata": {
    "ExecuteTime": {
     "end_time": "2022-01-06T17:27:23.557231Z",
     "start_time": "2022-01-06T17:27:23.545734Z"
    }
   },
   "outputs": [
    {
     "name": "stdout",
     "output_type": "stream",
     "text": [
      " * sqlite:///TesteSQL.db\n",
      "Done.\n"
     ]
    },
    {
     "data": {
      "text/html": [
       "<table>\n",
       "    <tr>\n",
       "        <th>id</th>\n",
       "        <th>nome</th>\n",
       "        <th>email</th>\n",
       "        <th>idade</th>\n",
       "    </tr>\n",
       "    <tr>\n",
       "        <td>3</td>\n",
       "        <td>Pedro Henrique Ferreira</td>\n",
       "        <td>pedro93@uol.com.br</td>\n",
       "        <td>58</td>\n",
       "    </tr>\n",
       "    <tr>\n",
       "        <td>6</td>\n",
       "        <td>Lucca Vieira</td>\n",
       "        <td>giovanna58@uol.com.br</td>\n",
       "        <td>25</td>\n",
       "    </tr>\n",
       "    <tr>\n",
       "        <td>13</td>\n",
       "        <td>Luigi Cunha</td>\n",
       "        <td>alice99@uol.com.br</td>\n",
       "        <td>20</td>\n",
       "    </tr>\n",
       "    <tr>\n",
       "        <td>14</td>\n",
       "        <td>Joana Porto</td>\n",
       "        <td>anthonypeixoto@uol.com.br</td>\n",
       "        <td>18</td>\n",
       "    </tr>\n",
       "    <tr>\n",
       "        <td>16</td>\n",
       "        <td>Nina Lima</td>\n",
       "        <td>danilocarvalho@uol.com.br</td>\n",
       "        <td>52</td>\n",
       "    </tr>\n",
       "</table>"
      ],
      "text/plain": [
       "[(3, 'Pedro Henrique Ferreira', 'pedro93@uol.com.br', 58),\n",
       " (6, 'Lucca Vieira', 'giovanna58@uol.com.br', 25),\n",
       " (13, 'Luigi Cunha', 'alice99@uol.com.br', 20),\n",
       " (14, 'Joana Porto', 'anthonypeixoto@uol.com.br', 18),\n",
       " (16, 'Nina Lima', 'danilocarvalho@uol.com.br', 52)]"
      ]
     },
     "execution_count": 35,
     "metadata": {},
     "output_type": "execute_result"
    }
   ],
   "source": [
    "%%sql\n",
    "\n",
    "SELECT *\n",
    "FROM CLIENTES\n",
    "WHERE EMAIL LIKE '%@uol.com.br'"
   ]
  },
  {
   "cell_type": "markdown",
   "metadata": {},
   "source": [
    "Já o operador `IN` serve para verificar se o valor está dentro de um cojunto, por exemplo\n",
    "\n",
    "```SQL\n",
    "1 in (1, 2, 3) -- Verdadeiro\n",
    "2 in (1, 2, 3) -- Verdadeiro\n",
    "3 in (1, 2, 3) -- Verdadeiro\n",
    "4 in (1, 2, 3) -- Falso\n",
    "(1, 2) in ((1, 2), (3, 4)) -- Verdadeiro\n",
    "(1, 3) in ((1, 2), (3, 4)) -- Falso\n",
    "```"
   ]
  },
  {
   "cell_type": "code",
   "execution_count": 36,
   "metadata": {
    "ExecuteTime": {
     "end_time": "2022-01-06T17:27:28.991337Z",
     "start_time": "2022-01-06T17:27:28.983825Z"
    }
   },
   "outputs": [
    {
     "name": "stdout",
     "output_type": "stream",
     "text": [
      " * sqlite:///TesteSQL.db\n",
      "Done.\n"
     ]
    },
    {
     "data": {
      "text/html": [
       "<table>\n",
       "    <tr>\n",
       "        <th>id</th>\n",
       "        <th>produto</th>\n",
       "        <th>preço</th>\n",
       "    </tr>\n",
       "    <tr>\n",
       "        <td>1</td>\n",
       "        <td>prod 01</td>\n",
       "        <td>9.53</td>\n",
       "    </tr>\n",
       "    <tr>\n",
       "        <td>20</td>\n",
       "        <td>prod 20</td>\n",
       "        <td>1.94</td>\n",
       "    </tr>\n",
       "</table>"
      ],
      "text/plain": [
       "[(1, 'prod 01', 9.53), (20, 'prod 20', 1.94)]"
      ]
     },
     "execution_count": 36,
     "metadata": {},
     "output_type": "execute_result"
    }
   ],
   "source": [
    "%%sql\n",
    "\n",
    "SELECT *\n",
    "FROM PRODUTOS\n",
    "WHERE PRODUTO IN ('prod 01', 'prod 20', 'batata')"
   ]
  },
  {
   "cell_type": "markdown",
   "metadata": {},
   "source": [
    "# Subquerys\n",
    "\n",
    "Subquerys são utilizadas para fazer extrações mais complexas, quando para \n",
    "alcançar um resultado, é necessário outro resultado, digamos, listar todos os\n",
    "produtos comprados pelo cliente que mais gastou, primeiro precisamos encotrar o \n",
    "cliente que mais gastou e depois os produtos que ele comprou.\n",
    "\n",
    "Podemos separar isso em duas querys:\n",
    "\n",
    "1. Selecionar o cliente que mais gastou\n",
    "2. Selecionar todos os produtos que um cliente comprou\n",
    "\n",
    "E elas ficariam como:"
   ]
  },
  {
   "cell_type": "code",
   "execution_count": 37,
   "metadata": {
    "ExecuteTime": {
     "end_time": "2022-01-06T17:27:31.906521Z",
     "start_time": "2022-01-06T17:27:31.897987Z"
    }
   },
   "outputs": [
    {
     "name": "stdout",
     "output_type": "stream",
     "text": [
      " * sqlite:///TesteSQL.db\n",
      "Done.\n"
     ]
    },
    {
     "data": {
      "text/html": [
       "<table>\n",
       "    <tr>\n",
       "        <th>id</th>\n",
       "        <th>nome</th>\n",
       "        <th>GASTO</th>\n",
       "    </tr>\n",
       "    <tr>\n",
       "        <td>5</td>\n",
       "        <td>Maria Fernanda Silveira</td>\n",
       "        <td>181.44</td>\n",
       "    </tr>\n",
       "</table>"
      ],
      "text/plain": [
       "[(5, 'Maria Fernanda Silveira', 181.44)]"
      ]
     },
     "execution_count": 37,
     "metadata": {},
     "output_type": "execute_result"
    }
   ],
   "source": [
    "%%sql\n",
    "\n",
    "-- Selecionando o cliente que mais gastou\n",
    "\n",
    "SELECT cl2.ID, cl2.nome, sum(po2.preço) AS GASTO\n",
    "FROM clientes cl2\n",
    "JOIN compras AS co2\n",
    "ON co2.ID_CLIENTE = cl2.ID\n",
    "JOIN produtos as po2\n",
    "ON co2.ID_PRODUTO = po2.ID\n",
    "group by cl2.nome, cl2.id\n",
    "ORDER BY gasto DESC\n",
    "LIMIT 1"
   ]
  },
  {
   "cell_type": "code",
   "execution_count": 38,
   "metadata": {
    "ExecuteTime": {
     "end_time": "2022-01-06T17:27:34.648732Z",
     "start_time": "2022-01-06T17:27:34.639732Z"
    }
   },
   "outputs": [
    {
     "name": "stdout",
     "output_type": "stream",
     "text": [
      " * sqlite:///TesteSQL.db\n",
      "Done.\n"
     ]
    },
    {
     "data": {
      "text/html": [
       "<table>\n",
       "    <tr>\n",
       "        <th>produto</th>\n",
       "    </tr>\n",
       "    <tr>\n",
       "        <td>prod 10</td>\n",
       "    </tr>\n",
       "    <tr>\n",
       "        <td>prod 68</td>\n",
       "    </tr>\n",
       "    <tr>\n",
       "        <td>prod 72</td>\n",
       "    </tr>\n",
       "    <tr>\n",
       "        <td>prod 40</td>\n",
       "    </tr>\n",
       "    <tr>\n",
       "        <td>prod 47</td>\n",
       "    </tr>\n",
       "    <tr>\n",
       "        <td>prod 76</td>\n",
       "    </tr>\n",
       "    <tr>\n",
       "        <td>prod 59</td>\n",
       "    </tr>\n",
       "    <tr>\n",
       "        <td>prod 38</td>\n",
       "    </tr>\n",
       "    <tr>\n",
       "        <td>prod 29</td>\n",
       "    </tr>\n",
       "    <tr>\n",
       "        <td>prod 36</td>\n",
       "    </tr>\n",
       "    <tr>\n",
       "        <td>prod 80</td>\n",
       "    </tr>\n",
       "    <tr>\n",
       "        <td>prod 81</td>\n",
       "    </tr>\n",
       "    <tr>\n",
       "        <td>prod 27</td>\n",
       "    </tr>\n",
       "    <tr>\n",
       "        <td>prod 74</td>\n",
       "    </tr>\n",
       "    <tr>\n",
       "        <td>prod 54</td>\n",
       "    </tr>\n",
       "    <tr>\n",
       "        <td>prod 73</td>\n",
       "    </tr>\n",
       "    <tr>\n",
       "        <td>prod 03</td>\n",
       "    </tr>\n",
       "    <tr>\n",
       "        <td>prod 77</td>\n",
       "    </tr>\n",
       "    <tr>\n",
       "        <td>prod 52</td>\n",
       "    </tr>\n",
       "    <tr>\n",
       "        <td>prod 46</td>\n",
       "    </tr>\n",
       "    <tr>\n",
       "        <td>prod 84</td>\n",
       "    </tr>\n",
       "    <tr>\n",
       "        <td>prod 92</td>\n",
       "    </tr>\n",
       "    <tr>\n",
       "        <td>prod 96</td>\n",
       "    </tr>\n",
       "    <tr>\n",
       "        <td>prod 48</td>\n",
       "    </tr>\n",
       "    <tr>\n",
       "        <td>prod 08</td>\n",
       "    </tr>\n",
       "    <tr>\n",
       "        <td>prod 93</td>\n",
       "    </tr>\n",
       "    <tr>\n",
       "        <td>prod 71</td>\n",
       "    </tr>\n",
       "    <tr>\n",
       "        <td>prod 32</td>\n",
       "    </tr>\n",
       "    <tr>\n",
       "        <td>prod 62</td>\n",
       "    </tr>\n",
       "</table>"
      ],
      "text/plain": [
       "[('prod 10',),\n",
       " ('prod 68',),\n",
       " ('prod 72',),\n",
       " ('prod 40',),\n",
       " ('prod 47',),\n",
       " ('prod 76',),\n",
       " ('prod 59',),\n",
       " ('prod 38',),\n",
       " ('prod 29',),\n",
       " ('prod 36',),\n",
       " ('prod 80',),\n",
       " ('prod 81',),\n",
       " ('prod 27',),\n",
       " ('prod 74',),\n",
       " ('prod 54',),\n",
       " ('prod 73',),\n",
       " ('prod 03',),\n",
       " ('prod 77',),\n",
       " ('prod 52',),\n",
       " ('prod 46',),\n",
       " ('prod 84',),\n",
       " ('prod 92',),\n",
       " ('prod 96',),\n",
       " ('prod 48',),\n",
       " ('prod 08',),\n",
       " ('prod 93',),\n",
       " ('prod 71',),\n",
       " ('prod 32',),\n",
       " ('prod 62',)]"
      ]
     },
     "execution_count": 38,
     "metadata": {},
     "output_type": "execute_result"
    }
   ],
   "source": [
    "%%sql\n",
    "\n",
    "-- Selecionar todos os produtos que umm cliente comprou\n",
    "\n",
    "SELECT DISTINCT po.produto\n",
    "FROM produtos as po\n",
    "JOIN compras AS co\n",
    "ON co.ID_PRODUTO = po.ID\n",
    "WHERE co.ID_CLIENTE IN (5)"
   ]
  },
  {
   "cell_type": "code",
   "execution_count": 39,
   "metadata": {
    "ExecuteTime": {
     "end_time": "2022-01-06T17:27:37.602522Z",
     "start_time": "2022-01-06T17:27:37.591522Z"
    }
   },
   "outputs": [
    {
     "name": "stdout",
     "output_type": "stream",
     "text": [
      " * sqlite:///TesteSQL.db\n",
      "Done.\n"
     ]
    },
    {
     "data": {
      "text/html": [
       "<table>\n",
       "    <tr>\n",
       "        <th>produto</th>\n",
       "    </tr>\n",
       "    <tr>\n",
       "        <td>prod 10</td>\n",
       "    </tr>\n",
       "    <tr>\n",
       "        <td>prod 68</td>\n",
       "    </tr>\n",
       "    <tr>\n",
       "        <td>prod 72</td>\n",
       "    </tr>\n",
       "    <tr>\n",
       "        <td>prod 40</td>\n",
       "    </tr>\n",
       "    <tr>\n",
       "        <td>prod 47</td>\n",
       "    </tr>\n",
       "    <tr>\n",
       "        <td>prod 76</td>\n",
       "    </tr>\n",
       "    <tr>\n",
       "        <td>prod 59</td>\n",
       "    </tr>\n",
       "    <tr>\n",
       "        <td>prod 38</td>\n",
       "    </tr>\n",
       "    <tr>\n",
       "        <td>prod 29</td>\n",
       "    </tr>\n",
       "    <tr>\n",
       "        <td>prod 36</td>\n",
       "    </tr>\n",
       "    <tr>\n",
       "        <td>prod 80</td>\n",
       "    </tr>\n",
       "    <tr>\n",
       "        <td>prod 81</td>\n",
       "    </tr>\n",
       "    <tr>\n",
       "        <td>prod 27</td>\n",
       "    </tr>\n",
       "    <tr>\n",
       "        <td>prod 74</td>\n",
       "    </tr>\n",
       "    <tr>\n",
       "        <td>prod 54</td>\n",
       "    </tr>\n",
       "    <tr>\n",
       "        <td>prod 73</td>\n",
       "    </tr>\n",
       "    <tr>\n",
       "        <td>prod 03</td>\n",
       "    </tr>\n",
       "    <tr>\n",
       "        <td>prod 77</td>\n",
       "    </tr>\n",
       "    <tr>\n",
       "        <td>prod 52</td>\n",
       "    </tr>\n",
       "    <tr>\n",
       "        <td>prod 46</td>\n",
       "    </tr>\n",
       "    <tr>\n",
       "        <td>prod 84</td>\n",
       "    </tr>\n",
       "    <tr>\n",
       "        <td>prod 92</td>\n",
       "    </tr>\n",
       "    <tr>\n",
       "        <td>prod 96</td>\n",
       "    </tr>\n",
       "    <tr>\n",
       "        <td>prod 48</td>\n",
       "    </tr>\n",
       "    <tr>\n",
       "        <td>prod 08</td>\n",
       "    </tr>\n",
       "    <tr>\n",
       "        <td>prod 93</td>\n",
       "    </tr>\n",
       "    <tr>\n",
       "        <td>prod 71</td>\n",
       "    </tr>\n",
       "    <tr>\n",
       "        <td>prod 32</td>\n",
       "    </tr>\n",
       "    <tr>\n",
       "        <td>prod 62</td>\n",
       "    </tr>\n",
       "</table>"
      ],
      "text/plain": [
       "[('prod 10',),\n",
       " ('prod 68',),\n",
       " ('prod 72',),\n",
       " ('prod 40',),\n",
       " ('prod 47',),\n",
       " ('prod 76',),\n",
       " ('prod 59',),\n",
       " ('prod 38',),\n",
       " ('prod 29',),\n",
       " ('prod 36',),\n",
       " ('prod 80',),\n",
       " ('prod 81',),\n",
       " ('prod 27',),\n",
       " ('prod 74',),\n",
       " ('prod 54',),\n",
       " ('prod 73',),\n",
       " ('prod 03',),\n",
       " ('prod 77',),\n",
       " ('prod 52',),\n",
       " ('prod 46',),\n",
       " ('prod 84',),\n",
       " ('prod 92',),\n",
       " ('prod 96',),\n",
       " ('prod 48',),\n",
       " ('prod 08',),\n",
       " ('prod 93',),\n",
       " ('prod 71',),\n",
       " ('prod 32',),\n",
       " ('prod 62',)]"
      ]
     },
     "execution_count": 39,
     "metadata": {},
     "output_type": "execute_result"
    }
   ],
   "source": [
    "%%sql\n",
    "\n",
    "-- Juntando as duas:\n",
    "    \n",
    "SELECT DISTINCT po.produto\n",
    "FROM produtos as po\n",
    "JOIN compras AS co\n",
    "ON co.ID_PRODUTO = po.ID\n",
    "WHERE co.ID_CLIENTE IN (\n",
    "    SELECT cl2.ID\n",
    "    FROM clientes cl2\n",
    "    JOIN compras AS co2\n",
    "    ON co2.ID_CLIENTE = cl2.ID\n",
    "    JOIN produtos as po2\n",
    "    ON co2.ID_PRODUTO = po2.ID\n",
    "    group by cl2.nome, cl2.id\n",
    "    ORDER BY sum(po2.preço) DESC\n",
    "    LIMIT 1\n",
    ")"
   ]
  },
  {
   "cell_type": "markdown",
   "metadata": {},
   "source": [
    "Se eu quisesse exibir o nome do cliente, eu poderia fazer mais um join pegando\n",
    "o nome dele na tabela cliente, mas nesse caso, eu estou pegando um dado que eu\n",
    "consigo facilmente na subquery, existem formas de trazer dados lá de dentro,\n",
    "como por  exemplo:"
   ]
  },
  {
   "cell_type": "code",
   "execution_count": 40,
   "metadata": {
    "ExecuteTime": {
     "end_time": "2022-01-06T17:27:40.338485Z",
     "start_time": "2022-01-06T17:27:40.326947Z"
    }
   },
   "outputs": [
    {
     "name": "stdout",
     "output_type": "stream",
     "text": [
      " * sqlite:///TesteSQL.db\n",
      "Done.\n"
     ]
    },
    {
     "data": {
      "text/html": [
       "<table>\n",
       "    <tr>\n",
       "        <th>nome</th>\n",
       "        <th>produto</th>\n",
       "    </tr>\n",
       "    <tr>\n",
       "        <td>Maria Fernanda Silveira</td>\n",
       "        <td>prod 03</td>\n",
       "    </tr>\n",
       "    <tr>\n",
       "        <td>Maria Fernanda Silveira</td>\n",
       "        <td>prod 08</td>\n",
       "    </tr>\n",
       "    <tr>\n",
       "        <td>Maria Fernanda Silveira</td>\n",
       "        <td>prod 10</td>\n",
       "    </tr>\n",
       "    <tr>\n",
       "        <td>Maria Fernanda Silveira</td>\n",
       "        <td>prod 27</td>\n",
       "    </tr>\n",
       "    <tr>\n",
       "        <td>Maria Fernanda Silveira</td>\n",
       "        <td>prod 29</td>\n",
       "    </tr>\n",
       "    <tr>\n",
       "        <td>Maria Fernanda Silveira</td>\n",
       "        <td>prod 32</td>\n",
       "    </tr>\n",
       "    <tr>\n",
       "        <td>Maria Fernanda Silveira</td>\n",
       "        <td>prod 36</td>\n",
       "    </tr>\n",
       "    <tr>\n",
       "        <td>Maria Fernanda Silveira</td>\n",
       "        <td>prod 38</td>\n",
       "    </tr>\n",
       "    <tr>\n",
       "        <td>Maria Fernanda Silveira</td>\n",
       "        <td>prod 40</td>\n",
       "    </tr>\n",
       "    <tr>\n",
       "        <td>Maria Fernanda Silveira</td>\n",
       "        <td>prod 46</td>\n",
       "    </tr>\n",
       "    <tr>\n",
       "        <td>Maria Fernanda Silveira</td>\n",
       "        <td>prod 47</td>\n",
       "    </tr>\n",
       "    <tr>\n",
       "        <td>Maria Fernanda Silveira</td>\n",
       "        <td>prod 48</td>\n",
       "    </tr>\n",
       "    <tr>\n",
       "        <td>Maria Fernanda Silveira</td>\n",
       "        <td>prod 52</td>\n",
       "    </tr>\n",
       "    <tr>\n",
       "        <td>Maria Fernanda Silveira</td>\n",
       "        <td>prod 54</td>\n",
       "    </tr>\n",
       "    <tr>\n",
       "        <td>Maria Fernanda Silveira</td>\n",
       "        <td>prod 59</td>\n",
       "    </tr>\n",
       "    <tr>\n",
       "        <td>Maria Fernanda Silveira</td>\n",
       "        <td>prod 62</td>\n",
       "    </tr>\n",
       "    <tr>\n",
       "        <td>Maria Fernanda Silveira</td>\n",
       "        <td>prod 68</td>\n",
       "    </tr>\n",
       "    <tr>\n",
       "        <td>Maria Fernanda Silveira</td>\n",
       "        <td>prod 71</td>\n",
       "    </tr>\n",
       "    <tr>\n",
       "        <td>Maria Fernanda Silveira</td>\n",
       "        <td>prod 72</td>\n",
       "    </tr>\n",
       "    <tr>\n",
       "        <td>Maria Fernanda Silveira</td>\n",
       "        <td>prod 73</td>\n",
       "    </tr>\n",
       "    <tr>\n",
       "        <td>Maria Fernanda Silveira</td>\n",
       "        <td>prod 74</td>\n",
       "    </tr>\n",
       "    <tr>\n",
       "        <td>Maria Fernanda Silveira</td>\n",
       "        <td>prod 76</td>\n",
       "    </tr>\n",
       "    <tr>\n",
       "        <td>Maria Fernanda Silveira</td>\n",
       "        <td>prod 77</td>\n",
       "    </tr>\n",
       "    <tr>\n",
       "        <td>Maria Fernanda Silveira</td>\n",
       "        <td>prod 80</td>\n",
       "    </tr>\n",
       "    <tr>\n",
       "        <td>Maria Fernanda Silveira</td>\n",
       "        <td>prod 81</td>\n",
       "    </tr>\n",
       "    <tr>\n",
       "        <td>Maria Fernanda Silveira</td>\n",
       "        <td>prod 84</td>\n",
       "    </tr>\n",
       "    <tr>\n",
       "        <td>Maria Fernanda Silveira</td>\n",
       "        <td>prod 92</td>\n",
       "    </tr>\n",
       "    <tr>\n",
       "        <td>Maria Fernanda Silveira</td>\n",
       "        <td>prod 93</td>\n",
       "    </tr>\n",
       "    <tr>\n",
       "        <td>Maria Fernanda Silveira</td>\n",
       "        <td>prod 96</td>\n",
       "    </tr>\n",
       "</table>"
      ],
      "text/plain": [
       "[('Maria Fernanda Silveira', 'prod 03'),\n",
       " ('Maria Fernanda Silveira', 'prod 08'),\n",
       " ('Maria Fernanda Silveira', 'prod 10'),\n",
       " ('Maria Fernanda Silveira', 'prod 27'),\n",
       " ('Maria Fernanda Silveira', 'prod 29'),\n",
       " ('Maria Fernanda Silveira', 'prod 32'),\n",
       " ('Maria Fernanda Silveira', 'prod 36'),\n",
       " ('Maria Fernanda Silveira', 'prod 38'),\n",
       " ('Maria Fernanda Silveira', 'prod 40'),\n",
       " ('Maria Fernanda Silveira', 'prod 46'),\n",
       " ('Maria Fernanda Silveira', 'prod 47'),\n",
       " ('Maria Fernanda Silveira', 'prod 48'),\n",
       " ('Maria Fernanda Silveira', 'prod 52'),\n",
       " ('Maria Fernanda Silveira', 'prod 54'),\n",
       " ('Maria Fernanda Silveira', 'prod 59'),\n",
       " ('Maria Fernanda Silveira', 'prod 62'),\n",
       " ('Maria Fernanda Silveira', 'prod 68'),\n",
       " ('Maria Fernanda Silveira', 'prod 71'),\n",
       " ('Maria Fernanda Silveira', 'prod 72'),\n",
       " ('Maria Fernanda Silveira', 'prod 73'),\n",
       " ('Maria Fernanda Silveira', 'prod 74'),\n",
       " ('Maria Fernanda Silveira', 'prod 76'),\n",
       " ('Maria Fernanda Silveira', 'prod 77'),\n",
       " ('Maria Fernanda Silveira', 'prod 80'),\n",
       " ('Maria Fernanda Silveira', 'prod 81'),\n",
       " ('Maria Fernanda Silveira', 'prod 84'),\n",
       " ('Maria Fernanda Silveira', 'prod 92'),\n",
       " ('Maria Fernanda Silveira', 'prod 93'),\n",
       " ('Maria Fernanda Silveira', 'prod 96')]"
      ]
     },
     "execution_count": 40,
     "metadata": {},
     "output_type": "execute_result"
    }
   ],
   "source": [
    "%%sql\n",
    "\n",
    "    \n",
    "SELECT tb.nome, po.produto\n",
    "FROM produtos as po\n",
    "JOIN compras AS co\n",
    "ON co.ID_PRODUTO = po.ID\n",
    "join (\n",
    "    SELECT cl2.ID, cl2.nome\n",
    "    FROM clientes cl2\n",
    "    JOIN compras AS co2\n",
    "    ON co2.ID_CLIENTE = cl2.ID\n",
    "    JOIN produtos as po2\n",
    "    ON co2.ID_PRODUTO = po2.ID\n",
    "    group by cl2.nome, cl2.id\n",
    "    ORDER BY sum(po2.preço) DESC\n",
    "    LIMIT 1\n",
    ") tb on co.ID_CLIENTE = tb.ID\n",
    "group by tb.nome, po.produto"
   ]
  },
  {
   "cell_type": "markdown",
   "metadata": {},
   "source": [
    "Não existe limite de quantidade de subquerys que você pode fazer, sejam uma duas\n",
    "ou várias, fazendo uma verdadeira boneca russa, mas use com atenção, verifique\n",
    "sempre se realmente é necessário.\n",
    "\n",
    "Se por exemplo, eu quisesse saber quantos clientes compraram os mesmos\n",
    "produtos que a pessoa que mais gastou comprou\n",
    "\n",
    "\n",
    "1. Selecionar o cliente que mais gastou\n",
    "2. Selecionar todos os produtos que um cliente comprou\n",
    "3. Contar quantos clientes compraram um produto\n",
    "\n",
    "Como a query 1 e 2 já são antigas, vou fazer a 3"
   ]
  },
  {
   "cell_type": "code",
   "execution_count": 41,
   "metadata": {
    "ExecuteTime": {
     "end_time": "2022-01-06T17:27:45.770154Z",
     "start_time": "2022-01-06T17:27:45.760618Z"
    }
   },
   "outputs": [
    {
     "name": "stdout",
     "output_type": "stream",
     "text": [
      " * sqlite:///TesteSQL.db\n",
      "Done.\n"
     ]
    },
    {
     "data": {
      "text/html": [
       "<table>\n",
       "    <tr>\n",
       "        <th>produto</th>\n",
       "        <th>count(DISTINCT co.ID_CLIENTE)</th>\n",
       "    </tr>\n",
       "    <tr>\n",
       "        <td>prod 05</td>\n",
       "        <td>3</td>\n",
       "    </tr>\n",
       "</table>"
      ],
      "text/plain": [
       "[('prod 05', 3)]"
      ]
     },
     "execution_count": 41,
     "metadata": {},
     "output_type": "execute_result"
    }
   ],
   "source": [
    "%%sql\n",
    "\n",
    "-- Contar quantos clientes compraram um produto\n",
    "\n",
    "SELECT po.produto, count(DISTINCT co.ID_CLIENTE)\n",
    "FROM compras co\n",
    "JOIN produtos po on po.ID = co.ID_PRODUTO\n",
    "WHERE co.ID_PRODUTO IN (5)\n",
    "GROUP by po.produto"
   ]
  },
  {
   "cell_type": "code",
   "execution_count": 42,
   "metadata": {
    "ExecuteTime": {
     "end_time": "2022-01-06T17:27:48.364497Z",
     "start_time": "2022-01-06T17:27:48.351998Z"
    }
   },
   "outputs": [
    {
     "name": "stdout",
     "output_type": "stream",
     "text": [
      " * sqlite:///TesteSQL.db\n",
      "Done.\n"
     ]
    },
    {
     "data": {
      "text/html": [
       "<table>\n",
       "    <tr>\n",
       "        <th>produto</th>\n",
       "        <th>count(DISTINCT co.ID_CLIENTE)</th>\n",
       "    </tr>\n",
       "    <tr>\n",
       "        <td>prod 03</td>\n",
       "        <td>3</td>\n",
       "    </tr>\n",
       "    <tr>\n",
       "        <td>prod 08</td>\n",
       "        <td>6</td>\n",
       "    </tr>\n",
       "    <tr>\n",
       "        <td>prod 10</td>\n",
       "        <td>5</td>\n",
       "    </tr>\n",
       "    <tr>\n",
       "        <td>prod 27</td>\n",
       "        <td>4</td>\n",
       "    </tr>\n",
       "    <tr>\n",
       "        <td>prod 29</td>\n",
       "        <td>5</td>\n",
       "    </tr>\n",
       "    <tr>\n",
       "        <td>prod 32</td>\n",
       "        <td>7</td>\n",
       "    </tr>\n",
       "    <tr>\n",
       "        <td>prod 36</td>\n",
       "        <td>8</td>\n",
       "    </tr>\n",
       "    <tr>\n",
       "        <td>prod 38</td>\n",
       "        <td>5</td>\n",
       "    </tr>\n",
       "    <tr>\n",
       "        <td>prod 40</td>\n",
       "        <td>7</td>\n",
       "    </tr>\n",
       "    <tr>\n",
       "        <td>prod 46</td>\n",
       "        <td>8</td>\n",
       "    </tr>\n",
       "    <tr>\n",
       "        <td>prod 47</td>\n",
       "        <td>3</td>\n",
       "    </tr>\n",
       "    <tr>\n",
       "        <td>prod 48</td>\n",
       "        <td>4</td>\n",
       "    </tr>\n",
       "    <tr>\n",
       "        <td>prod 52</td>\n",
       "        <td>4</td>\n",
       "    </tr>\n",
       "    <tr>\n",
       "        <td>prod 54</td>\n",
       "        <td>2</td>\n",
       "    </tr>\n",
       "    <tr>\n",
       "        <td>prod 59</td>\n",
       "        <td>4</td>\n",
       "    </tr>\n",
       "    <tr>\n",
       "        <td>prod 62</td>\n",
       "        <td>7</td>\n",
       "    </tr>\n",
       "    <tr>\n",
       "        <td>prod 68</td>\n",
       "        <td>2</td>\n",
       "    </tr>\n",
       "    <tr>\n",
       "        <td>prod 71</td>\n",
       "        <td>3</td>\n",
       "    </tr>\n",
       "    <tr>\n",
       "        <td>prod 72</td>\n",
       "        <td>4</td>\n",
       "    </tr>\n",
       "    <tr>\n",
       "        <td>prod 73</td>\n",
       "        <td>5</td>\n",
       "    </tr>\n",
       "    <tr>\n",
       "        <td>prod 74</td>\n",
       "        <td>7</td>\n",
       "    </tr>\n",
       "    <tr>\n",
       "        <td>prod 76</td>\n",
       "        <td>3</td>\n",
       "    </tr>\n",
       "    <tr>\n",
       "        <td>prod 77</td>\n",
       "        <td>4</td>\n",
       "    </tr>\n",
       "    <tr>\n",
       "        <td>prod 80</td>\n",
       "        <td>7</td>\n",
       "    </tr>\n",
       "    <tr>\n",
       "        <td>prod 81</td>\n",
       "        <td>4</td>\n",
       "    </tr>\n",
       "    <tr>\n",
       "        <td>prod 84</td>\n",
       "        <td>3</td>\n",
       "    </tr>\n",
       "    <tr>\n",
       "        <td>prod 92</td>\n",
       "        <td>6</td>\n",
       "    </tr>\n",
       "    <tr>\n",
       "        <td>prod 93</td>\n",
       "        <td>5</td>\n",
       "    </tr>\n",
       "    <tr>\n",
       "        <td>prod 96</td>\n",
       "        <td>5</td>\n",
       "    </tr>\n",
       "</table>"
      ],
      "text/plain": [
       "[('prod 03', 3),\n",
       " ('prod 08', 6),\n",
       " ('prod 10', 5),\n",
       " ('prod 27', 4),\n",
       " ('prod 29', 5),\n",
       " ('prod 32', 7),\n",
       " ('prod 36', 8),\n",
       " ('prod 38', 5),\n",
       " ('prod 40', 7),\n",
       " ('prod 46', 8),\n",
       " ('prod 47', 3),\n",
       " ('prod 48', 4),\n",
       " ('prod 52', 4),\n",
       " ('prod 54', 2),\n",
       " ('prod 59', 4),\n",
       " ('prod 62', 7),\n",
       " ('prod 68', 2),\n",
       " ('prod 71', 3),\n",
       " ('prod 72', 4),\n",
       " ('prod 73', 5),\n",
       " ('prod 74', 7),\n",
       " ('prod 76', 3),\n",
       " ('prod 77', 4),\n",
       " ('prod 80', 7),\n",
       " ('prod 81', 4),\n",
       " ('prod 84', 3),\n",
       " ('prod 92', 6),\n",
       " ('prod 93', 5),\n",
       " ('prod 96', 5)]"
      ]
     },
     "execution_count": 42,
     "metadata": {},
     "output_type": "execute_result"
    }
   ],
   "source": [
    "%%sql\n",
    "\n",
    "SELECT po.produto, count(DISTINCT co.ID_CLIENTE)\n",
    "FROM compras co\n",
    "JOIN produtos po on po.ID = co.ID_PRODUTO\n",
    "WHERE co.ID_PRODUTO IN (\n",
    "    SELECT DISTINCT po2.id\n",
    "    FROM produtos as po2\n",
    "    JOIN compras AS co2\n",
    "    ON co2.ID_PRODUTO = po2.ID\n",
    "    WHERE co2.ID_CLIENTE IN (\n",
    "        SELECT cl3.ID\n",
    "        FROM clientes cl3\n",
    "        JOIN compras AS co3\n",
    "        ON co3.ID_CLIENTE = cl3.ID\n",
    "        JOIN produtos as po3\n",
    "        ON co3.ID_PRODUTO = po3.ID\n",
    "        group by cl3.nome, cl3.id\n",
    "        ORDER BY sum(po3.preço) DESC\n",
    "        LIMIT 1\n",
    "    )\n",
    ")\n",
    "GROUP by po.produto"
   ]
  },
  {
   "cell_type": "markdown",
   "metadata": {},
   "source": [
    "Mas novamente podemos simplificar usando join ao invés de where, lembre-se,\n",
    "quanto menos vezes você repetir o nome de uma tabela, melhor"
   ]
  },
  {
   "cell_type": "code",
   "execution_count": 43,
   "metadata": {
    "ExecuteTime": {
     "end_time": "2022-01-06T17:27:54.086655Z",
     "start_time": "2022-01-06T17:27:54.071655Z"
    }
   },
   "outputs": [
    {
     "name": "stdout",
     "output_type": "stream",
     "text": [
      " * sqlite:///TesteSQL.db\n",
      "Done.\n"
     ]
    },
    {
     "data": {
      "text/html": [
       "<table>\n",
       "    <tr>\n",
       "        <th>produto</th>\n",
       "        <th>count(DISTINCT co.ID_CLIENTE)</th>\n",
       "    </tr>\n",
       "    <tr>\n",
       "        <td>prod 03</td>\n",
       "        <td>3</td>\n",
       "    </tr>\n",
       "    <tr>\n",
       "        <td>prod 08</td>\n",
       "        <td>6</td>\n",
       "    </tr>\n",
       "    <tr>\n",
       "        <td>prod 10</td>\n",
       "        <td>5</td>\n",
       "    </tr>\n",
       "    <tr>\n",
       "        <td>prod 27</td>\n",
       "        <td>4</td>\n",
       "    </tr>\n",
       "    <tr>\n",
       "        <td>prod 29</td>\n",
       "        <td>5</td>\n",
       "    </tr>\n",
       "    <tr>\n",
       "        <td>prod 32</td>\n",
       "        <td>7</td>\n",
       "    </tr>\n",
       "    <tr>\n",
       "        <td>prod 36</td>\n",
       "        <td>8</td>\n",
       "    </tr>\n",
       "    <tr>\n",
       "        <td>prod 38</td>\n",
       "        <td>5</td>\n",
       "    </tr>\n",
       "    <tr>\n",
       "        <td>prod 40</td>\n",
       "        <td>7</td>\n",
       "    </tr>\n",
       "    <tr>\n",
       "        <td>prod 46</td>\n",
       "        <td>8</td>\n",
       "    </tr>\n",
       "    <tr>\n",
       "        <td>prod 47</td>\n",
       "        <td>3</td>\n",
       "    </tr>\n",
       "    <tr>\n",
       "        <td>prod 48</td>\n",
       "        <td>4</td>\n",
       "    </tr>\n",
       "    <tr>\n",
       "        <td>prod 52</td>\n",
       "        <td>4</td>\n",
       "    </tr>\n",
       "    <tr>\n",
       "        <td>prod 54</td>\n",
       "        <td>2</td>\n",
       "    </tr>\n",
       "    <tr>\n",
       "        <td>prod 59</td>\n",
       "        <td>4</td>\n",
       "    </tr>\n",
       "    <tr>\n",
       "        <td>prod 62</td>\n",
       "        <td>7</td>\n",
       "    </tr>\n",
       "    <tr>\n",
       "        <td>prod 68</td>\n",
       "        <td>2</td>\n",
       "    </tr>\n",
       "    <tr>\n",
       "        <td>prod 71</td>\n",
       "        <td>3</td>\n",
       "    </tr>\n",
       "    <tr>\n",
       "        <td>prod 72</td>\n",
       "        <td>4</td>\n",
       "    </tr>\n",
       "    <tr>\n",
       "        <td>prod 73</td>\n",
       "        <td>5</td>\n",
       "    </tr>\n",
       "    <tr>\n",
       "        <td>prod 74</td>\n",
       "        <td>7</td>\n",
       "    </tr>\n",
       "    <tr>\n",
       "        <td>prod 76</td>\n",
       "        <td>3</td>\n",
       "    </tr>\n",
       "    <tr>\n",
       "        <td>prod 77</td>\n",
       "        <td>4</td>\n",
       "    </tr>\n",
       "    <tr>\n",
       "        <td>prod 80</td>\n",
       "        <td>7</td>\n",
       "    </tr>\n",
       "    <tr>\n",
       "        <td>prod 81</td>\n",
       "        <td>4</td>\n",
       "    </tr>\n",
       "    <tr>\n",
       "        <td>prod 84</td>\n",
       "        <td>3</td>\n",
       "    </tr>\n",
       "    <tr>\n",
       "        <td>prod 92</td>\n",
       "        <td>6</td>\n",
       "    </tr>\n",
       "    <tr>\n",
       "        <td>prod 93</td>\n",
       "        <td>5</td>\n",
       "    </tr>\n",
       "    <tr>\n",
       "        <td>prod 96</td>\n",
       "        <td>5</td>\n",
       "    </tr>\n",
       "</table>"
      ],
      "text/plain": [
       "[('prod 03', 3),\n",
       " ('prod 08', 6),\n",
       " ('prod 10', 5),\n",
       " ('prod 27', 4),\n",
       " ('prod 29', 5),\n",
       " ('prod 32', 7),\n",
       " ('prod 36', 8),\n",
       " ('prod 38', 5),\n",
       " ('prod 40', 7),\n",
       " ('prod 46', 8),\n",
       " ('prod 47', 3),\n",
       " ('prod 48', 4),\n",
       " ('prod 52', 4),\n",
       " ('prod 54', 2),\n",
       " ('prod 59', 4),\n",
       " ('prod 62', 7),\n",
       " ('prod 68', 2),\n",
       " ('prod 71', 3),\n",
       " ('prod 72', 4),\n",
       " ('prod 73', 5),\n",
       " ('prod 74', 7),\n",
       " ('prod 76', 3),\n",
       " ('prod 77', 4),\n",
       " ('prod 80', 7),\n",
       " ('prod 81', 4),\n",
       " ('prod 84', 3),\n",
       " ('prod 92', 6),\n",
       " ('prod 93', 5),\n",
       " ('prod 96', 5)]"
      ]
     },
     "execution_count": 43,
     "metadata": {},
     "output_type": "execute_result"
    }
   ],
   "source": [
    "%%sql\n",
    "\n",
    "SELECT po.produto, count(DISTINCT co.ID_CLIENTE)\n",
    "FROM compras co\n",
    "JOIN produtos as po on co.ID_PRODUTO = po.ID\n",
    "JOIN (\n",
    "    SELECT cl3.ID\n",
    "    FROM clientes cl3\n",
    "    JOIN compras AS co3\n",
    "    ON co3.ID_CLIENTE = cl3.ID\n",
    "    JOIN produtos as po3\n",
    "    ON co3.ID_PRODUTO = po3.ID\n",
    "    group by cl3.nome, cl3.id\n",
    "    ORDER BY sum(po3.preço) DESC\n",
    "    LIMIT 1\n",
    ") q1\n",
    "JOIN(\n",
    "    SELECT co2.id_PRODUTO, co2.ID_CLIENTE\n",
    "    FROM compras AS co2\n",
    "    GROUP BY co2.id_PRODUTO, co2.ID_CLIENTE\n",
    ") q2 ON co.ID_PRODUTO = q2.ID_PRODUTO AND q2.ID_CLIENTE = q1.ID\n",
    "GROUP by po.produto"
   ]
  },
  {
   "cell_type": "markdown",
   "metadata": {},
   "source": [
    "# With\n",
    "\n",
    "Muitas vezes fica confuso ficar colocando várias subquerys no meio da query \n",
    "pricipal, ou você quer repetir ela, não quer ter que trocar alias e etc.\n",
    "\n",
    "Para resolver esses problemas, ou até outros, consulte a \n",
    "[documentação](https://www.sqlite.org/lang_with.html) para ver\n",
    "tudo o que ele é capaz, existe o `WITH`."
   ]
  },
  {
   "cell_type": "code",
   "execution_count": 44,
   "metadata": {
    "ExecuteTime": {
     "end_time": "2022-01-06T17:28:11.724261Z",
     "start_time": "2022-01-06T17:28:11.709270Z"
    }
   },
   "outputs": [
    {
     "name": "stdout",
     "output_type": "stream",
     "text": [
      " * sqlite:///TesteSQL.db\n",
      "Done.\n"
     ]
    },
    {
     "data": {
      "text/html": [
       "<table>\n",
       "    <tr>\n",
       "        <th>produto</th>\n",
       "        <th>count(DISTINCT co.ID_CLIENTE)</th>\n",
       "    </tr>\n",
       "    <tr>\n",
       "        <td>prod 03</td>\n",
       "        <td>3</td>\n",
       "    </tr>\n",
       "    <tr>\n",
       "        <td>prod 08</td>\n",
       "        <td>6</td>\n",
       "    </tr>\n",
       "    <tr>\n",
       "        <td>prod 10</td>\n",
       "        <td>5</td>\n",
       "    </tr>\n",
       "    <tr>\n",
       "        <td>prod 27</td>\n",
       "        <td>4</td>\n",
       "    </tr>\n",
       "    <tr>\n",
       "        <td>prod 29</td>\n",
       "        <td>5</td>\n",
       "    </tr>\n",
       "    <tr>\n",
       "        <td>prod 32</td>\n",
       "        <td>7</td>\n",
       "    </tr>\n",
       "    <tr>\n",
       "        <td>prod 36</td>\n",
       "        <td>8</td>\n",
       "    </tr>\n",
       "    <tr>\n",
       "        <td>prod 38</td>\n",
       "        <td>5</td>\n",
       "    </tr>\n",
       "    <tr>\n",
       "        <td>prod 40</td>\n",
       "        <td>7</td>\n",
       "    </tr>\n",
       "    <tr>\n",
       "        <td>prod 46</td>\n",
       "        <td>8</td>\n",
       "    </tr>\n",
       "    <tr>\n",
       "        <td>prod 47</td>\n",
       "        <td>3</td>\n",
       "    </tr>\n",
       "    <tr>\n",
       "        <td>prod 48</td>\n",
       "        <td>4</td>\n",
       "    </tr>\n",
       "    <tr>\n",
       "        <td>prod 52</td>\n",
       "        <td>4</td>\n",
       "    </tr>\n",
       "    <tr>\n",
       "        <td>prod 54</td>\n",
       "        <td>2</td>\n",
       "    </tr>\n",
       "    <tr>\n",
       "        <td>prod 59</td>\n",
       "        <td>4</td>\n",
       "    </tr>\n",
       "    <tr>\n",
       "        <td>prod 62</td>\n",
       "        <td>7</td>\n",
       "    </tr>\n",
       "    <tr>\n",
       "        <td>prod 68</td>\n",
       "        <td>2</td>\n",
       "    </tr>\n",
       "    <tr>\n",
       "        <td>prod 71</td>\n",
       "        <td>3</td>\n",
       "    </tr>\n",
       "    <tr>\n",
       "        <td>prod 72</td>\n",
       "        <td>4</td>\n",
       "    </tr>\n",
       "    <tr>\n",
       "        <td>prod 73</td>\n",
       "        <td>5</td>\n",
       "    </tr>\n",
       "    <tr>\n",
       "        <td>prod 74</td>\n",
       "        <td>7</td>\n",
       "    </tr>\n",
       "    <tr>\n",
       "        <td>prod 76</td>\n",
       "        <td>3</td>\n",
       "    </tr>\n",
       "    <tr>\n",
       "        <td>prod 77</td>\n",
       "        <td>4</td>\n",
       "    </tr>\n",
       "    <tr>\n",
       "        <td>prod 80</td>\n",
       "        <td>7</td>\n",
       "    </tr>\n",
       "    <tr>\n",
       "        <td>prod 81</td>\n",
       "        <td>4</td>\n",
       "    </tr>\n",
       "    <tr>\n",
       "        <td>prod 84</td>\n",
       "        <td>3</td>\n",
       "    </tr>\n",
       "    <tr>\n",
       "        <td>prod 92</td>\n",
       "        <td>6</td>\n",
       "    </tr>\n",
       "    <tr>\n",
       "        <td>prod 93</td>\n",
       "        <td>5</td>\n",
       "    </tr>\n",
       "    <tr>\n",
       "        <td>prod 96</td>\n",
       "        <td>5</td>\n",
       "    </tr>\n",
       "</table>"
      ],
      "text/plain": [
       "[('prod 03', 3),\n",
       " ('prod 08', 6),\n",
       " ('prod 10', 5),\n",
       " ('prod 27', 4),\n",
       " ('prod 29', 5),\n",
       " ('prod 32', 7),\n",
       " ('prod 36', 8),\n",
       " ('prod 38', 5),\n",
       " ('prod 40', 7),\n",
       " ('prod 46', 8),\n",
       " ('prod 47', 3),\n",
       " ('prod 48', 4),\n",
       " ('prod 52', 4),\n",
       " ('prod 54', 2),\n",
       " ('prod 59', 4),\n",
       " ('prod 62', 7),\n",
       " ('prod 68', 2),\n",
       " ('prod 71', 3),\n",
       " ('prod 72', 4),\n",
       " ('prod 73', 5),\n",
       " ('prod 74', 7),\n",
       " ('prod 76', 3),\n",
       " ('prod 77', 4),\n",
       " ('prod 80', 7),\n",
       " ('prod 81', 4),\n",
       " ('prod 84', 3),\n",
       " ('prod 92', 6),\n",
       " ('prod 93', 5),\n",
       " ('prod 96', 5)]"
      ]
     },
     "execution_count": 44,
     "metadata": {},
     "output_type": "execute_result"
    }
   ],
   "source": [
    "%%sql\n",
    "\n",
    "WITH q1 AS (\n",
    "    SELECT cl.ID\n",
    "    FROM clientes cl\n",
    "    JOIN compras AS co\n",
    "    ON co.ID_CLIENTE = cl.ID\n",
    "    JOIN produtos as po\n",
    "    ON co.ID_PRODUTO = po.ID\n",
    "    group by cl.nome, cl.id\n",
    "    ORDER BY sum(po.preço) DESC\n",
    "    LIMIT 1\n",
    "),\n",
    "q2 AS (\n",
    "    SELECT co.id_PRODUTO, co.ID_CLIENTE\n",
    "    FROM compras AS co\n",
    "    GROUP BY co.id_PRODUTO, co.ID_CLIENTE\n",
    ")\n",
    "SELECT po.produto, count(DISTINCT co.ID_CLIENTE)\n",
    "FROM compras co\n",
    "JOIN produtos as po on co.ID_PRODUTO = po.ID\n",
    "JOIN q1\n",
    "JOIN q2 ON co.ID_PRODUTO = q2.ID_PRODUTO AND q2.ID_CLIENTE = q1.ID\n",
    "GROUP by po.produto"
   ]
  },
  {
   "cell_type": "markdown",
   "metadata": {},
   "source": [
    "## Exercício 11\n",
    "\n",
    "Traga todos os clientes que compraram o produto que menos vendeu"
   ]
  },
  {
   "cell_type": "code",
   "execution_count": 45,
   "metadata": {},
   "outputs": [
    {
     "name": "stdout",
     "output_type": "stream",
     "text": [
      " * sqlite:///TesteSQL.db\n",
      "(sqlite3.OperationalError) near \"#todos\": syntax error\n",
      "[SQL: SELECT DISTINCT cl.nome, po.produto      #todos os clientes que compraram\n",
      "FROM clientes cl \n",
      "JOIN compras AS co\n",
      "ON co.ID_CLIENTE = cl.ID\n",
      "JOIN produtos as po\n",
      "ON co.ID_PRODUTO = po.ID \n",
      "WHERE co.ID_PRODUTO IN (             #colocar o mesmo no select\n",
      "SELECT  co2.ID_PRODUTO              #produto que menos vendeu\n",
      "    FROM clientes cl2\n",
      "    JOIN compras AS co2\n",
      "    ON co2.ID_CLIENTE = cl2.ID\n",
      "    JOIN produtos as po2\n",
      "    ON co2.ID_PRODUTO = po2.ID\n",
      "    group by po2.produto\n",
      "    order by  count(*)\n",
      "    limit 1\n",
      ")]\n",
      "(Background on this error at: https://sqlalche.me/e/14/e3q8)\n"
     ]
    }
   ],
   "source": [
    "%%sql\n",
    "\n",
    "\n",
    "    \n",
    "SELECT DISTINCT cl.nome, po.produto      #todos os clientes que compraram\n",
    "FROM clientes cl \n",
    "JOIN compras AS co\n",
    "ON co.ID_CLIENTE = cl.ID\n",
    "JOIN produtos as po\n",
    "ON co.ID_PRODUTO = po.ID \n",
    "WHERE co.ID_PRODUTO IN (             #colocar o mesmo no select\n",
    "SELECT  co2.ID_PRODUTO              #produto que menos vendeu\n",
    "    FROM clientes cl2\n",
    "    JOIN compras AS co2\n",
    "    ON co2.ID_CLIENTE = cl2.ID\n",
    "    JOIN produtos as po2\n",
    "    ON co2.ID_PRODUTO = po2.ID\n",
    "    group by po2.produto\n",
    "    order by  count(*)\n",
    "    limit 1\n",
    ")"
   ]
  },
  {
   "cell_type": "markdown",
   "metadata": {},
   "source": [
    "## Exercício 12\n",
    "\n",
    "Traga quanto gastou cada cliente que comprou o produto que menos vendeu"
   ]
  },
  {
   "cell_type": "code",
   "execution_count": 46,
   "metadata": {
    "scrolled": true
   },
   "outputs": [
    {
     "name": "stdout",
     "output_type": "stream",
     "text": [
      " * sqlite:///TesteSQL.db\n",
      "(sqlite3.OperationalError) near \"#produto\": syntax error\n",
      "[SQL: WITH quantidade_de_produto_mv as (         \n",
      "\tSELECT count(*) as qtd\n",
      "\tFROM compras AS co\n",
      "\tgroup by co.id_produto\n",
      "\torder by qtd\n",
      "\tlimit 1\t\n",
      "),\n",
      "produto_que_menos_vendeu AS (                                 #produto que menos vendeu\n",
      "\tSELECT co.ID_PRODUTO, count(*) as qtd\n",
      "\tFROM compras AS co\n",
      "\tgroup by co.id_produto\n",
      "\thaving qtd = (SELECT qtd from quantidade_de_produto_mv)\n",
      "),\n",
      "oq_cd_1_comprou as (                               #o que cada cliente comprou\n",
      "\tSELECT\n",
      "\t\tcl.nome, \n",
      "\t\tco.id_cliente,\n",
      "\t\tpo.produto,\n",
      "\t\tco.id_produto,\n",
      "\t\tpo.preço \n",
      "\tFROM clientes cl\n",
      "\tJOIN compras AS co ON co.ID_CLIENTE = cl.ID\n",
      "\tJOIN produtos as po ON co.ID_PRODUTO = po.ID\n",
      "), quanto_cada_um_gastou as (                          #quanto gastou cada cliente\n",
      "   SELECT \n",
      "    id_cliente,\n",
      "    nome,\n",
      " \tsum(preço) as gasto\n",
      "   FROM oq_cd_1_comprou\n",
      "   group by id_cliente, nome\n",
      " )\n",
      " , quem_comprou_menos_vendeu as (               #quem comprou o que menos vendeu\n",
      "\tselect \n",
      " \tDISTINCT nome, id_cliente \n",
      " \tFROM oq_cd_1_comprou as occ\n",
      " \tJOIN produto_que_menos_vendeu as pmv ON occ.id_produto = pmv.id_produto\n",
      " )\n",
      "  SELECT                                  #quanto gastou cada cliente que comprou o produto que menos vendeu\n",
      "  qcmv.nome, qcmv.id_cliente, gasto\n",
      "  FROM quanto_cada_um_gastou as qcug\n",
      "  JOIN quem_comprou_menos_vendeu as qcmv ON   qcug.id_cliente = qcmv.id_cliente]\n",
      "(Background on this error at: https://sqlalche.me/e/14/e3q8)\n"
     ]
    }
   ],
   "source": [
    "%%sql\n",
    "\n",
    "WITH quantidade_de_produto_mv as (         \n",
    "\tSELECT count(*) as qtd\n",
    "\tFROM compras AS co\n",
    "\tgroup by co.id_produto\n",
    "\torder by qtd\n",
    "\tlimit 1\t\n",
    "),\n",
    "produto_que_menos_vendeu AS (                                 #produto que menos vendeu\n",
    "\tSELECT co.ID_PRODUTO, count(*) as qtd\n",
    "\tFROM compras AS co\n",
    "\tgroup by co.id_produto\n",
    "\thaving qtd = (SELECT qtd from quantidade_de_produto_mv)\n",
    "),\n",
    "oq_cd_1_comprou as (                               #o que cada cliente comprou\n",
    "\tSELECT\n",
    "\t\tcl.nome, \n",
    "\t\tco.id_cliente,\n",
    "\t\tpo.produto,\n",
    "\t\tco.id_produto,\n",
    "\t\tpo.preço \n",
    "\tFROM clientes cl\n",
    "\tJOIN compras AS co ON co.ID_CLIENTE = cl.ID\n",
    "\tJOIN produtos as po ON co.ID_PRODUTO = po.ID\n",
    "), quanto_cada_um_gastou as (                          #quanto gastou cada cliente\n",
    "   SELECT \n",
    "    id_cliente,\n",
    "    nome,\n",
    " \tsum(preço) as gasto\n",
    "   FROM oq_cd_1_comprou\n",
    "   group by id_cliente, nome\n",
    " )\n",
    " , quem_comprou_menos_vendeu as (               #quem comprou o que menos vendeu\n",
    "\tselect \n",
    " \tDISTINCT nome, id_cliente \n",
    " \tFROM oq_cd_1_comprou as occ\n",
    " \tJOIN produto_que_menos_vendeu as pmv ON occ.id_produto = pmv.id_produto\n",
    " )\n",
    "  SELECT                                  #quanto gastou cada cliente que comprou o produto que menos vendeu\n",
    "  qcmv.nome, qcmv.id_cliente, gasto\n",
    "  FROM quanto_cada_um_gastou as qcug\n",
    "  JOIN quem_comprou_menos_vendeu as qcmv ON   qcug.id_cliente = qcmv.id_cliente"
   ]
  },
  {
   "cell_type": "markdown",
   "metadata": {},
   "source": [
    "## Exercício 13\n",
    "\n",
    "Quanto em média os clientes gastaram?"
   ]
  },
  {
   "cell_type": "code",
   "execution_count": 47,
   "metadata": {},
   "outputs": [
    {
     "name": "stdout",
     "output_type": "stream",
     "text": [
      " * sqlite:///TesteSQL.db\n",
      "Done.\n"
     ]
    },
    {
     "data": {
      "text/html": [
       "<table>\n",
       "    <tr>\n",
       "        <th>média</th>\n",
       "    </tr>\n",
       "    <tr>\n",
       "        <td>114.05950000000018</td>\n",
       "    </tr>\n",
       "</table>"
      ],
      "text/plain": [
       "[(114.05950000000018,)]"
      ]
     },
     "execution_count": 47,
     "metadata": {},
     "output_type": "execute_result"
    }
   ],
   "source": [
    "%%sql\n",
    "\n",
    "SELECT sum(po.preço)/count(distinct co.id_cliente) as média\n",
    "FROM clientes cl \n",
    "JOIN compras AS co\n",
    "ON co.ID_CLIENTE = cl.ID\n",
    "JOIN produtos as po\n",
    "ON co.ID_PRODUTO = po.ID"
   ]
  },
  {
   "cell_type": "markdown",
   "metadata": {},
   "source": [
    "## Exercício 14\n",
    "\n",
    "Quanto em média gastou cada cliente?"
   ]
  },
  {
   "cell_type": "code",
   "execution_count": 48,
   "metadata": {
    "scrolled": true
   },
   "outputs": [
    {
     "name": "stdout",
     "output_type": "stream",
     "text": [
      " * sqlite:///TesteSQL.db\n",
      "Done.\n"
     ]
    },
    {
     "data": {
      "text/html": [
       "<table>\n",
       "    <tr>\n",
       "        <th>nome</th>\n",
       "        <th>média</th>\n",
       "    </tr>\n",
       "    <tr>\n",
       "        <td>Alexia Pinto</td>\n",
       "        <td>4.489615384615385</td>\n",
       "    </tr>\n",
       "    <tr>\n",
       "        <td>Antônio Fernandes</td>\n",
       "        <td>5.2105263157894735</td>\n",
       "    </tr>\n",
       "    <tr>\n",
       "        <td>Dr. João Gabriel Araújo</td>\n",
       "        <td>5.125357142857143</td>\n",
       "    </tr>\n",
       "    <tr>\n",
       "        <td>Isaac Monteiro</td>\n",
       "        <td>3.5699999999999994</td>\n",
       "    </tr>\n",
       "    <tr>\n",
       "        <td>Joana Porto</td>\n",
       "        <td>4.888400000000002</td>\n",
       "    </tr>\n",
       "    <tr>\n",
       "        <td>Letícia das Neves</td>\n",
       "        <td>3.5749999999999997</td>\n",
       "    </tr>\n",
       "    <tr>\n",
       "        <td>Lucca Vieira</td>\n",
       "        <td>3.5070833333333336</td>\n",
       "    </tr>\n",
       "    <tr>\n",
       "        <td>Luigi Cunha</td>\n",
       "        <td>4.680000000000001</td>\n",
       "    </tr>\n",
       "    <tr>\n",
       "        <td>Luigi Moreira</td>\n",
       "        <td>4.5396875</td>\n",
       "    </tr>\n",
       "    <tr>\n",
       "        <td>Luiza Alves</td>\n",
       "        <td>5.287916666666667</td>\n",
       "    </tr>\n",
       "    <tr>\n",
       "        <td>Marcos Vinicius Araújo</td>\n",
       "        <td>4.610434782608695</td>\n",
       "    </tr>\n",
       "    <tr>\n",
       "        <td>Maria Fernanda Silveira</td>\n",
       "        <td>5.498181818181818</td>\n",
       "    </tr>\n",
       "    <tr>\n",
       "        <td>Nina Lima</td>\n",
       "        <td>4.471176470588235</td>\n",
       "    </tr>\n",
       "    <tr>\n",
       "        <td>Otávio das Neves</td>\n",
       "        <td>4.242692307692307</td>\n",
       "    </tr>\n",
       "    <tr>\n",
       "        <td>Pedro Henrique Ferreira</td>\n",
       "        <td>5.512105263157895</td>\n",
       "    </tr>\n",
       "    <tr>\n",
       "        <td>Pedro Pinto</td>\n",
       "        <td>4.628888888888889</td>\n",
       "    </tr>\n",
       "    <tr>\n",
       "        <td>Sr. Breno da Cruz</td>\n",
       "        <td>4.30578947368421</td>\n",
       "    </tr>\n",
       "    <tr>\n",
       "        <td>Sr. João Melo</td>\n",
       "        <td>4.334193548387097</td>\n",
       "    </tr>\n",
       "    <tr>\n",
       "        <td>Srta. Sophie Pires</td>\n",
       "        <td>4.904</td>\n",
       "    </tr>\n",
       "    <tr>\n",
       "        <td>Vitor Hugo Moraes</td>\n",
       "        <td>4.046923076923077</td>\n",
       "    </tr>\n",
       "</table>"
      ],
      "text/plain": [
       "[('Alexia Pinto', 4.489615384615385),\n",
       " ('Antônio Fernandes', 5.2105263157894735),\n",
       " ('Dr. João Gabriel Araújo', 5.125357142857143),\n",
       " ('Isaac Monteiro', 3.5699999999999994),\n",
       " ('Joana Porto', 4.888400000000002),\n",
       " ('Letícia das Neves', 3.5749999999999997),\n",
       " ('Lucca Vieira', 3.5070833333333336),\n",
       " ('Luigi Cunha', 4.680000000000001),\n",
       " ('Luigi Moreira', 4.5396875),\n",
       " ('Luiza Alves', 5.287916666666667),\n",
       " ('Marcos Vinicius Araújo', 4.610434782608695),\n",
       " ('Maria Fernanda Silveira', 5.498181818181818),\n",
       " ('Nina Lima', 4.471176470588235),\n",
       " ('Otávio das Neves', 4.242692307692307),\n",
       " ('Pedro Henrique Ferreira', 5.512105263157895),\n",
       " ('Pedro Pinto', 4.628888888888889),\n",
       " ('Sr. Breno da Cruz', 4.30578947368421),\n",
       " ('Sr. João Melo', 4.334193548387097),\n",
       " ('Srta. Sophie Pires', 4.904),\n",
       " ('Vitor Hugo Moraes', 4.046923076923077)]"
      ]
     },
     "execution_count": 48,
     "metadata": {},
     "output_type": "execute_result"
    }
   ],
   "source": [
    "%%sql\n",
    "\n",
    "SELECT cl.nome, sum(po.preço)/count(*) as média\n",
    "FROM clientes cl \n",
    "JOIN compras AS co\n",
    "ON co.ID_CLIENTE = cl.ID\n",
    "JOIN produtos as po\n",
    "ON co.ID_PRODUTO = po.ID\n",
    "group by cl.nome\n"
   ]
  },
  {
   "cell_type": "markdown",
   "metadata": {},
   "source": [
    "## Exercício 15\n",
    "\n",
    "Quantos clientes tem cada faixa etária (Agrupe por faixa de 10 anos)\n",
    "\n",
    "i.e.: \\[18 -> 19\\], \\[20 -> 29\\], \\[30 -> 39\\], ..."
   ]
  },
  {
   "cell_type": "code",
   "execution_count": 76,
   "metadata": {
    "ExecuteTime": {
     "end_time": "2021-12-28T13:54:57.477072Z",
     "start_time": "2021-12-28T13:54:57.467573Z"
    }
   },
   "outputs": [
    {
     "name": "stdout",
     "output_type": "stream",
     "text": [
      " * sqlite:///TesteSQL.db\n",
      "Done.\n"
     ]
    },
    {
     "data": {
      "text/html": [
       "<table>\n",
       "    <tr>\n",
       "        <th>faixa_etaria</th>\n",
       "        <th>count(*)</th>\n",
       "    </tr>\n",
       "    <tr>\n",
       "        <td>10</td>\n",
       "        <td>2</td>\n",
       "    </tr>\n",
       "    <tr>\n",
       "        <td>20</td>\n",
       "        <td>6</td>\n",
       "    </tr>\n",
       "    <tr>\n",
       "        <td>30</td>\n",
       "        <td>5</td>\n",
       "    </tr>\n",
       "    <tr>\n",
       "        <td>40</td>\n",
       "        <td>2</td>\n",
       "    </tr>\n",
       "    <tr>\n",
       "        <td>50</td>\n",
       "        <td>5</td>\n",
       "    </tr>\n",
       "</table>"
      ],
      "text/plain": [
       "[(10, 2), (20, 6), (30, 5), (40, 2), (50, 5)]"
      ]
     },
     "execution_count": 76,
     "metadata": {},
     "output_type": "execute_result"
    }
   ],
   "source": [
    "%%sql\n",
    "\n",
    "SELECT cast(idade/10 AS integer)*10 as faixa_etaria, count(*)\n",
    "FROM clientes cl\n",
    "group by faixa_etaria"
   ]
  },
  {
   "cell_type": "markdown",
   "metadata": {},
   "source": [
    "## Exercício 16\n",
    "\n",
    "Qual é o gasto médio para cada faixa etária?"
   ]
  },
  {
   "cell_type": "code",
   "execution_count": 50,
   "metadata": {},
   "outputs": [
    {
     "name": "stdout",
     "output_type": "stream",
     "text": [
      " * sqlite:///TesteSQL.db\n",
      "Done.\n"
     ]
    },
    {
     "data": {
      "text/html": [
       "<table>\n",
       "    <tr>\n",
       "        <th>faixa_etaria</th>\n",
       "        <th>gasto_médio</th>\n",
       "    </tr>\n",
       "    <tr>\n",
       "        <td>10</td>\n",
       "        <td>134.66499999999996</td>\n",
       "    </tr>\n",
       "    <tr>\n",
       "        <td>20</td>\n",
       "        <td>109.25166666666665</td>\n",
       "    </tr>\n",
       "    <tr>\n",
       "        <td>30</td>\n",
       "        <td>121.40600000000002</td>\n",
       "    </tr>\n",
       "    <tr>\n",
       "        <td>40</td>\n",
       "        <td>104.36000000000003</td>\n",
       "    </tr>\n",
       "    <tr>\n",
       "        <td>50</td>\n",
       "        <td>108.12</td>\n",
       "    </tr>\n",
       "</table>"
      ],
      "text/plain": [
       "[(10, 134.66499999999996),\n",
       " (20, 109.25166666666665),\n",
       " (30, 121.40600000000002),\n",
       " (40, 104.36000000000003),\n",
       " (50, 108.12)]"
      ]
     },
     "execution_count": 50,
     "metadata": {},
     "output_type": "execute_result"
    }
   ],
   "source": [
    "%%sql\n",
    "\n",
    "SELECT cast(idade/10 AS integer)*10 as faixa_etaria, sum(po.preço)/count(distinct co.id_cliente) as gasto_médio\n",
    "FROM clientes cl\n",
    "JOIN compras AS co\n",
    "ON co.ID_CLIENTE = cl.ID\n",
    "JOIN produtos as po\n",
    "ON co.ID_PRODUTO = po.ID\n",
    "group by faixa_etaria"
   ]
  },
  {
   "cell_type": "markdown",
   "metadata": {},
   "source": [
    "## Exercício 17\n",
    "\n",
    "Quais foram os 5 produtos que mais venderam na faixa etária que teve maior\n",
    "gasto médio?"
   ]
  },
  {
   "cell_type": "code",
   "execution_count": 57,
   "metadata": {},
   "outputs": [
    {
     "name": "stdout",
     "output_type": "stream",
     "text": [
      " * sqlite:///TesteSQL.db\n",
      "Done.\n"
     ]
    },
    {
     "data": {
      "text/html": [
       "<table>\n",
       "    <tr>\n",
       "        <th>produto</th>\n",
       "        <th>count(*)</th>\n",
       "    </tr>\n",
       "    <tr>\n",
       "        <td>prod 26</td>\n",
       "        <td>12</td>\n",
       "    </tr>\n",
       "    <tr>\n",
       "        <td>prod 62</td>\n",
       "        <td>10</td>\n",
       "    </tr>\n",
       "    <tr>\n",
       "        <td>prod 46</td>\n",
       "        <td>10</td>\n",
       "    </tr>\n",
       "    <tr>\n",
       "        <td>prod 40</td>\n",
       "        <td>9</td>\n",
       "    </tr>\n",
       "    <tr>\n",
       "        <td>prod 36</td>\n",
       "        <td>9</td>\n",
       "    </tr>\n",
       "</table>"
      ],
      "text/plain": [
       "[('prod 26', 12),\n",
       " ('prod 62', 10),\n",
       " ('prod 46', 10),\n",
       " ('prod 40', 9),\n",
       " ('prod 36', 9)]"
      ]
     },
     "execution_count": 57,
     "metadata": {},
     "output_type": "execute_result"
    }
   ],
   "source": [
    "%%sql\n",
    "\n",
    "SELECT po.produto, count(*)            #5 produtos que mais venderam\n",
    "FROM clientes cl\n",
    "JOIN compras AS co\n",
    "ON co.ID_CLIENTE = cl.ID\n",
    "JOIN produtos as po\n",
    "ON co.ID_PRODUTO = po.ID\n",
    "group by po.produto\n",
    "order by  count(*) DESC\n",
    "limit 5\n",
    "\n",
    "\n",
    "SELECT cast(idade/10 AS integer)*10 as faixa_etaria, sum(po.preço)/count(distinct co.id_cliente) as gasto_médio   # MAIOR GASTO MÉDIO\n",
    "FROM clientes cl\n",
    "JOIN compras AS co\n",
    "ON co.ID_CLIENTE = cl.ID\n",
    "JOIN produtos as po\n",
    "ON co.ID_PRODUTO = po.ID\n",
    "group by faixa_etaria\n",
    "order by gasto_médio DESC\n",
    "limit 1\n",
    "\n",
    "\n"
   ]
  },
  {
   "cell_type": "markdown",
   "metadata": {},
   "source": [
    "## Exercício 18\n",
    "\n",
    "Quais foram os 5 produtos que mais venderam na faixa etária que teve maior\n",
    "gasto absoluto?"
   ]
  },
  {
   "cell_type": "code",
   "execution_count": 75,
   "metadata": {},
   "outputs": [
    {
     "name": "stdout",
     "output_type": "stream",
     "text": [
      " * sqlite:///TesteSQL.db\n",
      "(sqlite3.OperationalError) near \"#5\": syntax error\n",
      "[SQL: SELECT po.produto, count(*) #5 produtos que mais venderam\n",
      "FROM clientes cl\n",
      "JOIN compras AS co\n",
      "ON co.ID_CLIENTE = cl.ID\n",
      "JOIN produtos as po\n",
      "ON co.ID_PRODUTO = po.ID\n",
      "group by po.produto\n",
      "order by  count(*) DESC\n",
      "limit 5\n",
      "\n",
      "\n",
      "\n",
      "\n",
      "SELECT cast(idade/10 AS integer)*10 as faixa_etaria, sum(po.preço) as gasto_absoluto   #MAIOR GASTO ABSOLUTO\n",
      "FROM clientes cl\n",
      "JOIN compras AS co\n",
      "ON co.ID_CLIENTE = cl.ID\n",
      "JOIN produtos as po\n",
      "ON co.ID_PRODUTO = po.ID\n",
      "group by faixa_etaria\n",
      "order by gasto_absoluto DESC\n",
      "limit 1]\n",
      "(Background on this error at: https://sqlalche.me/e/14/e3q8)\n"
     ]
    }
   ],
   "source": [
    "%%sql\n",
    "\n",
    "SELECT po.produto, count(*)            #5 produtos que mais venderam\n",
    "FROM clientes cl\n",
    "JOIN compras AS co\n",
    "ON co.ID_CLIENTE = cl.ID\n",
    "JOIN produtos as po\n",
    "ON co.ID_PRODUTO = po.ID\n",
    "group by po.produto\n",
    "order by  count(*) DESC\n",
    "limit 5\n",
    "\n",
    "\n",
    "\n",
    "\n",
    "SELECT cast(idade/10 AS integer)*10 as faixa_etaria, sum(po.preço) as gasto_absoluto   #MAIOR GASTO ABSOLUTO\n",
    "FROM clientes cl\n",
    "JOIN compras AS co\n",
    "ON co.ID_CLIENTE = cl.ID\n",
    "JOIN produtos as po\n",
    "ON co.ID_PRODUTO = po.ID\n",
    "group by faixa_etaria\n",
    "order by gasto_absoluto DESC\n",
    "limit 1"
   ]
  },
  {
   "cell_type": "markdown",
   "metadata": {},
   "source": [
    "# Desafio\n",
    "\n",
    "Para cada compra acima de 5 reais, os clientes vão ganhar um número para o\n",
    "sorteio para cada 5 reais, salve esse número no banco e associe com o cliente\n",
    "\n",
    "Exemplo, eu gastei 20 reais, vou ganhar 4 números, por exemplo 20, 21, 22 e 23\n",
    "\n",
    "O primeiro lugar no sorteio vai ser um carro, o segundo uma geladeira\n",
    "e o terceiro um microondas\n",
    "\n",
    "E então sorteie e imprima na tela um e-mail para os três vencedores no formato:\n",
    "\n",
    "\n",
    "```\n",
    "Para : [e-mail]\n",
    "Assunto: Parabéns, o número [número] foi sortedo\n",
    "\n",
    "Corpo: Parabéns Sr(a). [nome], você acaba de ganhar um(a) [item] no nosso sorteio\n",
    "```\n",
    "Para esse desafio você pode usar a linguagem `Python` além do `SQL`, \n",
    "mas tente usar o banco sempre que possível\n",
    "\n",
    "Lembre-se do\n",
    "\n",
    "```python\n",
    "df = pd.read_sql('SELECT * FROM clientes', db)\n",
    "```"
   ]
  },
  {
   "cell_type": "code",
   "execution_count": 83,
   "metadata": {},
   "outputs": [
    {
     "name": "stdout",
     "output_type": "stream",
     "text": [
      " * sqlite:///TesteSQL.db\n",
      "Done.\n"
     ]
    },
    {
     "data": {
      "text/html": [
       "<table>\n",
       "    <tr>\n",
       "        <th>produto</th>\n",
       "        <th>preço</th>\n",
       "    </tr>\n",
       "    <tr>\n",
       "        <td>prod 00</td>\n",
       "        <td>8.35</td>\n",
       "    </tr>\n",
       "    <tr>\n",
       "        <td>prod 01</td>\n",
       "        <td>9.53</td>\n",
       "    </tr>\n",
       "    <tr>\n",
       "        <td>prod 03</td>\n",
       "        <td>7.43</td>\n",
       "    </tr>\n",
       "    <tr>\n",
       "        <td>prod 05</td>\n",
       "        <td>6.5</td>\n",
       "    </tr>\n",
       "    <tr>\n",
       "        <td>prod 06</td>\n",
       "        <td>9.81</td>\n",
       "    </tr>\n",
       "    <tr>\n",
       "        <td>prod 08</td>\n",
       "        <td>6.78</td>\n",
       "    </tr>\n",
       "    <tr>\n",
       "        <td>prod 09</td>\n",
       "        <td>6.52</td>\n",
       "    </tr>\n",
       "    <tr>\n",
       "        <td>prod 10</td>\n",
       "        <td>9.63</td>\n",
       "    </tr>\n",
       "    <tr>\n",
       "        <td>prod 11</td>\n",
       "        <td>5.5</td>\n",
       "    </tr>\n",
       "    <tr>\n",
       "        <td>prod 13</td>\n",
       "        <td>7.87</td>\n",
       "    </tr>\n",
       "    <tr>\n",
       "        <td>prod 14</td>\n",
       "        <td>8.19</td>\n",
       "    </tr>\n",
       "    <tr>\n",
       "        <td>prod 16</td>\n",
       "        <td>9.69</td>\n",
       "    </tr>\n",
       "    <tr>\n",
       "        <td>prod 19</td>\n",
       "        <td>8.87</td>\n",
       "    </tr>\n",
       "    <tr>\n",
       "        <td>prod 22</td>\n",
       "        <td>7.11</td>\n",
       "    </tr>\n",
       "    <tr>\n",
       "        <td>prod 25</td>\n",
       "        <td>6.57</td>\n",
       "    </tr>\n",
       "    <tr>\n",
       "        <td>prod 30</td>\n",
       "        <td>7.52</td>\n",
       "    </tr>\n",
       "    <tr>\n",
       "        <td>prod 36</td>\n",
       "        <td>7.86</td>\n",
       "    </tr>\n",
       "    <tr>\n",
       "        <td>prod 37</td>\n",
       "        <td>7.97</td>\n",
       "    </tr>\n",
       "    <tr>\n",
       "        <td>prod 39</td>\n",
       "        <td>7.62</td>\n",
       "    </tr>\n",
       "    <tr>\n",
       "        <td>prod 40</td>\n",
       "        <td>7.05</td>\n",
       "    </tr>\n",
       "    <tr>\n",
       "        <td>prod 41</td>\n",
       "        <td>7.26</td>\n",
       "    </tr>\n",
       "    <tr>\n",
       "        <td>prod 46</td>\n",
       "        <td>7.65</td>\n",
       "    </tr>\n",
       "    <tr>\n",
       "        <td>prod 48</td>\n",
       "        <td>7.25</td>\n",
       "    </tr>\n",
       "    <tr>\n",
       "        <td>prod 54</td>\n",
       "        <td>6.14</td>\n",
       "    </tr>\n",
       "    <tr>\n",
       "        <td>prod 55</td>\n",
       "        <td>8.66</td>\n",
       "    </tr>\n",
       "    <tr>\n",
       "        <td>prod 57</td>\n",
       "        <td>8.22</td>\n",
       "    </tr>\n",
       "    <tr>\n",
       "        <td>prod 58</td>\n",
       "        <td>8.94</td>\n",
       "    </tr>\n",
       "    <tr>\n",
       "        <td>prod 59</td>\n",
       "        <td>5.95</td>\n",
       "    </tr>\n",
       "    <tr>\n",
       "        <td>prod 63</td>\n",
       "        <td>5.66</td>\n",
       "    </tr>\n",
       "    <tr>\n",
       "        <td>prod 64</td>\n",
       "        <td>9.68</td>\n",
       "    </tr>\n",
       "    <tr>\n",
       "        <td>prod 67</td>\n",
       "        <td>8.47</td>\n",
       "    </tr>\n",
       "    <tr>\n",
       "        <td>prod 72</td>\n",
       "        <td>9.7</td>\n",
       "    </tr>\n",
       "    <tr>\n",
       "        <td>prod 77</td>\n",
       "        <td>8.48</td>\n",
       "    </tr>\n",
       "    <tr>\n",
       "        <td>prod 80</td>\n",
       "        <td>5.31</td>\n",
       "    </tr>\n",
       "    <tr>\n",
       "        <td>prod 81</td>\n",
       "        <td>6.76</td>\n",
       "    </tr>\n",
       "    <tr>\n",
       "        <td>prod 83</td>\n",
       "        <td>6.25</td>\n",
       "    </tr>\n",
       "    <tr>\n",
       "        <td>prod 86</td>\n",
       "        <td>7.21</td>\n",
       "    </tr>\n",
       "    <tr>\n",
       "        <td>prod 88</td>\n",
       "        <td>5.76</td>\n",
       "    </tr>\n",
       "    <tr>\n",
       "        <td>prod 93</td>\n",
       "        <td>5.83</td>\n",
       "    </tr>\n",
       "    <tr>\n",
       "        <td>prod 94</td>\n",
       "        <td>8.19</td>\n",
       "    </tr>\n",
       "    <tr>\n",
       "        <td>prod 95</td>\n",
       "        <td>9.39</td>\n",
       "    </tr>\n",
       "    <tr>\n",
       "        <td>prod 96</td>\n",
       "        <td>8.39</td>\n",
       "    </tr>\n",
       "    <tr>\n",
       "        <td>prod 99</td>\n",
       "        <td>5.1</td>\n",
       "    </tr>\n",
       "</table>"
      ],
      "text/plain": [
       "[('prod 00', 8.35),\n",
       " ('prod 01', 9.53),\n",
       " ('prod 03', 7.43),\n",
       " ('prod 05', 6.5),\n",
       " ('prod 06', 9.81),\n",
       " ('prod 08', 6.78),\n",
       " ('prod 09', 6.52),\n",
       " ('prod 10', 9.63),\n",
       " ('prod 11', 5.5),\n",
       " ('prod 13', 7.87),\n",
       " ('prod 14', 8.19),\n",
       " ('prod 16', 9.69),\n",
       " ('prod 19', 8.87),\n",
       " ('prod 22', 7.11),\n",
       " ('prod 25', 6.57),\n",
       " ('prod 30', 7.52),\n",
       " ('prod 36', 7.86),\n",
       " ('prod 37', 7.97),\n",
       " ('prod 39', 7.62),\n",
       " ('prod 40', 7.05),\n",
       " ('prod 41', 7.26),\n",
       " ('prod 46', 7.65),\n",
       " ('prod 48', 7.25),\n",
       " ('prod 54', 6.14),\n",
       " ('prod 55', 8.66),\n",
       " ('prod 57', 8.22),\n",
       " ('prod 58', 8.94),\n",
       " ('prod 59', 5.95),\n",
       " ('prod 63', 5.66),\n",
       " ('prod 64', 9.68),\n",
       " ('prod 67', 8.47),\n",
       " ('prod 72', 9.7),\n",
       " ('prod 77', 8.48),\n",
       " ('prod 80', 5.31),\n",
       " ('prod 81', 6.76),\n",
       " ('prod 83', 6.25),\n",
       " ('prod 86', 7.21),\n",
       " ('prod 88', 5.76),\n",
       " ('prod 93', 5.83),\n",
       " ('prod 94', 8.19),\n",
       " ('prod 95', 9.39),\n",
       " ('prod 96', 8.39),\n",
       " ('prod 99', 5.1)]"
      ]
     },
     "execution_count": 83,
     "metadata": {},
     "output_type": "execute_result"
    }
   ],
   "source": [
    "%%sql\n",
    "\n",
    "SELECT produto, preço \n",
    "FROM produtos \n",
    "WHERE preço>5"
   ]
  },
  {
   "cell_type": "code",
   "execution_count": null,
   "metadata": {},
   "outputs": [],
   "source": []
  },
  {
   "cell_type": "code",
   "execution_count": null,
   "metadata": {},
   "outputs": [],
   "source": []
  }
 ],
 "metadata": {
  "kernelspec": {
   "display_name": "Python 3 (ipykernel)",
   "language": "python",
   "name": "python3"
  },
  "language_info": {
   "codemirror_mode": {
    "name": "ipython",
    "version": 3
   },
   "file_extension": ".py",
   "mimetype": "text/x-python",
   "name": "python",
   "nbconvert_exporter": "python",
   "pygments_lexer": "ipython3",
   "version": "3.9.7"
  },
  "varInspector": {
   "cols": {
    "lenName": 16,
    "lenType": 16,
    "lenVar": 40
   },
   "kernels_config": {
    "python": {
     "delete_cmd_postfix": "",
     "delete_cmd_prefix": "del ",
     "library": "var_list.py",
     "varRefreshCmd": "print(var_dic_list())"
    },
    "r": {
     "delete_cmd_postfix": ") ",
     "delete_cmd_prefix": "rm(",
     "library": "var_list.r",
     "varRefreshCmd": "cat(var_dic_list()) "
    }
   },
   "types_to_exclude": [
    "module",
    "function",
    "builtin_function_or_method",
    "instance",
    "_Feature"
   ],
   "window_display": false
  }
 },
 "nbformat": 4,
 "nbformat_minor": 4
}
